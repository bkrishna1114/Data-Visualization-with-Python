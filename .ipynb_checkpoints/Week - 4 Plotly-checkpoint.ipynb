{
 "cells": [
  {
   "cell_type": "code",
   "execution_count": 4,
   "id": "416656db",
   "metadata": {},
   "outputs": [
    {
     "name": "stdout",
     "output_type": "stream",
     "text": [
      "Collecting plotly\n",
      "  Downloading plotly-5.10.0-py2.py3-none-any.whl (15.2 MB)\n",
      "Collecting tenacity>=6.2.0\n",
      "  Downloading tenacity-8.1.0-py3-none-any.whl (23 kB)\n",
      "Installing collected packages: tenacity, plotly\n",
      "Successfully installed plotly-5.10.0 tenacity-8.1.0\n"
     ]
    }
   ],
   "source": [
    "!pip install plotly"
   ]
  },
  {
   "cell_type": "code",
   "execution_count": 14,
   "id": "fe6009a7",
   "metadata": {},
   "outputs": [],
   "source": [
    "import pandas as pd\n",
    "from plotly import express as px\n",
    "from plotly import graph_objects as go"
   ]
  },
  {
   "cell_type": "code",
   "execution_count": 2,
   "id": "c0b06822",
   "metadata": {},
   "outputs": [],
   "source": [
    "airline_data =  pd.read_csv('https://cf-courses-data.s3.us.cloud-object-storage.appdomain.cloud/IBMDeveloperSkillsNetwork-DV0101EN-SkillsNetwork/Data%20Files/airline_data.csv', \n",
    "                            encoding = \"ISO-8859-1\",\n",
    "                            dtype={'Div1Airport': str, 'Div1TailNum': str, \n",
    "                                   'Div2Airport': str, 'Div2TailNum': str})"
   ]
  },
  {
   "cell_type": "code",
   "execution_count": 4,
   "id": "01f2680c",
   "metadata": {},
   "outputs": [
    {
     "data": {
      "text/html": [
       "<div>\n",
       "<style scoped>\n",
       "    .dataframe tbody tr th:only-of-type {\n",
       "        vertical-align: middle;\n",
       "    }\n",
       "\n",
       "    .dataframe tbody tr th {\n",
       "        vertical-align: top;\n",
       "    }\n",
       "\n",
       "    .dataframe thead th {\n",
       "        text-align: right;\n",
       "    }\n",
       "</style>\n",
       "<table border=\"1\" class=\"dataframe\">\n",
       "  <thead>\n",
       "    <tr style=\"text-align: right;\">\n",
       "      <th></th>\n",
       "      <th>Unnamed: 0</th>\n",
       "      <th>Year</th>\n",
       "      <th>Quarter</th>\n",
       "      <th>Month</th>\n",
       "      <th>DayofMonth</th>\n",
       "      <th>DayOfWeek</th>\n",
       "      <th>FlightDate</th>\n",
       "      <th>Reporting_Airline</th>\n",
       "      <th>DOT_ID_Reporting_Airline</th>\n",
       "      <th>IATA_CODE_Reporting_Airline</th>\n",
       "      <th>...</th>\n",
       "      <th>Div4WheelsOff</th>\n",
       "      <th>Div4TailNum</th>\n",
       "      <th>Div5Airport</th>\n",
       "      <th>Div5AirportID</th>\n",
       "      <th>Div5AirportSeqID</th>\n",
       "      <th>Div5WheelsOn</th>\n",
       "      <th>Div5TotalGTime</th>\n",
       "      <th>Div5LongestGTime</th>\n",
       "      <th>Div5WheelsOff</th>\n",
       "      <th>Div5TailNum</th>\n",
       "    </tr>\n",
       "  </thead>\n",
       "  <tbody>\n",
       "    <tr>\n",
       "      <th>0</th>\n",
       "      <td>1295781</td>\n",
       "      <td>1998</td>\n",
       "      <td>2</td>\n",
       "      <td>4</td>\n",
       "      <td>2</td>\n",
       "      <td>4</td>\n",
       "      <td>1998-04-02</td>\n",
       "      <td>AS</td>\n",
       "      <td>19930</td>\n",
       "      <td>AS</td>\n",
       "      <td>...</td>\n",
       "      <td>NaN</td>\n",
       "      <td>NaN</td>\n",
       "      <td>NaN</td>\n",
       "      <td>NaN</td>\n",
       "      <td>NaN</td>\n",
       "      <td>NaN</td>\n",
       "      <td>NaN</td>\n",
       "      <td>NaN</td>\n",
       "      <td>NaN</td>\n",
       "      <td>NaN</td>\n",
       "    </tr>\n",
       "    <tr>\n",
       "      <th>1</th>\n",
       "      <td>1125375</td>\n",
       "      <td>2013</td>\n",
       "      <td>2</td>\n",
       "      <td>5</td>\n",
       "      <td>13</td>\n",
       "      <td>1</td>\n",
       "      <td>2013-05-13</td>\n",
       "      <td>EV</td>\n",
       "      <td>20366</td>\n",
       "      <td>EV</td>\n",
       "      <td>...</td>\n",
       "      <td>NaN</td>\n",
       "      <td>NaN</td>\n",
       "      <td>NaN</td>\n",
       "      <td>NaN</td>\n",
       "      <td>NaN</td>\n",
       "      <td>NaN</td>\n",
       "      <td>NaN</td>\n",
       "      <td>NaN</td>\n",
       "      <td>NaN</td>\n",
       "      <td>NaN</td>\n",
       "    </tr>\n",
       "    <tr>\n",
       "      <th>2</th>\n",
       "      <td>118824</td>\n",
       "      <td>1993</td>\n",
       "      <td>3</td>\n",
       "      <td>9</td>\n",
       "      <td>25</td>\n",
       "      <td>6</td>\n",
       "      <td>1993-09-25</td>\n",
       "      <td>UA</td>\n",
       "      <td>19977</td>\n",
       "      <td>UA</td>\n",
       "      <td>...</td>\n",
       "      <td>NaN</td>\n",
       "      <td>NaN</td>\n",
       "      <td>NaN</td>\n",
       "      <td>NaN</td>\n",
       "      <td>NaN</td>\n",
       "      <td>NaN</td>\n",
       "      <td>NaN</td>\n",
       "      <td>NaN</td>\n",
       "      <td>NaN</td>\n",
       "      <td>NaN</td>\n",
       "    </tr>\n",
       "    <tr>\n",
       "      <th>3</th>\n",
       "      <td>634825</td>\n",
       "      <td>1994</td>\n",
       "      <td>4</td>\n",
       "      <td>11</td>\n",
       "      <td>12</td>\n",
       "      <td>6</td>\n",
       "      <td>1994-11-12</td>\n",
       "      <td>HP</td>\n",
       "      <td>19991</td>\n",
       "      <td>HP</td>\n",
       "      <td>...</td>\n",
       "      <td>NaN</td>\n",
       "      <td>NaN</td>\n",
       "      <td>NaN</td>\n",
       "      <td>NaN</td>\n",
       "      <td>NaN</td>\n",
       "      <td>NaN</td>\n",
       "      <td>NaN</td>\n",
       "      <td>NaN</td>\n",
       "      <td>NaN</td>\n",
       "      <td>NaN</td>\n",
       "    </tr>\n",
       "    <tr>\n",
       "      <th>4</th>\n",
       "      <td>1888125</td>\n",
       "      <td>2017</td>\n",
       "      <td>3</td>\n",
       "      <td>8</td>\n",
       "      <td>17</td>\n",
       "      <td>4</td>\n",
       "      <td>2017-08-17</td>\n",
       "      <td>UA</td>\n",
       "      <td>19977</td>\n",
       "      <td>UA</td>\n",
       "      <td>...</td>\n",
       "      <td>NaN</td>\n",
       "      <td>NaN</td>\n",
       "      <td>NaN</td>\n",
       "      <td>NaN</td>\n",
       "      <td>NaN</td>\n",
       "      <td>NaN</td>\n",
       "      <td>NaN</td>\n",
       "      <td>NaN</td>\n",
       "      <td>NaN</td>\n",
       "      <td>NaN</td>\n",
       "    </tr>\n",
       "  </tbody>\n",
       "</table>\n",
       "<p>5 rows × 110 columns</p>\n",
       "</div>"
      ],
      "text/plain": [
       "   Unnamed: 0  Year  Quarter  Month  DayofMonth  DayOfWeek  FlightDate  \\\n",
       "0     1295781  1998        2      4           2          4  1998-04-02   \n",
       "1     1125375  2013        2      5          13          1  2013-05-13   \n",
       "2      118824  1993        3      9          25          6  1993-09-25   \n",
       "3      634825  1994        4     11          12          6  1994-11-12   \n",
       "4     1888125  2017        3      8          17          4  2017-08-17   \n",
       "\n",
       "  Reporting_Airline  DOT_ID_Reporting_Airline IATA_CODE_Reporting_Airline  \\\n",
       "0                AS                     19930                          AS   \n",
       "1                EV                     20366                          EV   \n",
       "2                UA                     19977                          UA   \n",
       "3                HP                     19991                          HP   \n",
       "4                UA                     19977                          UA   \n",
       "\n",
       "   ... Div4WheelsOff  Div4TailNum  Div5Airport  Div5AirportID  \\\n",
       "0  ...           NaN          NaN          NaN            NaN   \n",
       "1  ...           NaN          NaN          NaN            NaN   \n",
       "2  ...           NaN          NaN          NaN            NaN   \n",
       "3  ...           NaN          NaN          NaN            NaN   \n",
       "4  ...           NaN          NaN          NaN            NaN   \n",
       "\n",
       "   Div5AirportSeqID Div5WheelsOn Div5TotalGTime Div5LongestGTime  \\\n",
       "0               NaN          NaN            NaN              NaN   \n",
       "1               NaN          NaN            NaN              NaN   \n",
       "2               NaN          NaN            NaN              NaN   \n",
       "3               NaN          NaN            NaN              NaN   \n",
       "4               NaN          NaN            NaN              NaN   \n",
       "\n",
       "   Div5WheelsOff Div5TailNum  \n",
       "0            NaN         NaN  \n",
       "1            NaN         NaN  \n",
       "2            NaN         NaN  \n",
       "3            NaN         NaN  \n",
       "4            NaN         NaN  \n",
       "\n",
       "[5 rows x 110 columns]"
      ]
     },
     "execution_count": 4,
     "metadata": {},
     "output_type": "execute_result"
    }
   ],
   "source": [
    "airline_data.head()"
   ]
  },
  {
   "cell_type": "code",
   "execution_count": 6,
   "id": "349b7030",
   "metadata": {},
   "outputs": [],
   "source": [
    "#Now we are selecting the 500 sample data from the data state\n",
    "\n",
    "df = airline_data.sample(1000,random_state=42)"
   ]
  },
  {
   "cell_type": "code",
   "execution_count": 7,
   "id": "78c83342",
   "metadata": {},
   "outputs": [
    {
     "data": {
      "text/plain": [
       "(1000, 110)"
      ]
     },
     "execution_count": 7,
     "metadata": {},
     "output_type": "execute_result"
    }
   ],
   "source": [
    "df.shape"
   ]
  },
  {
   "cell_type": "code",
   "execution_count": 8,
   "id": "fdf5853c",
   "metadata": {},
   "outputs": [
    {
     "data": {
      "text/html": [
       "<div>\n",
       "<style scoped>\n",
       "    .dataframe tbody tr th:only-of-type {\n",
       "        vertical-align: middle;\n",
       "    }\n",
       "\n",
       "    .dataframe tbody tr th {\n",
       "        vertical-align: top;\n",
       "    }\n",
       "\n",
       "    .dataframe thead th {\n",
       "        text-align: right;\n",
       "    }\n",
       "</style>\n",
       "<table border=\"1\" class=\"dataframe\">\n",
       "  <thead>\n",
       "    <tr style=\"text-align: right;\">\n",
       "      <th></th>\n",
       "      <th>Unnamed: 0</th>\n",
       "      <th>Year</th>\n",
       "      <th>Quarter</th>\n",
       "      <th>Month</th>\n",
       "      <th>DayofMonth</th>\n",
       "      <th>DayOfWeek</th>\n",
       "      <th>FlightDate</th>\n",
       "      <th>Reporting_Airline</th>\n",
       "      <th>DOT_ID_Reporting_Airline</th>\n",
       "      <th>IATA_CODE_Reporting_Airline</th>\n",
       "      <th>...</th>\n",
       "      <th>Div4WheelsOff</th>\n",
       "      <th>Div4TailNum</th>\n",
       "      <th>Div5Airport</th>\n",
       "      <th>Div5AirportID</th>\n",
       "      <th>Div5AirportSeqID</th>\n",
       "      <th>Div5WheelsOn</th>\n",
       "      <th>Div5TotalGTime</th>\n",
       "      <th>Div5LongestGTime</th>\n",
       "      <th>Div5WheelsOff</th>\n",
       "      <th>Div5TailNum</th>\n",
       "    </tr>\n",
       "  </thead>\n",
       "  <tbody>\n",
       "    <tr>\n",
       "      <th>5312</th>\n",
       "      <td>985989</td>\n",
       "      <td>2006</td>\n",
       "      <td>1</td>\n",
       "      <td>3</td>\n",
       "      <td>29</td>\n",
       "      <td>3</td>\n",
       "      <td>2006-03-29</td>\n",
       "      <td>OO</td>\n",
       "      <td>20304</td>\n",
       "      <td>OO</td>\n",
       "      <td>...</td>\n",
       "      <td>NaN</td>\n",
       "      <td>NaN</td>\n",
       "      <td>NaN</td>\n",
       "      <td>NaN</td>\n",
       "      <td>NaN</td>\n",
       "      <td>NaN</td>\n",
       "      <td>NaN</td>\n",
       "      <td>NaN</td>\n",
       "      <td>NaN</td>\n",
       "      <td>NaN</td>\n",
       "    </tr>\n",
       "    <tr>\n",
       "      <th>18357</th>\n",
       "      <td>1782939</td>\n",
       "      <td>1993</td>\n",
       "      <td>3</td>\n",
       "      <td>8</td>\n",
       "      <td>3</td>\n",
       "      <td>2</td>\n",
       "      <td>1993-08-03</td>\n",
       "      <td>DL</td>\n",
       "      <td>19790</td>\n",
       "      <td>DL</td>\n",
       "      <td>...</td>\n",
       "      <td>NaN</td>\n",
       "      <td>NaN</td>\n",
       "      <td>NaN</td>\n",
       "      <td>NaN</td>\n",
       "      <td>NaN</td>\n",
       "      <td>NaN</td>\n",
       "      <td>NaN</td>\n",
       "      <td>NaN</td>\n",
       "      <td>NaN</td>\n",
       "      <td>NaN</td>\n",
       "    </tr>\n",
       "    <tr>\n",
       "      <th>6428</th>\n",
       "      <td>84140</td>\n",
       "      <td>1989</td>\n",
       "      <td>3</td>\n",
       "      <td>7</td>\n",
       "      <td>3</td>\n",
       "      <td>1</td>\n",
       "      <td>1989-07-03</td>\n",
       "      <td>HP</td>\n",
       "      <td>19991</td>\n",
       "      <td>HP</td>\n",
       "      <td>...</td>\n",
       "      <td>NaN</td>\n",
       "      <td>NaN</td>\n",
       "      <td>NaN</td>\n",
       "      <td>NaN</td>\n",
       "      <td>NaN</td>\n",
       "      <td>NaN</td>\n",
       "      <td>NaN</td>\n",
       "      <td>NaN</td>\n",
       "      <td>NaN</td>\n",
       "      <td>NaN</td>\n",
       "    </tr>\n",
       "    <tr>\n",
       "      <th>15414</th>\n",
       "      <td>1839736</td>\n",
       "      <td>2008</td>\n",
       "      <td>4</td>\n",
       "      <td>10</td>\n",
       "      <td>10</td>\n",
       "      <td>5</td>\n",
       "      <td>2008-10-10</td>\n",
       "      <td>UA</td>\n",
       "      <td>19977</td>\n",
       "      <td>UA</td>\n",
       "      <td>...</td>\n",
       "      <td>NaN</td>\n",
       "      <td>NaN</td>\n",
       "      <td>NaN</td>\n",
       "      <td>NaN</td>\n",
       "      <td>NaN</td>\n",
       "      <td>NaN</td>\n",
       "      <td>NaN</td>\n",
       "      <td>NaN</td>\n",
       "      <td>NaN</td>\n",
       "      <td>NaN</td>\n",
       "    </tr>\n",
       "    <tr>\n",
       "      <th>10610</th>\n",
       "      <td>1622640</td>\n",
       "      <td>2010</td>\n",
       "      <td>1</td>\n",
       "      <td>2</td>\n",
       "      <td>19</td>\n",
       "      <td>5</td>\n",
       "      <td>2010-02-19</td>\n",
       "      <td>FL</td>\n",
       "      <td>20437</td>\n",
       "      <td>FL</td>\n",
       "      <td>...</td>\n",
       "      <td>NaN</td>\n",
       "      <td>NaN</td>\n",
       "      <td>NaN</td>\n",
       "      <td>NaN</td>\n",
       "      <td>NaN</td>\n",
       "      <td>NaN</td>\n",
       "      <td>NaN</td>\n",
       "      <td>NaN</td>\n",
       "      <td>NaN</td>\n",
       "      <td>NaN</td>\n",
       "    </tr>\n",
       "  </tbody>\n",
       "</table>\n",
       "<p>5 rows × 110 columns</p>\n",
       "</div>"
      ],
      "text/plain": [
       "       Unnamed: 0  Year  Quarter  Month  DayofMonth  DayOfWeek  FlightDate  \\\n",
       "5312       985989  2006        1      3          29          3  2006-03-29   \n",
       "18357     1782939  1993        3      8           3          2  1993-08-03   \n",
       "6428        84140  1989        3      7           3          1  1989-07-03   \n",
       "15414     1839736  2008        4     10          10          5  2008-10-10   \n",
       "10610     1622640  2010        1      2          19          5  2010-02-19   \n",
       "\n",
       "      Reporting_Airline  DOT_ID_Reporting_Airline IATA_CODE_Reporting_Airline  \\\n",
       "5312                 OO                     20304                          OO   \n",
       "18357                DL                     19790                          DL   \n",
       "6428                 HP                     19991                          HP   \n",
       "15414                UA                     19977                          UA   \n",
       "10610                FL                     20437                          FL   \n",
       "\n",
       "       ... Div4WheelsOff  Div4TailNum  Div5Airport  Div5AirportID  \\\n",
       "5312   ...           NaN          NaN          NaN            NaN   \n",
       "18357  ...           NaN          NaN          NaN            NaN   \n",
       "6428   ...           NaN          NaN          NaN            NaN   \n",
       "15414  ...           NaN          NaN          NaN            NaN   \n",
       "10610  ...           NaN          NaN          NaN            NaN   \n",
       "\n",
       "       Div5AirportSeqID Div5WheelsOn Div5TotalGTime Div5LongestGTime  \\\n",
       "5312                NaN          NaN            NaN              NaN   \n",
       "18357               NaN          NaN            NaN              NaN   \n",
       "6428                NaN          NaN            NaN              NaN   \n",
       "15414               NaN          NaN            NaN              NaN   \n",
       "10610               NaN          NaN            NaN              NaN   \n",
       "\n",
       "       Div5WheelsOff Div5TailNum  \n",
       "5312             NaN         NaN  \n",
       "18357            NaN         NaN  \n",
       "6428             NaN         NaN  \n",
       "15414            NaN         NaN  \n",
       "10610            NaN         NaN  \n",
       "\n",
       "[5 rows x 110 columns]"
      ]
     },
     "execution_count": 8,
     "metadata": {},
     "output_type": "execute_result"
    }
   ],
   "source": [
    "df.head()"
   ]
  },
  {
   "cell_type": "markdown",
   "id": "189ddf23",
   "metadata": {},
   "source": [
    "### Plotly Graph Objects..."
   ]
  },
  {
   "cell_type": "markdown",
   "id": "9722100b",
   "metadata": {},
   "source": [
    "### scatter plot"
   ]
  },
  {
   "cell_type": "code",
   "execution_count": 34,
   "id": "555f965e",
   "metadata": {},
   "outputs": [
    {
     "data": {
      "application/vnd.plotly.v1+json": {
       "config": {
        "plotlyServerURL": "https://plot.ly"
       },
       "data": [
        {
         "marker": {
          "color": "red"
         },
         "mode": "markers",
         "type": "scatter",
         "x": [
          109,
          732,
          117,
          1846,
          432,
          1532,
          2139,
          793,
          209,
          866,
          347,
          372,
          100,
          1589,
          264,
          2288,
          451,
          647,
          484,
          2036,
          395,
          936,
          324,
          200,
          237,
          280,
          812,
          1205,
          144,
          2401,
          369,
          336,
          1557,
          931,
          967,
          406,
          214,
          247,
          503,
          1009,
          938,
          95,
          419,
          185,
          1745,
          2565,
          547,
          992,
          569,
          375,
          271,
          246,
          113,
          977,
          1197,
          473,
          258,
          284,
          1237,
          314,
          397,
          1015,
          532,
          157,
          949,
          237,
          2338,
          338,
          155,
          228,
          395,
          1437,
          874,
          326,
          113,
          526,
          425,
          408,
          236,
          321,
          363,
          1827,
          545,
          1342,
          461,
          185,
          297,
          253,
          515,
          874,
          723,
          187,
          714,
          1050,
          317,
          370,
          1182,
          416,
          1772,
          2565,
          787,
          160,
          229,
          323,
          719,
          342,
          920,
          647,
          1635,
          603,
          463,
          399,
          606,
          224,
          183,
          235,
          581,
          1823,
          318,
          732,
          261,
          190,
          1979,
          256,
          630,
          528,
          342,
          2475,
          1290,
          868,
          1205,
          318,
          667,
          679,
          745,
          833,
          651,
          70,
          1024,
          240,
          773,
          448,
          881,
          406,
          1814,
          237,
          844,
          570,
          480,
          2419,
          2139,
          628,
          240,
          106,
          100,
          1024,
          1050,
          654,
          585,
          272,
          73,
          258,
          1546,
          140,
          874,
          1249,
          936,
          444,
          366,
          362,
          587,
          386,
          1671,
          446,
          271,
          337,
          604,
          239,
          409,
          431,
          225,
          936,
          312,
          418,
          125,
          1121,
          590,
          1086,
          605,
          399,
          605,
          679,
          1310,
          103,
          606,
          499,
          70,
          303,
          1726,
          2295,
          239,
          133,
          757,
          590,
          280,
          588,
          874,
          425,
          861,
          1571,
          507,
          539,
          236,
          89,
          1754,
          802,
          239,
          1338,
          679,
          462,
          395,
          337,
          1124,
          364,
          627,
          1121,
          2475,
          628,
          900,
          403,
          1372,
          874,
          322,
          978,
          337,
          1189,
          630,
          188,
          957,
          562,
          964,
          562,
          2585,
          1452,
          1050,
          373,
          1562,
          296,
          867,
          427,
          966,
          1050,
          443,
          1979,
          1744,
          299,
          110,
          336,
          317,
          74,
          211,
          224,
          516,
          2576,
          1105,
          1303,
          197,
          689,
          397,
          738,
          511,
          925,
          572,
          292,
          694,
          443,
          413,
          173,
          83,
          462,
          2611,
          787,
          965,
          931,
          776,
          601,
          852,
          761,
          1946,
          313,
          1121,
          349,
          972,
          305,
          292,
          2694,
          367,
          580,
          419,
          73,
          645,
          1723,
          337,
          1813,
          363,
          1188,
          192,
          678,
          906,
          1133,
          213,
          1235,
          290,
          425,
          412,
          978,
          96,
          1195,
          109,
          1055,
          1097,
          1584,
          341,
          1389,
          446,
          1250,
          587,
          931,
          679,
          642,
          296,
          427,
          303,
          689,
          334,
          335,
          1929,
          1450,
          328,
          80,
          120,
          223,
          1489,
          1020,
          802,
          1121,
          603,
          925,
          193,
          451,
          337,
          1736,
          762,
          125,
          663,
          1090,
          868,
          675,
          446,
          1726,
          408,
          231,
          236,
          2569,
          770,
          1124,
          397,
          569,
          325,
          416,
          1698,
          336,
          190,
          526,
          358,
          646,
          328,
          2585,
          759,
          457,
          1121,
          200,
          693,
          592,
          473,
          982,
          1546,
          554,
          721,
          693,
          775,
          1200,
          802,
          335,
          432,
          596,
          399,
          120,
          436,
          695,
          867,
          937,
          1023,
          576,
          786,
          328,
          189,
          181,
          1262,
          655,
          229,
          475,
          308,
          223,
          1005,
          448,
          528,
          1235,
          564,
          386,
          931,
          550,
          787,
          1745,
          554,
          679,
          393,
          669,
          590,
          588,
          1815,
          602,
          679,
          163,
          469,
          1946,
          230,
          213,
          347,
          1235,
          508,
          190,
          68,
          286,
          1744,
          191,
          944,
          2586,
          967,
          216,
          966,
          408,
          972,
          89,
          272,
          2338,
          1173,
          828,
          209,
          76,
          1093,
          229,
          712,
          177,
          487,
          765,
          873,
          328,
          887,
          487,
          185,
          2586,
          541,
          308,
          229,
          324,
          2036,
          1546,
          622,
          612,
          337,
          1501,
          834,
          196,
          120,
          1263,
          612,
          624,
          1844,
          106,
          972,
          936,
          589,
          1050,
          173,
          254,
          1514,
          1044,
          366,
          1182,
          190,
          1562,
          916,
          641,
          297,
          451,
          677,
          365,
          507,
          328,
          2300,
          679,
          386,
          277,
          403,
          1324,
          192,
          1400,
          253,
          1235,
          321,
          678,
          455,
          678,
          261,
          484,
          642,
          1576,
          822,
          1587,
          216,
          745,
          500,
          1237,
          761,
          1097,
          2845,
          2139,
          758,
          255,
          448,
          783,
          585,
          316,
          299,
          1055,
          262,
          862,
          502,
          416,
          164,
          752,
          888,
          200,
          2466,
          1188,
          290,
          533,
          745,
          1440,
          834,
          1953,
          719,
          441,
          129,
          452,
          1166,
          1262,
          318,
          589,
          92,
          1313,
          972,
          83,
          328,
          1050,
          402,
          404,
          337,
          501,
          1167,
          1171,
          259,
          319,
          505,
          507,
          332,
          192,
          1240,
          461,
          605,
          599,
          1670,
          255,
          594,
          1204,
          954,
          679,
          1121,
          134,
          1300,
          399,
          151,
          455,
          472,
          475,
          75,
          984,
          201,
          363,
          370,
          1195,
          1407,
          299,
          680,
          391,
          594,
          372,
          1009,
          2007,
          373,
          238,
          1715,
          529,
          129,
          507,
          716,
          334,
          802,
          1562,
          929,
          501,
          83,
          606,
          447,
          1184,
          595,
          187,
          541,
          213,
          336,
          457,
          2425,
          1565,
          2425,
          163,
          1222,
          191,
          488,
          390,
          1749,
          243,
          589,
          552,
          258,
          255,
          258,
          772,
          134,
          526,
          2475,
          462,
          386,
          1009,
          180,
          448,
          794,
          801,
          2724,
          1772,
          1010,
          370,
          2640,
          328,
          850,
          366,
          111,
          626,
          303,
          395,
          1068,
          1813,
          726,
          448,
          1235,
          418,
          809,
          1154,
          321,
          237,
          2300,
          342,
          1569,
          340,
          1041,
          88,
          214,
          337,
          516,
          714,
          250,
          814,
          868,
          343,
          178,
          272,
          363,
          303,
          383,
          732,
          429,
          1846,
          595,
          417,
          599,
          1185,
          626,
          416,
          2342,
          496,
          273,
          252,
          1569,
          963,
          1069,
          862,
          719,
          812,
          539,
          872,
          989,
          169,
          711,
          341,
          2139,
          729,
          1199,
          164,
          409,
          740,
          377,
          990,
          998,
          599,
          864,
          316,
          162,
          526,
          235,
          2125,
          395,
          281,
          444,
          1379,
          214,
          153,
          1075,
          368,
          1216,
          641,
          532,
          646,
          1095,
          280,
          106,
          544,
          448,
          936,
          362,
          370,
          243,
          719,
          296,
          580,
          612,
          372,
          419,
          544,
          334,
          237,
          828,
          550,
          200,
          1448,
          581,
          629,
          1220,
          1797,
          1372,
          430,
          719,
          762,
          1946,
          569,
          1085,
          254,
          1591,
          337,
          1440,
          286,
          304,
          196,
          297,
          158,
          296,
          321,
          414,
          813,
          236,
          867,
          314,
          1931,
          362,
          2139,
          646,
          888,
          612,
          2360,
          590,
          842,
          223,
          1086,
          120,
          576,
          544,
          925,
          237,
          601,
          585,
          764,
          551,
          177,
          345,
          1605,
          304,
          56,
          323,
          1167,
          1372,
          454,
          604,
          834,
          100,
          528,
          84,
          1947,
          837,
          1774,
          726,
          273,
          1504,
          393,
          88,
          1195,
          630,
          1164,
          1431,
          325,
          1182,
          1044,
          129,
          868,
          21,
          545,
          370,
          349,
          102,
          335,
          240,
          812,
          651,
          335,
          386,
          2586,
          925,
          949,
          316,
          1199,
          872,
          828,
          174,
          738,
          501,
          403,
          665,
          1745,
          991,
          895,
          558,
          214,
          733,
          272,
          335,
          1428,
          549,
          1189,
          461,
          228,
          589,
          1464,
          447,
          1363,
          588,
          177,
          700,
          1237,
          337,
          399,
          920,
          1119,
          1020,
          725,
          395,
          255,
          243,
          373,
          229,
          446,
          366,
          410,
          526,
          1440,
          1623,
          491,
          522,
          1891,
          992,
          802,
          651,
          403,
          723,
          436,
          1190,
          95,
          125,
          390,
          1020,
          284,
          440,
          580,
          247,
          237,
          302,
          369,
          644,
          599,
          187,
          656,
          183,
          200,
          305,
          1139,
          787,
          570,
          460,
          1192,
          362,
          373,
          1488,
          373,
          525,
          2153,
          628,
          1440,
          670,
          1598,
          214,
          992,
          120,
          1190,
          174,
          272,
          834,
          373,
          328,
          793,
          489,
          834,
          1076,
          711,
          509,
          1008,
          317,
          610,
          534,
          279,
          126,
          647,
          487,
          2556,
          927,
          927,
          432,
          2218,
          2401,
          642,
          802,
          1400,
          1124,
          390
         ],
         "y": [
          742,
          1900,
          2120,
          1625,
          1355,
          1143,
          1630,
          1432,
          858,
          1015,
          1546,
          900,
          1053,
          1205,
          1745,
          1651,
          2137,
          641,
          925,
          1627,
          613,
          1920,
          1129,
          941,
          1222,
          1252,
          701,
          1131,
          1453,
          1310,
          538,
          1146,
          1815,
          1742,
          1904,
          1437,
          1140,
          null,
          1301,
          950,
          1048,
          523,
          1030,
          1030,
          1137,
          1143,
          1101,
          830,
          950,
          853,
          804,
          620,
          1941,
          931,
          1911,
          1621,
          1439,
          750,
          658,
          1355,
          957,
          625,
          1115,
          null,
          1545,
          944,
          1609,
          651,
          1937,
          1535,
          2015,
          1647,
          827,
          1905,
          930,
          1958,
          1855,
          1015,
          725,
          601,
          2056,
          737,
          829,
          715,
          1245,
          843,
          1958,
          1707,
          1601,
          1025,
          1334,
          2103,
          2052,
          812,
          550,
          835,
          2005,
          1236,
          1155,
          1454,
          1312,
          720,
          1850,
          1403,
          1639,
          1025,
          1515,
          747,
          711,
          1554,
          1814,
          1053,
          1235,
          1740,
          1055,
          1827,
          1701,
          740,
          2020,
          1056,
          2340,
          1837,
          1321,
          2110,
          1033,
          1720,
          732,
          1819,
          1746,
          515,
          737,
          1441,
          617,
          1728,
          556,
          1249,
          914,
          1333,
          1912,
          1546,
          2056,
          655,
          1320,
          1945,
          29,
          1726,
          2158,
          1240,
          910,
          1004,
          1749,
          900,
          1542,
          1148,
          2011,
          1846,
          704,
          1349,
          1455,
          1020,
          1602,
          2305,
          1643,
          1424,
          1152,
          1704,
          641,
          1125,
          1656,
          1125,
          1540,
          1028,
          930,
          1100,
          930,
          1624,
          1435,
          1954,
          1048,
          1855,
          1743,
          1422,
          1323,
          1331,
          2051,
          1400,
          920,
          1058,
          2051,
          620,
          1918,
          632,
          1416,
          2043,
          1241,
          1200,
          1725,
          745,
          1137,
          740,
          1936,
          1652,
          707,
          2036,
          1141,
          658,
          1129,
          2329,
          1335,
          1814,
          1339,
          830,
          null,
          1353,
          1724,
          1525,
          2030,
          734,
          902,
          1451,
          1328,
          1555,
          1258,
          1655,
          null,
          1122,
          1823,
          840,
          631,
          1642,
          833,
          2213,
          1707,
          1211,
          556,
          1336,
          1448,
          1944,
          2105,
          1607,
          1227,
          1752,
          1203,
          null,
          613,
          1145,
          621,
          1504,
          655,
          2146,
          809,
          1925,
          1925,
          826,
          811,
          1123,
          2246,
          1326,
          900,
          1333,
          1726,
          1603,
          1455,
          654,
          null,
          1353,
          1255,
          919,
          1717,
          2026,
          2245,
          1039,
          1954,
          1525,
          1116,
          1059,
          805,
          1423,
          null,
          1930,
          2125,
          1340,
          1129,
          1551,
          821,
          1436,
          1836,
          948,
          1631,
          1222,
          2253,
          719,
          1342,
          1853,
          1401,
          959,
          750,
          2000,
          1025,
          1734,
          841,
          1031,
          940,
          1823,
          627,
          1621,
          1617,
          null,
          1133,
          2017,
          2059,
          125,
          1623,
          1344,
          1454,
          1404,
          555,
          1001,
          1840,
          1432,
          706,
          1013,
          1430,
          1224,
          1015,
          1809,
          2103,
          1120,
          1757,
          1711,
          null,
          733,
          1055,
          1111,
          925,
          722,
          1444,
          640,
          1646,
          2100,
          2049,
          1600,
          1547,
          1936,
          1023,
          1614,
          2037,
          1458,
          1851,
          1034,
          2007,
          1154,
          1951,
          1538,
          1153,
          1210,
          909,
          1144,
          2339,
          2002,
          1627,
          944,
          1806,
          1309,
          1539,
          809,
          1703,
          2142,
          830,
          1255,
          721,
          1136,
          1925,
          1621,
          1439,
          813,
          2114,
          1414,
          1343,
          1037,
          1050,
          1351,
          842,
          1419,
          2014,
          4,
          1157,
          1548,
          1442,
          1016,
          1934,
          857,
          1513,
          2144,
          1644,
          857,
          1048,
          531,
          1502,
          1302,
          839,
          1324,
          742,
          557,
          1110,
          1742,
          1636,
          1910,
          1015,
          1654,
          1155,
          1338,
          1458,
          2158,
          1900,
          1326,
          954,
          1745,
          1118,
          1108,
          821,
          2011,
          1320,
          703,
          1710,
          1714,
          758,
          1239,
          2147,
          1956,
          1802,
          2152,
          1705,
          1713,
          1009,
          1135,
          1255,
          920,
          1315,
          720,
          1210,
          1036,
          1215,
          1108,
          1704,
          1357,
          2005,
          2004,
          1651,
          1409,
          1637,
          2138,
          null,
          1337,
          1840,
          1830,
          1903,
          1426,
          2101,
          829,
          1628,
          1828,
          1010,
          1313,
          1854,
          645,
          1142,
          2035,
          2036,
          1747,
          1829,
          641,
          1350,
          1133,
          null,
          1604,
          923,
          926,
          645,
          null,
          625,
          526,
          831,
          830,
          700,
          759,
          829,
          600,
          745,
          1257,
          1458,
          1008,
          1502,
          1250,
          1755,
          1225,
          2001,
          1815,
          1728,
          1208,
          537,
          652,
          1226,
          2105,
          1948,
          1424,
          1325,
          1725,
          1226,
          1450,
          1505,
          802,
          1048,
          955,
          904,
          1227,
          732,
          1043,
          2150,
          700,
          1106,
          1710,
          2019,
          1553,
          1138,
          1840,
          1859,
          1802,
          648,
          821,
          2206,
          1810,
          745,
          1847,
          1535,
          610,
          810,
          1536,
          1457,
          624,
          1943,
          923,
          1451,
          1826,
          1648,
          1841,
          1743,
          1925,
          2059,
          1539,
          1323,
          1553,
          1039,
          2034,
          920,
          934,
          858,
          551,
          2009,
          1454,
          800,
          1000,
          857,
          1648,
          1649,
          1151,
          531,
          1605,
          1118,
          1735,
          1517,
          559,
          1858,
          700,
          2120,
          1000,
          1620,
          947,
          1835,
          null,
          1529,
          1645,
          1732,
          635,
          2005,
          1408,
          910,
          2120,
          1803,
          610,
          702,
          1005,
          1608,
          1414,
          1728,
          1529,
          1025,
          1327,
          1452,
          1348,
          1407,
          1016,
          1727,
          1343,
          2204,
          1229,
          1324,
          1839,
          1539,
          600,
          1255,
          1051,
          1006,
          1035,
          1901,
          1158,
          1843,
          1551,
          759,
          1631,
          1135,
          2104,
          1430,
          852,
          2210,
          null,
          1705,
          910,
          855,
          1929,
          1928,
          1732,
          801,
          null,
          1440,
          647,
          634,
          2125,
          null,
          700,
          1114,
          1012,
          752,
          2016,
          1200,
          1807,
          1839,
          2207,
          null,
          1424,
          1419,
          1436,
          2033,
          1008,
          1458,
          645,
          1416,
          2108,
          840,
          1647,
          2158,
          1645,
          633,
          2008,
          815,
          1545,
          2035,
          1515,
          1312,
          1225,
          843,
          2130,
          1021,
          1332,
          1110,
          2043,
          1311,
          615,
          2110,
          1632,
          1710,
          1450,
          1314,
          1840,
          914,
          1556,
          1448,
          1629,
          845,
          1858,
          1256,
          1346,
          1249,
          1155,
          1755,
          700,
          1728,
          1900,
          2030,
          1544,
          1310,
          1445,
          2017,
          1047,
          815,
          1521,
          840,
          2145,
          1519,
          619,
          1947,
          1717,
          1600,
          1350,
          631,
          1522,
          1523,
          948,
          2220,
          840,
          1536,
          755,
          1548,
          1954,
          45,
          1917,
          928,
          1326,
          547,
          1446,
          825,
          1751,
          1044,
          550,
          1220,
          2209,
          1240,
          1610,
          1347,
          1245,
          1150,
          1233,
          1047,
          632,
          2232,
          2200,
          2105,
          1833,
          1043,
          1010,
          1741,
          754,
          1649,
          931,
          1930,
          1156,
          601,
          2209,
          1432,
          723,
          834,
          1342,
          1253,
          921,
          1209,
          2158,
          1845,
          1845,
          700,
          1743,
          2319,
          555,
          645,
          1545,
          855,
          1629,
          759,
          956,
          708,
          1106,
          1256,
          1425,
          1730,
          157,
          957,
          817,
          1151,
          953,
          null,
          2219,
          1203,
          2021,
          1324,
          1633,
          1442,
          939,
          58,
          1748,
          1250,
          1212,
          730,
          1801,
          706,
          1002,
          1209,
          1323,
          1127,
          1501,
          2315,
          1854,
          2126,
          2239,
          2220,
          1040,
          1840,
          608,
          1755,
          131,
          1320,
          1704,
          1745,
          1215,
          1953,
          701,
          1316,
          1102,
          1446,
          650,
          730,
          1055,
          1613,
          1645,
          1300,
          830,
          1935,
          1617,
          949,
          1930,
          2250,
          641,
          2310,
          1959,
          1855,
          1856,
          1155,
          1148,
          1106,
          2,
          700,
          623,
          1917,
          636,
          1048,
          1241,
          1030,
          700,
          11,
          1447,
          757,
          1757,
          1220,
          717,
          1130,
          1302,
          819,
          939,
          1455,
          1006,
          1354,
          1903,
          1437,
          2040,
          1915,
          659,
          1820,
          1510,
          1951,
          804,
          2219,
          2108,
          1426,
          1729,
          2131,
          1720,
          1420,
          1339,
          2123,
          1649,
          1836,
          1713,
          1924,
          1659,
          959,
          724,
          559,
          1405,
          1449,
          905,
          1158,
          2035,
          2030,
          722,
          1117,
          810,
          null,
          2050,
          2141,
          720,
          1459,
          1215,
          800,
          1552,
          1400,
          557,
          951,
          2020,
          1240,
          1900,
          1519,
          1636,
          1709,
          1539,
          855,
          921,
          622,
          825,
          2118,
          857,
          854,
          845,
          719,
          2035,
          1434,
          2023,
          1010,
          632,
          800,
          935,
          1610,
          1215,
          2053,
          1431,
          1256,
          1705,
          1429,
          1019,
          757,
          1940,
          1557,
          2113,
          1724,
          1251,
          2141,
          1704,
          null,
          1355,
          1730,
          1905,
          1112,
          1550,
          1128,
          2147,
          1015,
          null,
          1435,
          1709,
          1037,
          826,
          2213,
          2030,
          657,
          1621,
          2106,
          950,
          700,
          954,
          1233,
          923,
          2033,
          1145,
          1000,
          1007,
          1000,
          1957,
          1943,
          1254,
          1810,
          1659,
          705,
          1512,
          948,
          753,
          2134,
          null,
          1844,
          1300,
          1356,
          1636,
          1932,
          920
         ]
        }
       ],
       "layout": {
        "template": {
         "data": {
          "bar": [
           {
            "error_x": {
             "color": "#2a3f5f"
            },
            "error_y": {
             "color": "#2a3f5f"
            },
            "marker": {
             "line": {
              "color": "#E5ECF6",
              "width": 0.5
             },
             "pattern": {
              "fillmode": "overlay",
              "size": 10,
              "solidity": 0.2
             }
            },
            "type": "bar"
           }
          ],
          "barpolar": [
           {
            "marker": {
             "line": {
              "color": "#E5ECF6",
              "width": 0.5
             },
             "pattern": {
              "fillmode": "overlay",
              "size": 10,
              "solidity": 0.2
             }
            },
            "type": "barpolar"
           }
          ],
          "carpet": [
           {
            "aaxis": {
             "endlinecolor": "#2a3f5f",
             "gridcolor": "white",
             "linecolor": "white",
             "minorgridcolor": "white",
             "startlinecolor": "#2a3f5f"
            },
            "baxis": {
             "endlinecolor": "#2a3f5f",
             "gridcolor": "white",
             "linecolor": "white",
             "minorgridcolor": "white",
             "startlinecolor": "#2a3f5f"
            },
            "type": "carpet"
           }
          ],
          "choropleth": [
           {
            "colorbar": {
             "outlinewidth": 0,
             "ticks": ""
            },
            "type": "choropleth"
           }
          ],
          "contour": [
           {
            "colorbar": {
             "outlinewidth": 0,
             "ticks": ""
            },
            "colorscale": [
             [
              0,
              "#0d0887"
             ],
             [
              0.1111111111111111,
              "#46039f"
             ],
             [
              0.2222222222222222,
              "#7201a8"
             ],
             [
              0.3333333333333333,
              "#9c179e"
             ],
             [
              0.4444444444444444,
              "#bd3786"
             ],
             [
              0.5555555555555556,
              "#d8576b"
             ],
             [
              0.6666666666666666,
              "#ed7953"
             ],
             [
              0.7777777777777778,
              "#fb9f3a"
             ],
             [
              0.8888888888888888,
              "#fdca26"
             ],
             [
              1,
              "#f0f921"
             ]
            ],
            "type": "contour"
           }
          ],
          "contourcarpet": [
           {
            "colorbar": {
             "outlinewidth": 0,
             "ticks": ""
            },
            "type": "contourcarpet"
           }
          ],
          "heatmap": [
           {
            "colorbar": {
             "outlinewidth": 0,
             "ticks": ""
            },
            "colorscale": [
             [
              0,
              "#0d0887"
             ],
             [
              0.1111111111111111,
              "#46039f"
             ],
             [
              0.2222222222222222,
              "#7201a8"
             ],
             [
              0.3333333333333333,
              "#9c179e"
             ],
             [
              0.4444444444444444,
              "#bd3786"
             ],
             [
              0.5555555555555556,
              "#d8576b"
             ],
             [
              0.6666666666666666,
              "#ed7953"
             ],
             [
              0.7777777777777778,
              "#fb9f3a"
             ],
             [
              0.8888888888888888,
              "#fdca26"
             ],
             [
              1,
              "#f0f921"
             ]
            ],
            "type": "heatmap"
           }
          ],
          "heatmapgl": [
           {
            "colorbar": {
             "outlinewidth": 0,
             "ticks": ""
            },
            "colorscale": [
             [
              0,
              "#0d0887"
             ],
             [
              0.1111111111111111,
              "#46039f"
             ],
             [
              0.2222222222222222,
              "#7201a8"
             ],
             [
              0.3333333333333333,
              "#9c179e"
             ],
             [
              0.4444444444444444,
              "#bd3786"
             ],
             [
              0.5555555555555556,
              "#d8576b"
             ],
             [
              0.6666666666666666,
              "#ed7953"
             ],
             [
              0.7777777777777778,
              "#fb9f3a"
             ],
             [
              0.8888888888888888,
              "#fdca26"
             ],
             [
              1,
              "#f0f921"
             ]
            ],
            "type": "heatmapgl"
           }
          ],
          "histogram": [
           {
            "marker": {
             "pattern": {
              "fillmode": "overlay",
              "size": 10,
              "solidity": 0.2
             }
            },
            "type": "histogram"
           }
          ],
          "histogram2d": [
           {
            "colorbar": {
             "outlinewidth": 0,
             "ticks": ""
            },
            "colorscale": [
             [
              0,
              "#0d0887"
             ],
             [
              0.1111111111111111,
              "#46039f"
             ],
             [
              0.2222222222222222,
              "#7201a8"
             ],
             [
              0.3333333333333333,
              "#9c179e"
             ],
             [
              0.4444444444444444,
              "#bd3786"
             ],
             [
              0.5555555555555556,
              "#d8576b"
             ],
             [
              0.6666666666666666,
              "#ed7953"
             ],
             [
              0.7777777777777778,
              "#fb9f3a"
             ],
             [
              0.8888888888888888,
              "#fdca26"
             ],
             [
              1,
              "#f0f921"
             ]
            ],
            "type": "histogram2d"
           }
          ],
          "histogram2dcontour": [
           {
            "colorbar": {
             "outlinewidth": 0,
             "ticks": ""
            },
            "colorscale": [
             [
              0,
              "#0d0887"
             ],
             [
              0.1111111111111111,
              "#46039f"
             ],
             [
              0.2222222222222222,
              "#7201a8"
             ],
             [
              0.3333333333333333,
              "#9c179e"
             ],
             [
              0.4444444444444444,
              "#bd3786"
             ],
             [
              0.5555555555555556,
              "#d8576b"
             ],
             [
              0.6666666666666666,
              "#ed7953"
             ],
             [
              0.7777777777777778,
              "#fb9f3a"
             ],
             [
              0.8888888888888888,
              "#fdca26"
             ],
             [
              1,
              "#f0f921"
             ]
            ],
            "type": "histogram2dcontour"
           }
          ],
          "mesh3d": [
           {
            "colorbar": {
             "outlinewidth": 0,
             "ticks": ""
            },
            "type": "mesh3d"
           }
          ],
          "parcoords": [
           {
            "line": {
             "colorbar": {
              "outlinewidth": 0,
              "ticks": ""
             }
            },
            "type": "parcoords"
           }
          ],
          "pie": [
           {
            "automargin": true,
            "type": "pie"
           }
          ],
          "scatter": [
           {
            "fillpattern": {
             "fillmode": "overlay",
             "size": 10,
             "solidity": 0.2
            },
            "type": "scatter"
           }
          ],
          "scatter3d": [
           {
            "line": {
             "colorbar": {
              "outlinewidth": 0,
              "ticks": ""
             }
            },
            "marker": {
             "colorbar": {
              "outlinewidth": 0,
              "ticks": ""
             }
            },
            "type": "scatter3d"
           }
          ],
          "scattercarpet": [
           {
            "marker": {
             "colorbar": {
              "outlinewidth": 0,
              "ticks": ""
             }
            },
            "type": "scattercarpet"
           }
          ],
          "scattergeo": [
           {
            "marker": {
             "colorbar": {
              "outlinewidth": 0,
              "ticks": ""
             }
            },
            "type": "scattergeo"
           }
          ],
          "scattergl": [
           {
            "marker": {
             "colorbar": {
              "outlinewidth": 0,
              "ticks": ""
             }
            },
            "type": "scattergl"
           }
          ],
          "scattermapbox": [
           {
            "marker": {
             "colorbar": {
              "outlinewidth": 0,
              "ticks": ""
             }
            },
            "type": "scattermapbox"
           }
          ],
          "scatterpolar": [
           {
            "marker": {
             "colorbar": {
              "outlinewidth": 0,
              "ticks": ""
             }
            },
            "type": "scatterpolar"
           }
          ],
          "scatterpolargl": [
           {
            "marker": {
             "colorbar": {
              "outlinewidth": 0,
              "ticks": ""
             }
            },
            "type": "scatterpolargl"
           }
          ],
          "scatterternary": [
           {
            "marker": {
             "colorbar": {
              "outlinewidth": 0,
              "ticks": ""
             }
            },
            "type": "scatterternary"
           }
          ],
          "surface": [
           {
            "colorbar": {
             "outlinewidth": 0,
             "ticks": ""
            },
            "colorscale": [
             [
              0,
              "#0d0887"
             ],
             [
              0.1111111111111111,
              "#46039f"
             ],
             [
              0.2222222222222222,
              "#7201a8"
             ],
             [
              0.3333333333333333,
              "#9c179e"
             ],
             [
              0.4444444444444444,
              "#bd3786"
             ],
             [
              0.5555555555555556,
              "#d8576b"
             ],
             [
              0.6666666666666666,
              "#ed7953"
             ],
             [
              0.7777777777777778,
              "#fb9f3a"
             ],
             [
              0.8888888888888888,
              "#fdca26"
             ],
             [
              1,
              "#f0f921"
             ]
            ],
            "type": "surface"
           }
          ],
          "table": [
           {
            "cells": {
             "fill": {
              "color": "#EBF0F8"
             },
             "line": {
              "color": "white"
             }
            },
            "header": {
             "fill": {
              "color": "#C8D4E3"
             },
             "line": {
              "color": "white"
             }
            },
            "type": "table"
           }
          ]
         },
         "layout": {
          "annotationdefaults": {
           "arrowcolor": "#2a3f5f",
           "arrowhead": 0,
           "arrowwidth": 1
          },
          "autotypenumbers": "strict",
          "coloraxis": {
           "colorbar": {
            "outlinewidth": 0,
            "ticks": ""
           }
          },
          "colorscale": {
           "diverging": [
            [
             0,
             "#8e0152"
            ],
            [
             0.1,
             "#c51b7d"
            ],
            [
             0.2,
             "#de77ae"
            ],
            [
             0.3,
             "#f1b6da"
            ],
            [
             0.4,
             "#fde0ef"
            ],
            [
             0.5,
             "#f7f7f7"
            ],
            [
             0.6,
             "#e6f5d0"
            ],
            [
             0.7,
             "#b8e186"
            ],
            [
             0.8,
             "#7fbc41"
            ],
            [
             0.9,
             "#4d9221"
            ],
            [
             1,
             "#276419"
            ]
           ],
           "sequential": [
            [
             0,
             "#0d0887"
            ],
            [
             0.1111111111111111,
             "#46039f"
            ],
            [
             0.2222222222222222,
             "#7201a8"
            ],
            [
             0.3333333333333333,
             "#9c179e"
            ],
            [
             0.4444444444444444,
             "#bd3786"
            ],
            [
             0.5555555555555556,
             "#d8576b"
            ],
            [
             0.6666666666666666,
             "#ed7953"
            ],
            [
             0.7777777777777778,
             "#fb9f3a"
            ],
            [
             0.8888888888888888,
             "#fdca26"
            ],
            [
             1,
             "#f0f921"
            ]
           ],
           "sequentialminus": [
            [
             0,
             "#0d0887"
            ],
            [
             0.1111111111111111,
             "#46039f"
            ],
            [
             0.2222222222222222,
             "#7201a8"
            ],
            [
             0.3333333333333333,
             "#9c179e"
            ],
            [
             0.4444444444444444,
             "#bd3786"
            ],
            [
             0.5555555555555556,
             "#d8576b"
            ],
            [
             0.6666666666666666,
             "#ed7953"
            ],
            [
             0.7777777777777778,
             "#fb9f3a"
            ],
            [
             0.8888888888888888,
             "#fdca26"
            ],
            [
             1,
             "#f0f921"
            ]
           ]
          },
          "colorway": [
           "#636efa",
           "#EF553B",
           "#00cc96",
           "#ab63fa",
           "#FFA15A",
           "#19d3f3",
           "#FF6692",
           "#B6E880",
           "#FF97FF",
           "#FECB52"
          ],
          "font": {
           "color": "#2a3f5f"
          },
          "geo": {
           "bgcolor": "white",
           "lakecolor": "white",
           "landcolor": "#E5ECF6",
           "showlakes": true,
           "showland": true,
           "subunitcolor": "white"
          },
          "hoverlabel": {
           "align": "left"
          },
          "hovermode": "closest",
          "mapbox": {
           "style": "light"
          },
          "paper_bgcolor": "white",
          "plot_bgcolor": "#E5ECF6",
          "polar": {
           "angularaxis": {
            "gridcolor": "white",
            "linecolor": "white",
            "ticks": ""
           },
           "bgcolor": "#E5ECF6",
           "radialaxis": {
            "gridcolor": "white",
            "linecolor": "white",
            "ticks": ""
           }
          },
          "scene": {
           "xaxis": {
            "backgroundcolor": "#E5ECF6",
            "gridcolor": "white",
            "gridwidth": 2,
            "linecolor": "white",
            "showbackground": true,
            "ticks": "",
            "zerolinecolor": "white"
           },
           "yaxis": {
            "backgroundcolor": "#E5ECF6",
            "gridcolor": "white",
            "gridwidth": 2,
            "linecolor": "white",
            "showbackground": true,
            "ticks": "",
            "zerolinecolor": "white"
           },
           "zaxis": {
            "backgroundcolor": "#E5ECF6",
            "gridcolor": "white",
            "gridwidth": 2,
            "linecolor": "white",
            "showbackground": true,
            "ticks": "",
            "zerolinecolor": "white"
           }
          },
          "shapedefaults": {
           "line": {
            "color": "#2a3f5f"
           }
          },
          "ternary": {
           "aaxis": {
            "gridcolor": "white",
            "linecolor": "white",
            "ticks": ""
           },
           "baxis": {
            "gridcolor": "white",
            "linecolor": "white",
            "ticks": ""
           },
           "bgcolor": "#E5ECF6",
           "caxis": {
            "gridcolor": "white",
            "linecolor": "white",
            "ticks": ""
           }
          },
          "title": {
           "x": 0.05
          },
          "xaxis": {
           "automargin": true,
           "gridcolor": "white",
           "linecolor": "white",
           "ticks": "",
           "title": {
            "standoff": 15
           },
           "zerolinecolor": "white",
           "zerolinewidth": 2
          },
          "yaxis": {
           "automargin": true,
           "gridcolor": "white",
           "linecolor": "white",
           "ticks": "",
           "title": {
            "standoff": 15
           },
           "zerolinecolor": "white",
           "zerolinewidth": 2
          }
         }
        },
        "title": {
         "text": "Distance vs Dipature Time"
        },
        "xaxis": {
         "title": {
          "text": "Distance"
         }
        },
        "yaxis": {
         "title": {
          "text": "Dipature Time"
         }
        }
       }
      },
      "text/html": [
       "<div>                            <div id=\"4d0fc69e-82e4-43b6-9520-eb78d1427699\" class=\"plotly-graph-div\" style=\"height:525px; width:100%;\"></div>            <script type=\"text/javascript\">                require([\"plotly\"], function(Plotly) {                    window.PLOTLYENV=window.PLOTLYENV || {};                                    if (document.getElementById(\"4d0fc69e-82e4-43b6-9520-eb78d1427699\")) {                    Plotly.newPlot(                        \"4d0fc69e-82e4-43b6-9520-eb78d1427699\",                        [{\"marker\":{\"color\":\"red\"},\"mode\":\"markers\",\"x\":[109.0,732.0,117.0,1846.0,432.0,1532.0,2139.0,793.0,209.0,866.0,347.0,372.0,100.0,1589.0,264.0,2288.0,451.0,647.0,484.0,2036.0,395.0,936.0,324.0,200.0,237.0,280.0,812.0,1205.0,144.0,2401.0,369.0,336.0,1557.0,931.0,967.0,406.0,214.0,247.0,503.0,1009.0,938.0,95.0,419.0,185.0,1745.0,2565.0,547.0,992.0,569.0,375.0,271.0,246.0,113.0,977.0,1197.0,473.0,258.0,284.0,1237.0,314.0,397.0,1015.0,532.0,157.0,949.0,237.0,2338.0,338.0,155.0,228.0,395.0,1437.0,874.0,326.0,113.0,526.0,425.0,408.0,236.0,321.0,363.0,1827.0,545.0,1342.0,461.0,185.0,297.0,253.0,515.0,874.0,723.0,187.0,714.0,1050.0,317.0,370.0,1182.0,416.0,1772.0,2565.0,787.0,160.0,229.0,323.0,719.0,342.0,920.0,647.0,1635.0,603.0,463.0,399.0,606.0,224.0,183.0,235.0,581.0,1823.0,318.0,732.0,261.0,190.0,1979.0,256.0,630.0,528.0,342.0,2475.0,1290.0,868.0,1205.0,318.0,667.0,679.0,745.0,833.0,651.0,70.0,1024.0,240.0,773.0,448.0,881.0,406.0,1814.0,237.0,844.0,570.0,480.0,2419.0,2139.0,628.0,240.0,106.0,100.0,1024.0,1050.0,654.0,585.0,272.0,73.0,258.0,1546.0,140.0,874.0,1249.0,936.0,444.0,366.0,362.0,587.0,386.0,1671.0,446.0,271.0,337.0,604.0,239.0,409.0,431.0,225.0,936.0,312.0,418.0,125.0,1121.0,590.0,1086.0,605.0,399.0,605.0,679.0,1310.0,103.0,606.0,499.0,70.0,303.0,1726.0,2295.0,239.0,133.0,757.0,590.0,280.0,588.0,874.0,425.0,861.0,1571.0,507.0,539.0,236.0,89.0,1754.0,802.0,239.0,1338.0,679.0,462.0,395.0,337.0,1124.0,364.0,627.0,1121.0,2475.0,628.0,900.0,403.0,1372.0,874.0,322.0,978.0,337.0,1189.0,630.0,188.0,957.0,562.0,964.0,562.0,2585.0,1452.0,1050.0,373.0,1562.0,296.0,867.0,427.0,966.0,1050.0,443.0,1979.0,1744.0,299.0,110.0,336.0,317.0,74.0,211.0,224.0,516.0,2576.0,1105.0,1303.0,197.0,689.0,397.0,738.0,511.0,925.0,572.0,292.0,694.0,443.0,413.0,173.0,83.0,462.0,2611.0,787.0,965.0,931.0,776.0,601.0,852.0,761.0,1946.0,313.0,1121.0,349.0,972.0,305.0,292.0,2694.0,367.0,580.0,419.0,73.0,645.0,1723.0,337.0,1813.0,363.0,1188.0,192.0,678.0,906.0,1133.0,213.0,1235.0,290.0,425.0,412.0,978.0,96.0,1195.0,109.0,1055.0,1097.0,1584.0,341.0,1389.0,446.0,1250.0,587.0,931.0,679.0,642.0,296.0,427.0,303.0,689.0,334.0,335.0,1929.0,1450.0,328.0,80.0,120.0,223.0,1489.0,1020.0,802.0,1121.0,603.0,925.0,193.0,451.0,337.0,1736.0,762.0,125.0,663.0,1090.0,868.0,675.0,446.0,1726.0,408.0,231.0,236.0,2569.0,770.0,1124.0,397.0,569.0,325.0,416.0,1698.0,336.0,190.0,526.0,358.0,646.0,328.0,2585.0,759.0,457.0,1121.0,200.0,693.0,592.0,473.0,982.0,1546.0,554.0,721.0,693.0,775.0,1200.0,802.0,335.0,432.0,596.0,399.0,120.0,436.0,695.0,867.0,937.0,1023.0,576.0,786.0,328.0,189.0,181.0,1262.0,655.0,229.0,475.0,308.0,223.0,1005.0,448.0,528.0,1235.0,564.0,386.0,931.0,550.0,787.0,1745.0,554.0,679.0,393.0,669.0,590.0,588.0,1815.0,602.0,679.0,163.0,469.0,1946.0,230.0,213.0,347.0,1235.0,508.0,190.0,68.0,286.0,1744.0,191.0,944.0,2586.0,967.0,216.0,966.0,408.0,972.0,89.0,272.0,2338.0,1173.0,828.0,209.0,76.0,1093.0,229.0,712.0,177.0,487.0,765.0,873.0,328.0,887.0,487.0,185.0,2586.0,541.0,308.0,229.0,324.0,2036.0,1546.0,622.0,612.0,337.0,1501.0,834.0,196.0,120.0,1263.0,612.0,624.0,1844.0,106.0,972.0,936.0,589.0,1050.0,173.0,254.0,1514.0,1044.0,366.0,1182.0,190.0,1562.0,916.0,641.0,297.0,451.0,677.0,365.0,507.0,328.0,2300.0,679.0,386.0,277.0,403.0,1324.0,192.0,1400.0,253.0,1235.0,321.0,678.0,455.0,678.0,261.0,484.0,642.0,1576.0,822.0,1587.0,216.0,745.0,500.0,1237.0,761.0,1097.0,2845.0,2139.0,758.0,255.0,448.0,783.0,585.0,316.0,299.0,1055.0,262.0,862.0,502.0,416.0,164.0,752.0,888.0,200.0,2466.0,1188.0,290.0,533.0,745.0,1440.0,834.0,1953.0,719.0,441.0,129.0,452.0,1166.0,1262.0,318.0,589.0,92.0,1313.0,972.0,83.0,328.0,1050.0,402.0,404.0,337.0,501.0,1167.0,1171.0,259.0,319.0,505.0,507.0,332.0,192.0,1240.0,461.0,605.0,599.0,1670.0,255.0,594.0,1204.0,954.0,679.0,1121.0,134.0,1300.0,399.0,151.0,455.0,472.0,475.0,75.0,984.0,201.0,363.0,370.0,1195.0,1407.0,299.0,680.0,391.0,594.0,372.0,1009.0,2007.0,373.0,238.0,1715.0,529.0,129.0,507.0,716.0,334.0,802.0,1562.0,929.0,501.0,83.0,606.0,447.0,1184.0,595.0,187.0,541.0,213.0,336.0,457.0,2425.0,1565.0,2425.0,163.0,1222.0,191.0,488.0,390.0,1749.0,243.0,589.0,552.0,258.0,255.0,258.0,772.0,134.0,526.0,2475.0,462.0,386.0,1009.0,180.0,448.0,794.0,801.0,2724.0,1772.0,1010.0,370.0,2640.0,328.0,850.0,366.0,111.0,626.0,303.0,395.0,1068.0,1813.0,726.0,448.0,1235.0,418.0,809.0,1154.0,321.0,237.0,2300.0,342.0,1569.0,340.0,1041.0,88.0,214.0,337.0,516.0,714.0,250.0,814.0,868.0,343.0,178.0,272.0,363.0,303.0,383.0,732.0,429.0,1846.0,595.0,417.0,599.0,1185.0,626.0,416.0,2342.0,496.0,273.0,252.0,1569.0,963.0,1069.0,862.0,719.0,812.0,539.0,872.0,989.0,169.0,711.0,341.0,2139.0,729.0,1199.0,164.0,409.0,740.0,377.0,990.0,998.0,599.0,864.0,316.0,162.0,526.0,235.0,2125.0,395.0,281.0,444.0,1379.0,214.0,153.0,1075.0,368.0,1216.0,641.0,532.0,646.0,1095.0,280.0,106.0,544.0,448.0,936.0,362.0,370.0,243.0,719.0,296.0,580.0,612.0,372.0,419.0,544.0,334.0,237.0,828.0,550.0,200.0,1448.0,581.0,629.0,1220.0,1797.0,1372.0,430.0,719.0,762.0,1946.0,569.0,1085.0,254.0,1591.0,337.0,1440.0,286.0,304.0,196.0,297.0,158.0,296.0,321.0,414.0,813.0,236.0,867.0,314.0,1931.0,362.0,2139.0,646.0,888.0,612.0,2360.0,590.0,842.0,223.0,1086.0,120.0,576.0,544.0,925.0,237.0,601.0,585.0,764.0,551.0,177.0,345.0,1605.0,304.0,56.0,323.0,1167.0,1372.0,454.0,604.0,834.0,100.0,528.0,84.0,1947.0,837.0,1774.0,726.0,273.0,1504.0,393.0,88.0,1195.0,630.0,1164.0,1431.0,325.0,1182.0,1044.0,129.0,868.0,21.0,545.0,370.0,349.0,102.0,335.0,240.0,812.0,651.0,335.0,386.0,2586.0,925.0,949.0,316.0,1199.0,872.0,828.0,174.0,738.0,501.0,403.0,665.0,1745.0,991.0,895.0,558.0,214.0,733.0,272.0,335.0,1428.0,549.0,1189.0,461.0,228.0,589.0,1464.0,447.0,1363.0,588.0,177.0,700.0,1237.0,337.0,399.0,920.0,1119.0,1020.0,725.0,395.0,255.0,243.0,373.0,229.0,446.0,366.0,410.0,526.0,1440.0,1623.0,491.0,522.0,1891.0,992.0,802.0,651.0,403.0,723.0,436.0,1190.0,95.0,125.0,390.0,1020.0,284.0,440.0,580.0,247.0,237.0,302.0,369.0,644.0,599.0,187.0,656.0,183.0,200.0,305.0,1139.0,787.0,570.0,460.0,1192.0,362.0,373.0,1488.0,373.0,525.0,2153.0,628.0,1440.0,670.0,1598.0,214.0,992.0,120.0,1190.0,174.0,272.0,834.0,373.0,328.0,793.0,489.0,834.0,1076.0,711.0,509.0,1008.0,317.0,610.0,534.0,279.0,126.0,647.0,487.0,2556.0,927.0,927.0,432.0,2218.0,2401.0,642.0,802.0,1400.0,1124.0,390.0],\"y\":[742.0,1900.0,2120.0,1625.0,1355.0,1143.0,1630.0,1432.0,858.0,1015.0,1546.0,900.0,1053.0,1205.0,1745.0,1651.0,2137.0,641.0,925.0,1627.0,613.0,1920.0,1129.0,941.0,1222.0,1252.0,701.0,1131.0,1453.0,1310.0,538.0,1146.0,1815.0,1742.0,1904.0,1437.0,1140.0,null,1301.0,950.0,1048.0,523.0,1030.0,1030.0,1137.0,1143.0,1101.0,830.0,950.0,853.0,804.0,620.0,1941.0,931.0,1911.0,1621.0,1439.0,750.0,658.0,1355.0,957.0,625.0,1115.0,null,1545.0,944.0,1609.0,651.0,1937.0,1535.0,2015.0,1647.0,827.0,1905.0,930.0,1958.0,1855.0,1015.0,725.0,601.0,2056.0,737.0,829.0,715.0,1245.0,843.0,1958.0,1707.0,1601.0,1025.0,1334.0,2103.0,2052.0,812.0,550.0,835.0,2005.0,1236.0,1155.0,1454.0,1312.0,720.0,1850.0,1403.0,1639.0,1025.0,1515.0,747.0,711.0,1554.0,1814.0,1053.0,1235.0,1740.0,1055.0,1827.0,1701.0,740.0,2020.0,1056.0,2340.0,1837.0,1321.0,2110.0,1033.0,1720.0,732.0,1819.0,1746.0,515.0,737.0,1441.0,617.0,1728.0,556.0,1249.0,914.0,1333.0,1912.0,1546.0,2056.0,655.0,1320.0,1945.0,29.0,1726.0,2158.0,1240.0,910.0,1004.0,1749.0,900.0,1542.0,1148.0,2011.0,1846.0,704.0,1349.0,1455.0,1020.0,1602.0,2305.0,1643.0,1424.0,1152.0,1704.0,641.0,1125.0,1656.0,1125.0,1540.0,1028.0,930.0,1100.0,930.0,1624.0,1435.0,1954.0,1048.0,1855.0,1743.0,1422.0,1323.0,1331.0,2051.0,1400.0,920.0,1058.0,2051.0,620.0,1918.0,632.0,1416.0,2043.0,1241.0,1200.0,1725.0,745.0,1137.0,740.0,1936.0,1652.0,707.0,2036.0,1141.0,658.0,1129.0,2329.0,1335.0,1814.0,1339.0,830.0,null,1353.0,1724.0,1525.0,2030.0,734.0,902.0,1451.0,1328.0,1555.0,1258.0,1655.0,null,1122.0,1823.0,840.0,631.0,1642.0,833.0,2213.0,1707.0,1211.0,556.0,1336.0,1448.0,1944.0,2105.0,1607.0,1227.0,1752.0,1203.0,null,613.0,1145.0,621.0,1504.0,655.0,2146.0,809.0,1925.0,1925.0,826.0,811.0,1123.0,2246.0,1326.0,900.0,1333.0,1726.0,1603.0,1455.0,654.0,null,1353.0,1255.0,919.0,1717.0,2026.0,2245.0,1039.0,1954.0,1525.0,1116.0,1059.0,805.0,1423.0,null,1930.0,2125.0,1340.0,1129.0,1551.0,821.0,1436.0,1836.0,948.0,1631.0,1222.0,2253.0,719.0,1342.0,1853.0,1401.0,959.0,750.0,2000.0,1025.0,1734.0,841.0,1031.0,940.0,1823.0,627.0,1621.0,1617.0,null,1133.0,2017.0,2059.0,125.0,1623.0,1344.0,1454.0,1404.0,555.0,1001.0,1840.0,1432.0,706.0,1013.0,1430.0,1224.0,1015.0,1809.0,2103.0,1120.0,1757.0,1711.0,null,733.0,1055.0,1111.0,925.0,722.0,1444.0,640.0,1646.0,2100.0,2049.0,1600.0,1547.0,1936.0,1023.0,1614.0,2037.0,1458.0,1851.0,1034.0,2007.0,1154.0,1951.0,1538.0,1153.0,1210.0,909.0,1144.0,2339.0,2002.0,1627.0,944.0,1806.0,1309.0,1539.0,809.0,1703.0,2142.0,830.0,1255.0,721.0,1136.0,1925.0,1621.0,1439.0,813.0,2114.0,1414.0,1343.0,1037.0,1050.0,1351.0,842.0,1419.0,2014.0,4.0,1157.0,1548.0,1442.0,1016.0,1934.0,857.0,1513.0,2144.0,1644.0,857.0,1048.0,531.0,1502.0,1302.0,839.0,1324.0,742.0,557.0,1110.0,1742.0,1636.0,1910.0,1015.0,1654.0,1155.0,1338.0,1458.0,2158.0,1900.0,1326.0,954.0,1745.0,1118.0,1108.0,821.0,2011.0,1320.0,703.0,1710.0,1714.0,758.0,1239.0,2147.0,1956.0,1802.0,2152.0,1705.0,1713.0,1009.0,1135.0,1255.0,920.0,1315.0,720.0,1210.0,1036.0,1215.0,1108.0,1704.0,1357.0,2005.0,2004.0,1651.0,1409.0,1637.0,2138.0,null,1337.0,1840.0,1830.0,1903.0,1426.0,2101.0,829.0,1628.0,1828.0,1010.0,1313.0,1854.0,645.0,1142.0,2035.0,2036.0,1747.0,1829.0,641.0,1350.0,1133.0,null,1604.0,923.0,926.0,645.0,null,625.0,526.0,831.0,830.0,700.0,759.0,829.0,600.0,745.0,1257.0,1458.0,1008.0,1502.0,1250.0,1755.0,1225.0,2001.0,1815.0,1728.0,1208.0,537.0,652.0,1226.0,2105.0,1948.0,1424.0,1325.0,1725.0,1226.0,1450.0,1505.0,802.0,1048.0,955.0,904.0,1227.0,732.0,1043.0,2150.0,700.0,1106.0,1710.0,2019.0,1553.0,1138.0,1840.0,1859.0,1802.0,648.0,821.0,2206.0,1810.0,745.0,1847.0,1535.0,610.0,810.0,1536.0,1457.0,624.0,1943.0,923.0,1451.0,1826.0,1648.0,1841.0,1743.0,1925.0,2059.0,1539.0,1323.0,1553.0,1039.0,2034.0,920.0,934.0,858.0,551.0,2009.0,1454.0,800.0,1000.0,857.0,1648.0,1649.0,1151.0,531.0,1605.0,1118.0,1735.0,1517.0,559.0,1858.0,700.0,2120.0,1000.0,1620.0,947.0,1835.0,null,1529.0,1645.0,1732.0,635.0,2005.0,1408.0,910.0,2120.0,1803.0,610.0,702.0,1005.0,1608.0,1414.0,1728.0,1529.0,1025.0,1327.0,1452.0,1348.0,1407.0,1016.0,1727.0,1343.0,2204.0,1229.0,1324.0,1839.0,1539.0,600.0,1255.0,1051.0,1006.0,1035.0,1901.0,1158.0,1843.0,1551.0,759.0,1631.0,1135.0,2104.0,1430.0,852.0,2210.0,null,1705.0,910.0,855.0,1929.0,1928.0,1732.0,801.0,null,1440.0,647.0,634.0,2125.0,null,700.0,1114.0,1012.0,752.0,2016.0,1200.0,1807.0,1839.0,2207.0,null,1424.0,1419.0,1436.0,2033.0,1008.0,1458.0,645.0,1416.0,2108.0,840.0,1647.0,2158.0,1645.0,633.0,2008.0,815.0,1545.0,2035.0,1515.0,1312.0,1225.0,843.0,2130.0,1021.0,1332.0,1110.0,2043.0,1311.0,615.0,2110.0,1632.0,1710.0,1450.0,1314.0,1840.0,914.0,1556.0,1448.0,1629.0,845.0,1858.0,1256.0,1346.0,1249.0,1155.0,1755.0,700.0,1728.0,1900.0,2030.0,1544.0,1310.0,1445.0,2017.0,1047.0,815.0,1521.0,840.0,2145.0,1519.0,619.0,1947.0,1717.0,1600.0,1350.0,631.0,1522.0,1523.0,948.0,2220.0,840.0,1536.0,755.0,1548.0,1954.0,45.0,1917.0,928.0,1326.0,547.0,1446.0,825.0,1751.0,1044.0,550.0,1220.0,2209.0,1240.0,1610.0,1347.0,1245.0,1150.0,1233.0,1047.0,632.0,2232.0,2200.0,2105.0,1833.0,1043.0,1010.0,1741.0,754.0,1649.0,931.0,1930.0,1156.0,601.0,2209.0,1432.0,723.0,834.0,1342.0,1253.0,921.0,1209.0,2158.0,1845.0,1845.0,700.0,1743.0,2319.0,555.0,645.0,1545.0,855.0,1629.0,759.0,956.0,708.0,1106.0,1256.0,1425.0,1730.0,157.0,957.0,817.0,1151.0,953.0,null,2219.0,1203.0,2021.0,1324.0,1633.0,1442.0,939.0,58.0,1748.0,1250.0,1212.0,730.0,1801.0,706.0,1002.0,1209.0,1323.0,1127.0,1501.0,2315.0,1854.0,2126.0,2239.0,2220.0,1040.0,1840.0,608.0,1755.0,131.0,1320.0,1704.0,1745.0,1215.0,1953.0,701.0,1316.0,1102.0,1446.0,650.0,730.0,1055.0,1613.0,1645.0,1300.0,830.0,1935.0,1617.0,949.0,1930.0,2250.0,641.0,2310.0,1959.0,1855.0,1856.0,1155.0,1148.0,1106.0,2.0,700.0,623.0,1917.0,636.0,1048.0,1241.0,1030.0,700.0,11.0,1447.0,757.0,1757.0,1220.0,717.0,1130.0,1302.0,819.0,939.0,1455.0,1006.0,1354.0,1903.0,1437.0,2040.0,1915.0,659.0,1820.0,1510.0,1951.0,804.0,2219.0,2108.0,1426.0,1729.0,2131.0,1720.0,1420.0,1339.0,2123.0,1649.0,1836.0,1713.0,1924.0,1659.0,959.0,724.0,559.0,1405.0,1449.0,905.0,1158.0,2035.0,2030.0,722.0,1117.0,810.0,null,2050.0,2141.0,720.0,1459.0,1215.0,800.0,1552.0,1400.0,557.0,951.0,2020.0,1240.0,1900.0,1519.0,1636.0,1709.0,1539.0,855.0,921.0,622.0,825.0,2118.0,857.0,854.0,845.0,719.0,2035.0,1434.0,2023.0,1010.0,632.0,800.0,935.0,1610.0,1215.0,2053.0,1431.0,1256.0,1705.0,1429.0,1019.0,757.0,1940.0,1557.0,2113.0,1724.0,1251.0,2141.0,1704.0,null,1355.0,1730.0,1905.0,1112.0,1550.0,1128.0,2147.0,1015.0,null,1435.0,1709.0,1037.0,826.0,2213.0,2030.0,657.0,1621.0,2106.0,950.0,700.0,954.0,1233.0,923.0,2033.0,1145.0,1000.0,1007.0,1000.0,1957.0,1943.0,1254.0,1810.0,1659.0,705.0,1512.0,948.0,753.0,2134.0,null,1844.0,1300.0,1356.0,1636.0,1932.0,920.0],\"type\":\"scatter\"}],                        {\"template\":{\"data\":{\"histogram2dcontour\":[{\"type\":\"histogram2dcontour\",\"colorbar\":{\"outlinewidth\":0,\"ticks\":\"\"},\"colorscale\":[[0.0,\"#0d0887\"],[0.1111111111111111,\"#46039f\"],[0.2222222222222222,\"#7201a8\"],[0.3333333333333333,\"#9c179e\"],[0.4444444444444444,\"#bd3786\"],[0.5555555555555556,\"#d8576b\"],[0.6666666666666666,\"#ed7953\"],[0.7777777777777778,\"#fb9f3a\"],[0.8888888888888888,\"#fdca26\"],[1.0,\"#f0f921\"]]}],\"choropleth\":[{\"type\":\"choropleth\",\"colorbar\":{\"outlinewidth\":0,\"ticks\":\"\"}}],\"histogram2d\":[{\"type\":\"histogram2d\",\"colorbar\":{\"outlinewidth\":0,\"ticks\":\"\"},\"colorscale\":[[0.0,\"#0d0887\"],[0.1111111111111111,\"#46039f\"],[0.2222222222222222,\"#7201a8\"],[0.3333333333333333,\"#9c179e\"],[0.4444444444444444,\"#bd3786\"],[0.5555555555555556,\"#d8576b\"],[0.6666666666666666,\"#ed7953\"],[0.7777777777777778,\"#fb9f3a\"],[0.8888888888888888,\"#fdca26\"],[1.0,\"#f0f921\"]]}],\"heatmap\":[{\"type\":\"heatmap\",\"colorbar\":{\"outlinewidth\":0,\"ticks\":\"\"},\"colorscale\":[[0.0,\"#0d0887\"],[0.1111111111111111,\"#46039f\"],[0.2222222222222222,\"#7201a8\"],[0.3333333333333333,\"#9c179e\"],[0.4444444444444444,\"#bd3786\"],[0.5555555555555556,\"#d8576b\"],[0.6666666666666666,\"#ed7953\"],[0.7777777777777778,\"#fb9f3a\"],[0.8888888888888888,\"#fdca26\"],[1.0,\"#f0f921\"]]}],\"heatmapgl\":[{\"type\":\"heatmapgl\",\"colorbar\":{\"outlinewidth\":0,\"ticks\":\"\"},\"colorscale\":[[0.0,\"#0d0887\"],[0.1111111111111111,\"#46039f\"],[0.2222222222222222,\"#7201a8\"],[0.3333333333333333,\"#9c179e\"],[0.4444444444444444,\"#bd3786\"],[0.5555555555555556,\"#d8576b\"],[0.6666666666666666,\"#ed7953\"],[0.7777777777777778,\"#fb9f3a\"],[0.8888888888888888,\"#fdca26\"],[1.0,\"#f0f921\"]]}],\"contourcarpet\":[{\"type\":\"contourcarpet\",\"colorbar\":{\"outlinewidth\":0,\"ticks\":\"\"}}],\"contour\":[{\"type\":\"contour\",\"colorbar\":{\"outlinewidth\":0,\"ticks\":\"\"},\"colorscale\":[[0.0,\"#0d0887\"],[0.1111111111111111,\"#46039f\"],[0.2222222222222222,\"#7201a8\"],[0.3333333333333333,\"#9c179e\"],[0.4444444444444444,\"#bd3786\"],[0.5555555555555556,\"#d8576b\"],[0.6666666666666666,\"#ed7953\"],[0.7777777777777778,\"#fb9f3a\"],[0.8888888888888888,\"#fdca26\"],[1.0,\"#f0f921\"]]}],\"surface\":[{\"type\":\"surface\",\"colorbar\":{\"outlinewidth\":0,\"ticks\":\"\"},\"colorscale\":[[0.0,\"#0d0887\"],[0.1111111111111111,\"#46039f\"],[0.2222222222222222,\"#7201a8\"],[0.3333333333333333,\"#9c179e\"],[0.4444444444444444,\"#bd3786\"],[0.5555555555555556,\"#d8576b\"],[0.6666666666666666,\"#ed7953\"],[0.7777777777777778,\"#fb9f3a\"],[0.8888888888888888,\"#fdca26\"],[1.0,\"#f0f921\"]]}],\"mesh3d\":[{\"type\":\"mesh3d\",\"colorbar\":{\"outlinewidth\":0,\"ticks\":\"\"}}],\"scatter\":[{\"fillpattern\":{\"fillmode\":\"overlay\",\"size\":10,\"solidity\":0.2},\"type\":\"scatter\"}],\"parcoords\":[{\"type\":\"parcoords\",\"line\":{\"colorbar\":{\"outlinewidth\":0,\"ticks\":\"\"}}}],\"scatterpolargl\":[{\"type\":\"scatterpolargl\",\"marker\":{\"colorbar\":{\"outlinewidth\":0,\"ticks\":\"\"}}}],\"bar\":[{\"error_x\":{\"color\":\"#2a3f5f\"},\"error_y\":{\"color\":\"#2a3f5f\"},\"marker\":{\"line\":{\"color\":\"#E5ECF6\",\"width\":0.5},\"pattern\":{\"fillmode\":\"overlay\",\"size\":10,\"solidity\":0.2}},\"type\":\"bar\"}],\"scattergeo\":[{\"type\":\"scattergeo\",\"marker\":{\"colorbar\":{\"outlinewidth\":0,\"ticks\":\"\"}}}],\"scatterpolar\":[{\"type\":\"scatterpolar\",\"marker\":{\"colorbar\":{\"outlinewidth\":0,\"ticks\":\"\"}}}],\"histogram\":[{\"marker\":{\"pattern\":{\"fillmode\":\"overlay\",\"size\":10,\"solidity\":0.2}},\"type\":\"histogram\"}],\"scattergl\":[{\"type\":\"scattergl\",\"marker\":{\"colorbar\":{\"outlinewidth\":0,\"ticks\":\"\"}}}],\"scatter3d\":[{\"type\":\"scatter3d\",\"line\":{\"colorbar\":{\"outlinewidth\":0,\"ticks\":\"\"}},\"marker\":{\"colorbar\":{\"outlinewidth\":0,\"ticks\":\"\"}}}],\"scattermapbox\":[{\"type\":\"scattermapbox\",\"marker\":{\"colorbar\":{\"outlinewidth\":0,\"ticks\":\"\"}}}],\"scatterternary\":[{\"type\":\"scatterternary\",\"marker\":{\"colorbar\":{\"outlinewidth\":0,\"ticks\":\"\"}}}],\"scattercarpet\":[{\"type\":\"scattercarpet\",\"marker\":{\"colorbar\":{\"outlinewidth\":0,\"ticks\":\"\"}}}],\"carpet\":[{\"aaxis\":{\"endlinecolor\":\"#2a3f5f\",\"gridcolor\":\"white\",\"linecolor\":\"white\",\"minorgridcolor\":\"white\",\"startlinecolor\":\"#2a3f5f\"},\"baxis\":{\"endlinecolor\":\"#2a3f5f\",\"gridcolor\":\"white\",\"linecolor\":\"white\",\"minorgridcolor\":\"white\",\"startlinecolor\":\"#2a3f5f\"},\"type\":\"carpet\"}],\"table\":[{\"cells\":{\"fill\":{\"color\":\"#EBF0F8\"},\"line\":{\"color\":\"white\"}},\"header\":{\"fill\":{\"color\":\"#C8D4E3\"},\"line\":{\"color\":\"white\"}},\"type\":\"table\"}],\"barpolar\":[{\"marker\":{\"line\":{\"color\":\"#E5ECF6\",\"width\":0.5},\"pattern\":{\"fillmode\":\"overlay\",\"size\":10,\"solidity\":0.2}},\"type\":\"barpolar\"}],\"pie\":[{\"automargin\":true,\"type\":\"pie\"}]},\"layout\":{\"autotypenumbers\":\"strict\",\"colorway\":[\"#636efa\",\"#EF553B\",\"#00cc96\",\"#ab63fa\",\"#FFA15A\",\"#19d3f3\",\"#FF6692\",\"#B6E880\",\"#FF97FF\",\"#FECB52\"],\"font\":{\"color\":\"#2a3f5f\"},\"hovermode\":\"closest\",\"hoverlabel\":{\"align\":\"left\"},\"paper_bgcolor\":\"white\",\"plot_bgcolor\":\"#E5ECF6\",\"polar\":{\"bgcolor\":\"#E5ECF6\",\"angularaxis\":{\"gridcolor\":\"white\",\"linecolor\":\"white\",\"ticks\":\"\"},\"radialaxis\":{\"gridcolor\":\"white\",\"linecolor\":\"white\",\"ticks\":\"\"}},\"ternary\":{\"bgcolor\":\"#E5ECF6\",\"aaxis\":{\"gridcolor\":\"white\",\"linecolor\":\"white\",\"ticks\":\"\"},\"baxis\":{\"gridcolor\":\"white\",\"linecolor\":\"white\",\"ticks\":\"\"},\"caxis\":{\"gridcolor\":\"white\",\"linecolor\":\"white\",\"ticks\":\"\"}},\"coloraxis\":{\"colorbar\":{\"outlinewidth\":0,\"ticks\":\"\"}},\"colorscale\":{\"sequential\":[[0.0,\"#0d0887\"],[0.1111111111111111,\"#46039f\"],[0.2222222222222222,\"#7201a8\"],[0.3333333333333333,\"#9c179e\"],[0.4444444444444444,\"#bd3786\"],[0.5555555555555556,\"#d8576b\"],[0.6666666666666666,\"#ed7953\"],[0.7777777777777778,\"#fb9f3a\"],[0.8888888888888888,\"#fdca26\"],[1.0,\"#f0f921\"]],\"sequentialminus\":[[0.0,\"#0d0887\"],[0.1111111111111111,\"#46039f\"],[0.2222222222222222,\"#7201a8\"],[0.3333333333333333,\"#9c179e\"],[0.4444444444444444,\"#bd3786\"],[0.5555555555555556,\"#d8576b\"],[0.6666666666666666,\"#ed7953\"],[0.7777777777777778,\"#fb9f3a\"],[0.8888888888888888,\"#fdca26\"],[1.0,\"#f0f921\"]],\"diverging\":[[0,\"#8e0152\"],[0.1,\"#c51b7d\"],[0.2,\"#de77ae\"],[0.3,\"#f1b6da\"],[0.4,\"#fde0ef\"],[0.5,\"#f7f7f7\"],[0.6,\"#e6f5d0\"],[0.7,\"#b8e186\"],[0.8,\"#7fbc41\"],[0.9,\"#4d9221\"],[1,\"#276419\"]]},\"xaxis\":{\"gridcolor\":\"white\",\"linecolor\":\"white\",\"ticks\":\"\",\"title\":{\"standoff\":15},\"zerolinecolor\":\"white\",\"automargin\":true,\"zerolinewidth\":2},\"yaxis\":{\"gridcolor\":\"white\",\"linecolor\":\"white\",\"ticks\":\"\",\"title\":{\"standoff\":15},\"zerolinecolor\":\"white\",\"automargin\":true,\"zerolinewidth\":2},\"scene\":{\"xaxis\":{\"backgroundcolor\":\"#E5ECF6\",\"gridcolor\":\"white\",\"linecolor\":\"white\",\"showbackground\":true,\"ticks\":\"\",\"zerolinecolor\":\"white\",\"gridwidth\":2},\"yaxis\":{\"backgroundcolor\":\"#E5ECF6\",\"gridcolor\":\"white\",\"linecolor\":\"white\",\"showbackground\":true,\"ticks\":\"\",\"zerolinecolor\":\"white\",\"gridwidth\":2},\"zaxis\":{\"backgroundcolor\":\"#E5ECF6\",\"gridcolor\":\"white\",\"linecolor\":\"white\",\"showbackground\":true,\"ticks\":\"\",\"zerolinecolor\":\"white\",\"gridwidth\":2}},\"shapedefaults\":{\"line\":{\"color\":\"#2a3f5f\"}},\"annotationdefaults\":{\"arrowcolor\":\"#2a3f5f\",\"arrowhead\":0,\"arrowwidth\":1},\"geo\":{\"bgcolor\":\"white\",\"landcolor\":\"#E5ECF6\",\"subunitcolor\":\"white\",\"showland\":true,\"showlakes\":true,\"lakecolor\":\"white\"},\"title\":{\"x\":0.05},\"mapbox\":{\"style\":\"light\"}}},\"title\":{\"text\":\"Distance vs Dipature Time\"},\"xaxis\":{\"title\":{\"text\":\"Distance\"}},\"yaxis\":{\"title\":{\"text\":\"Dipature Time\"}}},                        {\"responsive\": true}                    ).then(function(){\n",
       "                            \n",
       "var gd = document.getElementById('4d0fc69e-82e4-43b6-9520-eb78d1427699');\n",
       "var x = new MutationObserver(function (mutations, observer) {{\n",
       "        var display = window.getComputedStyle(gd).display;\n",
       "        if (!display || display === 'none') {{\n",
       "            console.log([gd, 'removed!']);\n",
       "            Plotly.purge(gd);\n",
       "            observer.disconnect();\n",
       "        }}\n",
       "}});\n",
       "\n",
       "// Listen for the removal of the full notebook cells\n",
       "var notebookContainer = gd.closest('#notebook-container');\n",
       "if (notebookContainer) {{\n",
       "    x.observe(notebookContainer, {childList: true});\n",
       "}}\n",
       "\n",
       "// Listen for the clearing of the current output cell\n",
       "var outputEl = gd.closest('.output');\n",
       "if (outputEl) {{\n",
       "    x.observe(outputEl, {childList: true});\n",
       "}}\n",
       "\n",
       "                        })                };                });            </script>        </div>"
      ]
     },
     "metadata": {},
     "output_type": "display_data"
    }
   ],
   "source": [
    "    fig = go.Figure(data=go.Scatter(x=df['Distance'],y=df['DepTime'],mode='markers',marker=dict(color='red')))\n",
    "    fig.update_layout(title='Distance vs Dipature Time',xaxis_title='Distance',yaxis_title='Dipature Time')\n",
    "    fig.show()"
   ]
  },
  {
   "cell_type": "markdown",
   "id": "3dccbe1f",
   "metadata": {},
   "source": [
    "### Line plot"
   ]
  },
  {
   "cell_type": "code",
   "execution_count": 44,
   "id": "e8f1f7af",
   "metadata": {},
   "outputs": [
    {
     "data": {
      "text/html": [
       "<div>\n",
       "<style scoped>\n",
       "    .dataframe tbody tr th:only-of-type {\n",
       "        vertical-align: middle;\n",
       "    }\n",
       "\n",
       "    .dataframe tbody tr th {\n",
       "        vertical-align: top;\n",
       "    }\n",
       "\n",
       "    .dataframe thead th {\n",
       "        text-align: right;\n",
       "    }\n",
       "</style>\n",
       "<table border=\"1\" class=\"dataframe\">\n",
       "  <thead>\n",
       "    <tr style=\"text-align: right;\">\n",
       "      <th></th>\n",
       "      <th>Month</th>\n",
       "      <th>ArrDelay</th>\n",
       "    </tr>\n",
       "  </thead>\n",
       "  <tbody>\n",
       "    <tr>\n",
       "      <th>0</th>\n",
       "      <td>1</td>\n",
       "      <td>6.527778</td>\n",
       "    </tr>\n",
       "    <tr>\n",
       "      <th>1</th>\n",
       "      <td>2</td>\n",
       "      <td>4.250000</td>\n",
       "    </tr>\n",
       "    <tr>\n",
       "      <th>2</th>\n",
       "      <td>3</td>\n",
       "      <td>15.518987</td>\n",
       "    </tr>\n",
       "    <tr>\n",
       "      <th>3</th>\n",
       "      <td>4</td>\n",
       "      <td>1.872340</td>\n",
       "    </tr>\n",
       "    <tr>\n",
       "      <th>4</th>\n",
       "      <td>5</td>\n",
       "      <td>1.180723</td>\n",
       "    </tr>\n",
       "    <tr>\n",
       "      <th>5</th>\n",
       "      <td>6</td>\n",
       "      <td>10.188406</td>\n",
       "    </tr>\n",
       "    <tr>\n",
       "      <th>6</th>\n",
       "      <td>7</td>\n",
       "      <td>9.411111</td>\n",
       "    </tr>\n",
       "    <tr>\n",
       "      <th>7</th>\n",
       "      <td>8</td>\n",
       "      <td>3.043956</td>\n",
       "    </tr>\n",
       "    <tr>\n",
       "      <th>8</th>\n",
       "      <td>9</td>\n",
       "      <td>6.487805</td>\n",
       "    </tr>\n",
       "    <tr>\n",
       "      <th>9</th>\n",
       "      <td>10</td>\n",
       "      <td>3.585714</td>\n",
       "    </tr>\n",
       "    <tr>\n",
       "      <th>10</th>\n",
       "      <td>11</td>\n",
       "      <td>-2.289157</td>\n",
       "    </tr>\n",
       "    <tr>\n",
       "      <th>11</th>\n",
       "      <td>12</td>\n",
       "      <td>7.206186</td>\n",
       "    </tr>\n",
       "  </tbody>\n",
       "</table>\n",
       "</div>"
      ],
      "text/plain": [
       "    Month   ArrDelay\n",
       "0       1   6.527778\n",
       "1       2   4.250000\n",
       "2       3  15.518987\n",
       "3       4   1.872340\n",
       "4       5   1.180723\n",
       "5       6  10.188406\n",
       "6       7   9.411111\n",
       "7       8   3.043956\n",
       "8       9   6.487805\n",
       "9      10   3.585714\n",
       "10     11  -2.289157\n",
       "11     12   7.206186"
      ]
     },
     "execution_count": 44,
     "metadata": {},
     "output_type": "execute_result"
    }
   ],
   "source": [
    "line_data = df.groupby(['Month'])['ArrDelay'].mean().reset_index()\n",
    "line_data"
   ]
  },
  {
   "cell_type": "code",
   "execution_count": 50,
   "id": "74659543",
   "metadata": {},
   "outputs": [
    {
     "data": {
      "application/vnd.plotly.v1+json": {
       "config": {
        "plotlyServerURL": "https://plot.ly"
       },
       "data": [
        {
         "marker": {
          "color": "black"
         },
         "mode": "lines",
         "type": "scatter",
         "x": [
          1,
          2,
          3,
          4,
          5,
          6,
          7,
          8,
          9,
          10,
          11,
          12
         ],
         "y": [
          6.527777777777778,
          4.25,
          15.518987341772151,
          1.872340425531915,
          1.180722891566265,
          10.18840579710145,
          9.411111111111111,
          3.043956043956044,
          6.487804878048781,
          3.585714285714286,
          -2.289156626506024,
          7.206185567010309
         ]
        }
       ],
       "layout": {
        "template": {
         "data": {
          "bar": [
           {
            "error_x": {
             "color": "#2a3f5f"
            },
            "error_y": {
             "color": "#2a3f5f"
            },
            "marker": {
             "line": {
              "color": "#E5ECF6",
              "width": 0.5
             },
             "pattern": {
              "fillmode": "overlay",
              "size": 10,
              "solidity": 0.2
             }
            },
            "type": "bar"
           }
          ],
          "barpolar": [
           {
            "marker": {
             "line": {
              "color": "#E5ECF6",
              "width": 0.5
             },
             "pattern": {
              "fillmode": "overlay",
              "size": 10,
              "solidity": 0.2
             }
            },
            "type": "barpolar"
           }
          ],
          "carpet": [
           {
            "aaxis": {
             "endlinecolor": "#2a3f5f",
             "gridcolor": "white",
             "linecolor": "white",
             "minorgridcolor": "white",
             "startlinecolor": "#2a3f5f"
            },
            "baxis": {
             "endlinecolor": "#2a3f5f",
             "gridcolor": "white",
             "linecolor": "white",
             "minorgridcolor": "white",
             "startlinecolor": "#2a3f5f"
            },
            "type": "carpet"
           }
          ],
          "choropleth": [
           {
            "colorbar": {
             "outlinewidth": 0,
             "ticks": ""
            },
            "type": "choropleth"
           }
          ],
          "contour": [
           {
            "colorbar": {
             "outlinewidth": 0,
             "ticks": ""
            },
            "colorscale": [
             [
              0,
              "#0d0887"
             ],
             [
              0.1111111111111111,
              "#46039f"
             ],
             [
              0.2222222222222222,
              "#7201a8"
             ],
             [
              0.3333333333333333,
              "#9c179e"
             ],
             [
              0.4444444444444444,
              "#bd3786"
             ],
             [
              0.5555555555555556,
              "#d8576b"
             ],
             [
              0.6666666666666666,
              "#ed7953"
             ],
             [
              0.7777777777777778,
              "#fb9f3a"
             ],
             [
              0.8888888888888888,
              "#fdca26"
             ],
             [
              1,
              "#f0f921"
             ]
            ],
            "type": "contour"
           }
          ],
          "contourcarpet": [
           {
            "colorbar": {
             "outlinewidth": 0,
             "ticks": ""
            },
            "type": "contourcarpet"
           }
          ],
          "heatmap": [
           {
            "colorbar": {
             "outlinewidth": 0,
             "ticks": ""
            },
            "colorscale": [
             [
              0,
              "#0d0887"
             ],
             [
              0.1111111111111111,
              "#46039f"
             ],
             [
              0.2222222222222222,
              "#7201a8"
             ],
             [
              0.3333333333333333,
              "#9c179e"
             ],
             [
              0.4444444444444444,
              "#bd3786"
             ],
             [
              0.5555555555555556,
              "#d8576b"
             ],
             [
              0.6666666666666666,
              "#ed7953"
             ],
             [
              0.7777777777777778,
              "#fb9f3a"
             ],
             [
              0.8888888888888888,
              "#fdca26"
             ],
             [
              1,
              "#f0f921"
             ]
            ],
            "type": "heatmap"
           }
          ],
          "heatmapgl": [
           {
            "colorbar": {
             "outlinewidth": 0,
             "ticks": ""
            },
            "colorscale": [
             [
              0,
              "#0d0887"
             ],
             [
              0.1111111111111111,
              "#46039f"
             ],
             [
              0.2222222222222222,
              "#7201a8"
             ],
             [
              0.3333333333333333,
              "#9c179e"
             ],
             [
              0.4444444444444444,
              "#bd3786"
             ],
             [
              0.5555555555555556,
              "#d8576b"
             ],
             [
              0.6666666666666666,
              "#ed7953"
             ],
             [
              0.7777777777777778,
              "#fb9f3a"
             ],
             [
              0.8888888888888888,
              "#fdca26"
             ],
             [
              1,
              "#f0f921"
             ]
            ],
            "type": "heatmapgl"
           }
          ],
          "histogram": [
           {
            "marker": {
             "pattern": {
              "fillmode": "overlay",
              "size": 10,
              "solidity": 0.2
             }
            },
            "type": "histogram"
           }
          ],
          "histogram2d": [
           {
            "colorbar": {
             "outlinewidth": 0,
             "ticks": ""
            },
            "colorscale": [
             [
              0,
              "#0d0887"
             ],
             [
              0.1111111111111111,
              "#46039f"
             ],
             [
              0.2222222222222222,
              "#7201a8"
             ],
             [
              0.3333333333333333,
              "#9c179e"
             ],
             [
              0.4444444444444444,
              "#bd3786"
             ],
             [
              0.5555555555555556,
              "#d8576b"
             ],
             [
              0.6666666666666666,
              "#ed7953"
             ],
             [
              0.7777777777777778,
              "#fb9f3a"
             ],
             [
              0.8888888888888888,
              "#fdca26"
             ],
             [
              1,
              "#f0f921"
             ]
            ],
            "type": "histogram2d"
           }
          ],
          "histogram2dcontour": [
           {
            "colorbar": {
             "outlinewidth": 0,
             "ticks": ""
            },
            "colorscale": [
             [
              0,
              "#0d0887"
             ],
             [
              0.1111111111111111,
              "#46039f"
             ],
             [
              0.2222222222222222,
              "#7201a8"
             ],
             [
              0.3333333333333333,
              "#9c179e"
             ],
             [
              0.4444444444444444,
              "#bd3786"
             ],
             [
              0.5555555555555556,
              "#d8576b"
             ],
             [
              0.6666666666666666,
              "#ed7953"
             ],
             [
              0.7777777777777778,
              "#fb9f3a"
             ],
             [
              0.8888888888888888,
              "#fdca26"
             ],
             [
              1,
              "#f0f921"
             ]
            ],
            "type": "histogram2dcontour"
           }
          ],
          "mesh3d": [
           {
            "colorbar": {
             "outlinewidth": 0,
             "ticks": ""
            },
            "type": "mesh3d"
           }
          ],
          "parcoords": [
           {
            "line": {
             "colorbar": {
              "outlinewidth": 0,
              "ticks": ""
             }
            },
            "type": "parcoords"
           }
          ],
          "pie": [
           {
            "automargin": true,
            "type": "pie"
           }
          ],
          "scatter": [
           {
            "fillpattern": {
             "fillmode": "overlay",
             "size": 10,
             "solidity": 0.2
            },
            "type": "scatter"
           }
          ],
          "scatter3d": [
           {
            "line": {
             "colorbar": {
              "outlinewidth": 0,
              "ticks": ""
             }
            },
            "marker": {
             "colorbar": {
              "outlinewidth": 0,
              "ticks": ""
             }
            },
            "type": "scatter3d"
           }
          ],
          "scattercarpet": [
           {
            "marker": {
             "colorbar": {
              "outlinewidth": 0,
              "ticks": ""
             }
            },
            "type": "scattercarpet"
           }
          ],
          "scattergeo": [
           {
            "marker": {
             "colorbar": {
              "outlinewidth": 0,
              "ticks": ""
             }
            },
            "type": "scattergeo"
           }
          ],
          "scattergl": [
           {
            "marker": {
             "colorbar": {
              "outlinewidth": 0,
              "ticks": ""
             }
            },
            "type": "scattergl"
           }
          ],
          "scattermapbox": [
           {
            "marker": {
             "colorbar": {
              "outlinewidth": 0,
              "ticks": ""
             }
            },
            "type": "scattermapbox"
           }
          ],
          "scatterpolar": [
           {
            "marker": {
             "colorbar": {
              "outlinewidth": 0,
              "ticks": ""
             }
            },
            "type": "scatterpolar"
           }
          ],
          "scatterpolargl": [
           {
            "marker": {
             "colorbar": {
              "outlinewidth": 0,
              "ticks": ""
             }
            },
            "type": "scatterpolargl"
           }
          ],
          "scatterternary": [
           {
            "marker": {
             "colorbar": {
              "outlinewidth": 0,
              "ticks": ""
             }
            },
            "type": "scatterternary"
           }
          ],
          "surface": [
           {
            "colorbar": {
             "outlinewidth": 0,
             "ticks": ""
            },
            "colorscale": [
             [
              0,
              "#0d0887"
             ],
             [
              0.1111111111111111,
              "#46039f"
             ],
             [
              0.2222222222222222,
              "#7201a8"
             ],
             [
              0.3333333333333333,
              "#9c179e"
             ],
             [
              0.4444444444444444,
              "#bd3786"
             ],
             [
              0.5555555555555556,
              "#d8576b"
             ],
             [
              0.6666666666666666,
              "#ed7953"
             ],
             [
              0.7777777777777778,
              "#fb9f3a"
             ],
             [
              0.8888888888888888,
              "#fdca26"
             ],
             [
              1,
              "#f0f921"
             ]
            ],
            "type": "surface"
           }
          ],
          "table": [
           {
            "cells": {
             "fill": {
              "color": "#EBF0F8"
             },
             "line": {
              "color": "white"
             }
            },
            "header": {
             "fill": {
              "color": "#C8D4E3"
             },
             "line": {
              "color": "white"
             }
            },
            "type": "table"
           }
          ]
         },
         "layout": {
          "annotationdefaults": {
           "arrowcolor": "#2a3f5f",
           "arrowhead": 0,
           "arrowwidth": 1
          },
          "autotypenumbers": "strict",
          "coloraxis": {
           "colorbar": {
            "outlinewidth": 0,
            "ticks": ""
           }
          },
          "colorscale": {
           "diverging": [
            [
             0,
             "#8e0152"
            ],
            [
             0.1,
             "#c51b7d"
            ],
            [
             0.2,
             "#de77ae"
            ],
            [
             0.3,
             "#f1b6da"
            ],
            [
             0.4,
             "#fde0ef"
            ],
            [
             0.5,
             "#f7f7f7"
            ],
            [
             0.6,
             "#e6f5d0"
            ],
            [
             0.7,
             "#b8e186"
            ],
            [
             0.8,
             "#7fbc41"
            ],
            [
             0.9,
             "#4d9221"
            ],
            [
             1,
             "#276419"
            ]
           ],
           "sequential": [
            [
             0,
             "#0d0887"
            ],
            [
             0.1111111111111111,
             "#46039f"
            ],
            [
             0.2222222222222222,
             "#7201a8"
            ],
            [
             0.3333333333333333,
             "#9c179e"
            ],
            [
             0.4444444444444444,
             "#bd3786"
            ],
            [
             0.5555555555555556,
             "#d8576b"
            ],
            [
             0.6666666666666666,
             "#ed7953"
            ],
            [
             0.7777777777777778,
             "#fb9f3a"
            ],
            [
             0.8888888888888888,
             "#fdca26"
            ],
            [
             1,
             "#f0f921"
            ]
           ],
           "sequentialminus": [
            [
             0,
             "#0d0887"
            ],
            [
             0.1111111111111111,
             "#46039f"
            ],
            [
             0.2222222222222222,
             "#7201a8"
            ],
            [
             0.3333333333333333,
             "#9c179e"
            ],
            [
             0.4444444444444444,
             "#bd3786"
            ],
            [
             0.5555555555555556,
             "#d8576b"
            ],
            [
             0.6666666666666666,
             "#ed7953"
            ],
            [
             0.7777777777777778,
             "#fb9f3a"
            ],
            [
             0.8888888888888888,
             "#fdca26"
            ],
            [
             1,
             "#f0f921"
            ]
           ]
          },
          "colorway": [
           "#636efa",
           "#EF553B",
           "#00cc96",
           "#ab63fa",
           "#FFA15A",
           "#19d3f3",
           "#FF6692",
           "#B6E880",
           "#FF97FF",
           "#FECB52"
          ],
          "font": {
           "color": "#2a3f5f"
          },
          "geo": {
           "bgcolor": "white",
           "lakecolor": "white",
           "landcolor": "#E5ECF6",
           "showlakes": true,
           "showland": true,
           "subunitcolor": "white"
          },
          "hoverlabel": {
           "align": "left"
          },
          "hovermode": "closest",
          "mapbox": {
           "style": "light"
          },
          "paper_bgcolor": "white",
          "plot_bgcolor": "#E5ECF6",
          "polar": {
           "angularaxis": {
            "gridcolor": "white",
            "linecolor": "white",
            "ticks": ""
           },
           "bgcolor": "#E5ECF6",
           "radialaxis": {
            "gridcolor": "white",
            "linecolor": "white",
            "ticks": ""
           }
          },
          "scene": {
           "xaxis": {
            "backgroundcolor": "#E5ECF6",
            "gridcolor": "white",
            "gridwidth": 2,
            "linecolor": "white",
            "showbackground": true,
            "ticks": "",
            "zerolinecolor": "white"
           },
           "yaxis": {
            "backgroundcolor": "#E5ECF6",
            "gridcolor": "white",
            "gridwidth": 2,
            "linecolor": "white",
            "showbackground": true,
            "ticks": "",
            "zerolinecolor": "white"
           },
           "zaxis": {
            "backgroundcolor": "#E5ECF6",
            "gridcolor": "white",
            "gridwidth": 2,
            "linecolor": "white",
            "showbackground": true,
            "ticks": "",
            "zerolinecolor": "white"
           }
          },
          "shapedefaults": {
           "line": {
            "color": "#2a3f5f"
           }
          },
          "ternary": {
           "aaxis": {
            "gridcolor": "white",
            "linecolor": "white",
            "ticks": ""
           },
           "baxis": {
            "gridcolor": "white",
            "linecolor": "white",
            "ticks": ""
           },
           "bgcolor": "#E5ECF6",
           "caxis": {
            "gridcolor": "white",
            "linecolor": "white",
            "ticks": ""
           }
          },
          "title": {
           "x": 0.05
          },
          "xaxis": {
           "automargin": true,
           "gridcolor": "white",
           "linecolor": "white",
           "ticks": "",
           "title": {
            "standoff": 15
           },
           "zerolinecolor": "white",
           "zerolinewidth": 2
          },
          "yaxis": {
           "automargin": true,
           "gridcolor": "white",
           "linecolor": "white",
           "ticks": "",
           "title": {
            "standoff": 15
           },
           "zerolinecolor": "white",
           "zerolinewidth": 2
          }
         }
        },
        "title": {
         "text": "Month vs Flight DealyTime"
        },
        "xaxis": {
         "title": {
          "text": "Month"
         }
        },
        "yaxis": {
         "title": {
          "text": "Flight Delay Time"
         }
        }
       }
      },
      "text/html": [
       "<div>                            <div id=\"dc7750d3-9f4b-450c-b66b-358226068dba\" class=\"plotly-graph-div\" style=\"height:525px; width:100%;\"></div>            <script type=\"text/javascript\">                require([\"plotly\"], function(Plotly) {                    window.PLOTLYENV=window.PLOTLYENV || {};                                    if (document.getElementById(\"dc7750d3-9f4b-450c-b66b-358226068dba\")) {                    Plotly.newPlot(                        \"dc7750d3-9f4b-450c-b66b-358226068dba\",                        [{\"marker\":{\"color\":\"black\"},\"mode\":\"lines\",\"x\":[1,2,3,4,5,6,7,8,9,10,11,12],\"y\":[6.527777777777778,4.25,15.518987341772151,1.872340425531915,1.180722891566265,10.18840579710145,9.411111111111111,3.043956043956044,6.487804878048781,3.585714285714286,-2.289156626506024,7.206185567010309],\"type\":\"scatter\"}],                        {\"template\":{\"data\":{\"histogram2dcontour\":[{\"type\":\"histogram2dcontour\",\"colorbar\":{\"outlinewidth\":0,\"ticks\":\"\"},\"colorscale\":[[0.0,\"#0d0887\"],[0.1111111111111111,\"#46039f\"],[0.2222222222222222,\"#7201a8\"],[0.3333333333333333,\"#9c179e\"],[0.4444444444444444,\"#bd3786\"],[0.5555555555555556,\"#d8576b\"],[0.6666666666666666,\"#ed7953\"],[0.7777777777777778,\"#fb9f3a\"],[0.8888888888888888,\"#fdca26\"],[1.0,\"#f0f921\"]]}],\"choropleth\":[{\"type\":\"choropleth\",\"colorbar\":{\"outlinewidth\":0,\"ticks\":\"\"}}],\"histogram2d\":[{\"type\":\"histogram2d\",\"colorbar\":{\"outlinewidth\":0,\"ticks\":\"\"},\"colorscale\":[[0.0,\"#0d0887\"],[0.1111111111111111,\"#46039f\"],[0.2222222222222222,\"#7201a8\"],[0.3333333333333333,\"#9c179e\"],[0.4444444444444444,\"#bd3786\"],[0.5555555555555556,\"#d8576b\"],[0.6666666666666666,\"#ed7953\"],[0.7777777777777778,\"#fb9f3a\"],[0.8888888888888888,\"#fdca26\"],[1.0,\"#f0f921\"]]}],\"heatmap\":[{\"type\":\"heatmap\",\"colorbar\":{\"outlinewidth\":0,\"ticks\":\"\"},\"colorscale\":[[0.0,\"#0d0887\"],[0.1111111111111111,\"#46039f\"],[0.2222222222222222,\"#7201a8\"],[0.3333333333333333,\"#9c179e\"],[0.4444444444444444,\"#bd3786\"],[0.5555555555555556,\"#d8576b\"],[0.6666666666666666,\"#ed7953\"],[0.7777777777777778,\"#fb9f3a\"],[0.8888888888888888,\"#fdca26\"],[1.0,\"#f0f921\"]]}],\"heatmapgl\":[{\"type\":\"heatmapgl\",\"colorbar\":{\"outlinewidth\":0,\"ticks\":\"\"},\"colorscale\":[[0.0,\"#0d0887\"],[0.1111111111111111,\"#46039f\"],[0.2222222222222222,\"#7201a8\"],[0.3333333333333333,\"#9c179e\"],[0.4444444444444444,\"#bd3786\"],[0.5555555555555556,\"#d8576b\"],[0.6666666666666666,\"#ed7953\"],[0.7777777777777778,\"#fb9f3a\"],[0.8888888888888888,\"#fdca26\"],[1.0,\"#f0f921\"]]}],\"contourcarpet\":[{\"type\":\"contourcarpet\",\"colorbar\":{\"outlinewidth\":0,\"ticks\":\"\"}}],\"contour\":[{\"type\":\"contour\",\"colorbar\":{\"outlinewidth\":0,\"ticks\":\"\"},\"colorscale\":[[0.0,\"#0d0887\"],[0.1111111111111111,\"#46039f\"],[0.2222222222222222,\"#7201a8\"],[0.3333333333333333,\"#9c179e\"],[0.4444444444444444,\"#bd3786\"],[0.5555555555555556,\"#d8576b\"],[0.6666666666666666,\"#ed7953\"],[0.7777777777777778,\"#fb9f3a\"],[0.8888888888888888,\"#fdca26\"],[1.0,\"#f0f921\"]]}],\"surface\":[{\"type\":\"surface\",\"colorbar\":{\"outlinewidth\":0,\"ticks\":\"\"},\"colorscale\":[[0.0,\"#0d0887\"],[0.1111111111111111,\"#46039f\"],[0.2222222222222222,\"#7201a8\"],[0.3333333333333333,\"#9c179e\"],[0.4444444444444444,\"#bd3786\"],[0.5555555555555556,\"#d8576b\"],[0.6666666666666666,\"#ed7953\"],[0.7777777777777778,\"#fb9f3a\"],[0.8888888888888888,\"#fdca26\"],[1.0,\"#f0f921\"]]}],\"mesh3d\":[{\"type\":\"mesh3d\",\"colorbar\":{\"outlinewidth\":0,\"ticks\":\"\"}}],\"scatter\":[{\"fillpattern\":{\"fillmode\":\"overlay\",\"size\":10,\"solidity\":0.2},\"type\":\"scatter\"}],\"parcoords\":[{\"type\":\"parcoords\",\"line\":{\"colorbar\":{\"outlinewidth\":0,\"ticks\":\"\"}}}],\"scatterpolargl\":[{\"type\":\"scatterpolargl\",\"marker\":{\"colorbar\":{\"outlinewidth\":0,\"ticks\":\"\"}}}],\"bar\":[{\"error_x\":{\"color\":\"#2a3f5f\"},\"error_y\":{\"color\":\"#2a3f5f\"},\"marker\":{\"line\":{\"color\":\"#E5ECF6\",\"width\":0.5},\"pattern\":{\"fillmode\":\"overlay\",\"size\":10,\"solidity\":0.2}},\"type\":\"bar\"}],\"scattergeo\":[{\"type\":\"scattergeo\",\"marker\":{\"colorbar\":{\"outlinewidth\":0,\"ticks\":\"\"}}}],\"scatterpolar\":[{\"type\":\"scatterpolar\",\"marker\":{\"colorbar\":{\"outlinewidth\":0,\"ticks\":\"\"}}}],\"histogram\":[{\"marker\":{\"pattern\":{\"fillmode\":\"overlay\",\"size\":10,\"solidity\":0.2}},\"type\":\"histogram\"}],\"scattergl\":[{\"type\":\"scattergl\",\"marker\":{\"colorbar\":{\"outlinewidth\":0,\"ticks\":\"\"}}}],\"scatter3d\":[{\"type\":\"scatter3d\",\"line\":{\"colorbar\":{\"outlinewidth\":0,\"ticks\":\"\"}},\"marker\":{\"colorbar\":{\"outlinewidth\":0,\"ticks\":\"\"}}}],\"scattermapbox\":[{\"type\":\"scattermapbox\",\"marker\":{\"colorbar\":{\"outlinewidth\":0,\"ticks\":\"\"}}}],\"scatterternary\":[{\"type\":\"scatterternary\",\"marker\":{\"colorbar\":{\"outlinewidth\":0,\"ticks\":\"\"}}}],\"scattercarpet\":[{\"type\":\"scattercarpet\",\"marker\":{\"colorbar\":{\"outlinewidth\":0,\"ticks\":\"\"}}}],\"carpet\":[{\"aaxis\":{\"endlinecolor\":\"#2a3f5f\",\"gridcolor\":\"white\",\"linecolor\":\"white\",\"minorgridcolor\":\"white\",\"startlinecolor\":\"#2a3f5f\"},\"baxis\":{\"endlinecolor\":\"#2a3f5f\",\"gridcolor\":\"white\",\"linecolor\":\"white\",\"minorgridcolor\":\"white\",\"startlinecolor\":\"#2a3f5f\"},\"type\":\"carpet\"}],\"table\":[{\"cells\":{\"fill\":{\"color\":\"#EBF0F8\"},\"line\":{\"color\":\"white\"}},\"header\":{\"fill\":{\"color\":\"#C8D4E3\"},\"line\":{\"color\":\"white\"}},\"type\":\"table\"}],\"barpolar\":[{\"marker\":{\"line\":{\"color\":\"#E5ECF6\",\"width\":0.5},\"pattern\":{\"fillmode\":\"overlay\",\"size\":10,\"solidity\":0.2}},\"type\":\"barpolar\"}],\"pie\":[{\"automargin\":true,\"type\":\"pie\"}]},\"layout\":{\"autotypenumbers\":\"strict\",\"colorway\":[\"#636efa\",\"#EF553B\",\"#00cc96\",\"#ab63fa\",\"#FFA15A\",\"#19d3f3\",\"#FF6692\",\"#B6E880\",\"#FF97FF\",\"#FECB52\"],\"font\":{\"color\":\"#2a3f5f\"},\"hovermode\":\"closest\",\"hoverlabel\":{\"align\":\"left\"},\"paper_bgcolor\":\"white\",\"plot_bgcolor\":\"#E5ECF6\",\"polar\":{\"bgcolor\":\"#E5ECF6\",\"angularaxis\":{\"gridcolor\":\"white\",\"linecolor\":\"white\",\"ticks\":\"\"},\"radialaxis\":{\"gridcolor\":\"white\",\"linecolor\":\"white\",\"ticks\":\"\"}},\"ternary\":{\"bgcolor\":\"#E5ECF6\",\"aaxis\":{\"gridcolor\":\"white\",\"linecolor\":\"white\",\"ticks\":\"\"},\"baxis\":{\"gridcolor\":\"white\",\"linecolor\":\"white\",\"ticks\":\"\"},\"caxis\":{\"gridcolor\":\"white\",\"linecolor\":\"white\",\"ticks\":\"\"}},\"coloraxis\":{\"colorbar\":{\"outlinewidth\":0,\"ticks\":\"\"}},\"colorscale\":{\"sequential\":[[0.0,\"#0d0887\"],[0.1111111111111111,\"#46039f\"],[0.2222222222222222,\"#7201a8\"],[0.3333333333333333,\"#9c179e\"],[0.4444444444444444,\"#bd3786\"],[0.5555555555555556,\"#d8576b\"],[0.6666666666666666,\"#ed7953\"],[0.7777777777777778,\"#fb9f3a\"],[0.8888888888888888,\"#fdca26\"],[1.0,\"#f0f921\"]],\"sequentialminus\":[[0.0,\"#0d0887\"],[0.1111111111111111,\"#46039f\"],[0.2222222222222222,\"#7201a8\"],[0.3333333333333333,\"#9c179e\"],[0.4444444444444444,\"#bd3786\"],[0.5555555555555556,\"#d8576b\"],[0.6666666666666666,\"#ed7953\"],[0.7777777777777778,\"#fb9f3a\"],[0.8888888888888888,\"#fdca26\"],[1.0,\"#f0f921\"]],\"diverging\":[[0,\"#8e0152\"],[0.1,\"#c51b7d\"],[0.2,\"#de77ae\"],[0.3,\"#f1b6da\"],[0.4,\"#fde0ef\"],[0.5,\"#f7f7f7\"],[0.6,\"#e6f5d0\"],[0.7,\"#b8e186\"],[0.8,\"#7fbc41\"],[0.9,\"#4d9221\"],[1,\"#276419\"]]},\"xaxis\":{\"gridcolor\":\"white\",\"linecolor\":\"white\",\"ticks\":\"\",\"title\":{\"standoff\":15},\"zerolinecolor\":\"white\",\"automargin\":true,\"zerolinewidth\":2},\"yaxis\":{\"gridcolor\":\"white\",\"linecolor\":\"white\",\"ticks\":\"\",\"title\":{\"standoff\":15},\"zerolinecolor\":\"white\",\"automargin\":true,\"zerolinewidth\":2},\"scene\":{\"xaxis\":{\"backgroundcolor\":\"#E5ECF6\",\"gridcolor\":\"white\",\"linecolor\":\"white\",\"showbackground\":true,\"ticks\":\"\",\"zerolinecolor\":\"white\",\"gridwidth\":2},\"yaxis\":{\"backgroundcolor\":\"#E5ECF6\",\"gridcolor\":\"white\",\"linecolor\":\"white\",\"showbackground\":true,\"ticks\":\"\",\"zerolinecolor\":\"white\",\"gridwidth\":2},\"zaxis\":{\"backgroundcolor\":\"#E5ECF6\",\"gridcolor\":\"white\",\"linecolor\":\"white\",\"showbackground\":true,\"ticks\":\"\",\"zerolinecolor\":\"white\",\"gridwidth\":2}},\"shapedefaults\":{\"line\":{\"color\":\"#2a3f5f\"}},\"annotationdefaults\":{\"arrowcolor\":\"#2a3f5f\",\"arrowhead\":0,\"arrowwidth\":1},\"geo\":{\"bgcolor\":\"white\",\"landcolor\":\"#E5ECF6\",\"subunitcolor\":\"white\",\"showland\":true,\"showlakes\":true,\"lakecolor\":\"white\"},\"title\":{\"x\":0.05},\"mapbox\":{\"style\":\"light\"}}},\"title\":{\"text\":\"Month vs Flight DealyTime\"},\"xaxis\":{\"title\":{\"text\":\"Month\"}},\"yaxis\":{\"title\":{\"text\":\"Flight Delay Time\"}}},                        {\"responsive\": true}                    ).then(function(){\n",
       "                            \n",
       "var gd = document.getElementById('dc7750d3-9f4b-450c-b66b-358226068dba');\n",
       "var x = new MutationObserver(function (mutations, observer) {{\n",
       "        var display = window.getComputedStyle(gd).display;\n",
       "        if (!display || display === 'none') {{\n",
       "            console.log([gd, 'removed!']);\n",
       "            Plotly.purge(gd);\n",
       "            observer.disconnect();\n",
       "        }}\n",
       "}});\n",
       "\n",
       "// Listen for the removal of the full notebook cells\n",
       "var notebookContainer = gd.closest('#notebook-container');\n",
       "if (notebookContainer) {{\n",
       "    x.observe(notebookContainer, {childList: true});\n",
       "}}\n",
       "\n",
       "// Listen for the clearing of the current output cell\n",
       "var outputEl = gd.closest('.output');\n",
       "if (outputEl) {{\n",
       "    x.observe(outputEl, {childList: true});\n",
       "}}\n",
       "\n",
       "                        })                };                });            </script>        </div>"
      ]
     },
     "metadata": {},
     "output_type": "display_data"
    }
   ],
   "source": [
    "fig = go.Figure(go.Line (x=line_data['Month'],y=line_data['ArrDelay'],mode='lines',marker=dict(color='black')))\n",
    "fig.update_layout(title='Month vs Flight DealyTime',xaxis_title='Month',yaxis_title='Flight Delay Time')\n",
    "fig.show()"
   ]
  },
  {
   "cell_type": "markdown",
   "id": "db4301a5",
   "metadata": {},
   "source": [
    "## Plotly.Express"
   ]
  },
  {
   "cell_type": "markdown",
   "id": "4551043e",
   "metadata": {},
   "source": [
    "### Bar Chart"
   ]
  },
  {
   "cell_type": "code",
   "execution_count": 63,
   "id": "da9ff0ee",
   "metadata": {},
   "outputs": [
    {
     "data": {
      "text/html": [
       "<div>\n",
       "<style scoped>\n",
       "    .dataframe tbody tr th:only-of-type {\n",
       "        vertical-align: middle;\n",
       "    }\n",
       "\n",
       "    .dataframe tbody tr th {\n",
       "        vertical-align: top;\n",
       "    }\n",
       "\n",
       "    .dataframe thead th {\n",
       "        text-align: right;\n",
       "    }\n",
       "</style>\n",
       "<table border=\"1\" class=\"dataframe\">\n",
       "  <thead>\n",
       "    <tr style=\"text-align: right;\">\n",
       "      <th></th>\n",
       "      <th>DestState</th>\n",
       "      <th>Flights</th>\n",
       "    </tr>\n",
       "  </thead>\n",
       "  <tbody>\n",
       "    <tr>\n",
       "      <th>0</th>\n",
       "      <td>AK</td>\n",
       "      <td>6.0</td>\n",
       "    </tr>\n",
       "    <tr>\n",
       "      <th>1</th>\n",
       "      <td>AL</td>\n",
       "      <td>5.0</td>\n",
       "    </tr>\n",
       "    <tr>\n",
       "      <th>2</th>\n",
       "      <td>AR</td>\n",
       "      <td>2.0</td>\n",
       "    </tr>\n",
       "    <tr>\n",
       "      <th>3</th>\n",
       "      <td>AZ</td>\n",
       "      <td>20.0</td>\n",
       "    </tr>\n",
       "    <tr>\n",
       "      <th>4</th>\n",
       "      <td>CA</td>\n",
       "      <td>122.0</td>\n",
       "    </tr>\n",
       "  </tbody>\n",
       "</table>\n",
       "</div>"
      ],
      "text/plain": [
       "  DestState  Flights\n",
       "0        AK      6.0\n",
       "1        AL      5.0\n",
       "2        AR      2.0\n",
       "3        AZ     20.0\n",
       "4        CA    122.0"
      ]
     },
     "execution_count": 63,
     "metadata": {},
     "output_type": "execute_result"
    }
   ],
   "source": [
    "bar_data = df.groupby(['DestState'])['Flights'].sum().reset_index()\n",
    "bar_data.head()"
   ]
  },
  {
   "cell_type": "code",
   "execution_count": 69,
   "id": "2333d6f4",
   "metadata": {},
   "outputs": [
    {
     "data": {
      "application/vnd.plotly.v1+json": {
       "config": {
        "plotlyServerURL": "https://plot.ly"
       },
       "data": [
        {
         "alignmentgroup": "True",
         "hovertemplate": "DestState=%{x}<br>Flights=%{y}<extra></extra>",
         "legendgroup": "",
         "marker": {
          "color": "#636efa",
          "pattern": {
           "shape": ""
          }
         },
         "name": "",
         "offsetgroup": "",
         "orientation": "v",
         "showlegend": false,
         "textposition": "auto",
         "type": "bar",
         "x": [
          "AK",
          "AL",
          "AR",
          "AZ",
          "CA",
          "CO",
          "CT",
          "FL",
          "GA",
          "HI",
          "IA",
          "ID",
          "IL",
          "IN",
          "KS",
          "KY",
          "LA",
          "MA",
          "MD",
          "ME",
          "MI",
          "MN",
          "MO",
          "MS",
          "MT",
          "NC",
          "ND",
          "NE",
          "NH",
          "NJ",
          "NM",
          "NV",
          "NY",
          "OH",
          "OK",
          "OR",
          "PA",
          "PR",
          "RI",
          "SC",
          "TN",
          "TX",
          "UT",
          "VA",
          "VI",
          "WA",
          "WI"
         ],
         "xaxis": "x",
         "y": [
          6,
          5,
          2,
          20,
          122,
          34,
          6,
          75,
          57,
          11,
          5,
          2,
          67,
          13,
          1,
          25,
          9,
          19,
          12,
          1,
          31,
          17,
          27,
          1,
          5,
          35,
          2,
          3,
          1,
          22,
          10,
          23,
          42,
          21,
          11,
          10,
          34,
          4,
          2,
          6,
          25,
          111,
          12,
          21,
          3,
          16,
          13
         ],
         "yaxis": "y"
        }
       ],
       "layout": {
        "barmode": "relative",
        "legend": {
         "tracegroupgap": 0
        },
        "template": {
         "data": {
          "bar": [
           {
            "error_x": {
             "color": "#2a3f5f"
            },
            "error_y": {
             "color": "#2a3f5f"
            },
            "marker": {
             "line": {
              "color": "#E5ECF6",
              "width": 0.5
             },
             "pattern": {
              "fillmode": "overlay",
              "size": 10,
              "solidity": 0.2
             }
            },
            "type": "bar"
           }
          ],
          "barpolar": [
           {
            "marker": {
             "line": {
              "color": "#E5ECF6",
              "width": 0.5
             },
             "pattern": {
              "fillmode": "overlay",
              "size": 10,
              "solidity": 0.2
             }
            },
            "type": "barpolar"
           }
          ],
          "carpet": [
           {
            "aaxis": {
             "endlinecolor": "#2a3f5f",
             "gridcolor": "white",
             "linecolor": "white",
             "minorgridcolor": "white",
             "startlinecolor": "#2a3f5f"
            },
            "baxis": {
             "endlinecolor": "#2a3f5f",
             "gridcolor": "white",
             "linecolor": "white",
             "minorgridcolor": "white",
             "startlinecolor": "#2a3f5f"
            },
            "type": "carpet"
           }
          ],
          "choropleth": [
           {
            "colorbar": {
             "outlinewidth": 0,
             "ticks": ""
            },
            "type": "choropleth"
           }
          ],
          "contour": [
           {
            "colorbar": {
             "outlinewidth": 0,
             "ticks": ""
            },
            "colorscale": [
             [
              0,
              "#0d0887"
             ],
             [
              0.1111111111111111,
              "#46039f"
             ],
             [
              0.2222222222222222,
              "#7201a8"
             ],
             [
              0.3333333333333333,
              "#9c179e"
             ],
             [
              0.4444444444444444,
              "#bd3786"
             ],
             [
              0.5555555555555556,
              "#d8576b"
             ],
             [
              0.6666666666666666,
              "#ed7953"
             ],
             [
              0.7777777777777778,
              "#fb9f3a"
             ],
             [
              0.8888888888888888,
              "#fdca26"
             ],
             [
              1,
              "#f0f921"
             ]
            ],
            "type": "contour"
           }
          ],
          "contourcarpet": [
           {
            "colorbar": {
             "outlinewidth": 0,
             "ticks": ""
            },
            "type": "contourcarpet"
           }
          ],
          "heatmap": [
           {
            "colorbar": {
             "outlinewidth": 0,
             "ticks": ""
            },
            "colorscale": [
             [
              0,
              "#0d0887"
             ],
             [
              0.1111111111111111,
              "#46039f"
             ],
             [
              0.2222222222222222,
              "#7201a8"
             ],
             [
              0.3333333333333333,
              "#9c179e"
             ],
             [
              0.4444444444444444,
              "#bd3786"
             ],
             [
              0.5555555555555556,
              "#d8576b"
             ],
             [
              0.6666666666666666,
              "#ed7953"
             ],
             [
              0.7777777777777778,
              "#fb9f3a"
             ],
             [
              0.8888888888888888,
              "#fdca26"
             ],
             [
              1,
              "#f0f921"
             ]
            ],
            "type": "heatmap"
           }
          ],
          "heatmapgl": [
           {
            "colorbar": {
             "outlinewidth": 0,
             "ticks": ""
            },
            "colorscale": [
             [
              0,
              "#0d0887"
             ],
             [
              0.1111111111111111,
              "#46039f"
             ],
             [
              0.2222222222222222,
              "#7201a8"
             ],
             [
              0.3333333333333333,
              "#9c179e"
             ],
             [
              0.4444444444444444,
              "#bd3786"
             ],
             [
              0.5555555555555556,
              "#d8576b"
             ],
             [
              0.6666666666666666,
              "#ed7953"
             ],
             [
              0.7777777777777778,
              "#fb9f3a"
             ],
             [
              0.8888888888888888,
              "#fdca26"
             ],
             [
              1,
              "#f0f921"
             ]
            ],
            "type": "heatmapgl"
           }
          ],
          "histogram": [
           {
            "marker": {
             "pattern": {
              "fillmode": "overlay",
              "size": 10,
              "solidity": 0.2
             }
            },
            "type": "histogram"
           }
          ],
          "histogram2d": [
           {
            "colorbar": {
             "outlinewidth": 0,
             "ticks": ""
            },
            "colorscale": [
             [
              0,
              "#0d0887"
             ],
             [
              0.1111111111111111,
              "#46039f"
             ],
             [
              0.2222222222222222,
              "#7201a8"
             ],
             [
              0.3333333333333333,
              "#9c179e"
             ],
             [
              0.4444444444444444,
              "#bd3786"
             ],
             [
              0.5555555555555556,
              "#d8576b"
             ],
             [
              0.6666666666666666,
              "#ed7953"
             ],
             [
              0.7777777777777778,
              "#fb9f3a"
             ],
             [
              0.8888888888888888,
              "#fdca26"
             ],
             [
              1,
              "#f0f921"
             ]
            ],
            "type": "histogram2d"
           }
          ],
          "histogram2dcontour": [
           {
            "colorbar": {
             "outlinewidth": 0,
             "ticks": ""
            },
            "colorscale": [
             [
              0,
              "#0d0887"
             ],
             [
              0.1111111111111111,
              "#46039f"
             ],
             [
              0.2222222222222222,
              "#7201a8"
             ],
             [
              0.3333333333333333,
              "#9c179e"
             ],
             [
              0.4444444444444444,
              "#bd3786"
             ],
             [
              0.5555555555555556,
              "#d8576b"
             ],
             [
              0.6666666666666666,
              "#ed7953"
             ],
             [
              0.7777777777777778,
              "#fb9f3a"
             ],
             [
              0.8888888888888888,
              "#fdca26"
             ],
             [
              1,
              "#f0f921"
             ]
            ],
            "type": "histogram2dcontour"
           }
          ],
          "mesh3d": [
           {
            "colorbar": {
             "outlinewidth": 0,
             "ticks": ""
            },
            "type": "mesh3d"
           }
          ],
          "parcoords": [
           {
            "line": {
             "colorbar": {
              "outlinewidth": 0,
              "ticks": ""
             }
            },
            "type": "parcoords"
           }
          ],
          "pie": [
           {
            "automargin": true,
            "type": "pie"
           }
          ],
          "scatter": [
           {
            "fillpattern": {
             "fillmode": "overlay",
             "size": 10,
             "solidity": 0.2
            },
            "type": "scatter"
           }
          ],
          "scatter3d": [
           {
            "line": {
             "colorbar": {
              "outlinewidth": 0,
              "ticks": ""
             }
            },
            "marker": {
             "colorbar": {
              "outlinewidth": 0,
              "ticks": ""
             }
            },
            "type": "scatter3d"
           }
          ],
          "scattercarpet": [
           {
            "marker": {
             "colorbar": {
              "outlinewidth": 0,
              "ticks": ""
             }
            },
            "type": "scattercarpet"
           }
          ],
          "scattergeo": [
           {
            "marker": {
             "colorbar": {
              "outlinewidth": 0,
              "ticks": ""
             }
            },
            "type": "scattergeo"
           }
          ],
          "scattergl": [
           {
            "marker": {
             "colorbar": {
              "outlinewidth": 0,
              "ticks": ""
             }
            },
            "type": "scattergl"
           }
          ],
          "scattermapbox": [
           {
            "marker": {
             "colorbar": {
              "outlinewidth": 0,
              "ticks": ""
             }
            },
            "type": "scattermapbox"
           }
          ],
          "scatterpolar": [
           {
            "marker": {
             "colorbar": {
              "outlinewidth": 0,
              "ticks": ""
             }
            },
            "type": "scatterpolar"
           }
          ],
          "scatterpolargl": [
           {
            "marker": {
             "colorbar": {
              "outlinewidth": 0,
              "ticks": ""
             }
            },
            "type": "scatterpolargl"
           }
          ],
          "scatterternary": [
           {
            "marker": {
             "colorbar": {
              "outlinewidth": 0,
              "ticks": ""
             }
            },
            "type": "scatterternary"
           }
          ],
          "surface": [
           {
            "colorbar": {
             "outlinewidth": 0,
             "ticks": ""
            },
            "colorscale": [
             [
              0,
              "#0d0887"
             ],
             [
              0.1111111111111111,
              "#46039f"
             ],
             [
              0.2222222222222222,
              "#7201a8"
             ],
             [
              0.3333333333333333,
              "#9c179e"
             ],
             [
              0.4444444444444444,
              "#bd3786"
             ],
             [
              0.5555555555555556,
              "#d8576b"
             ],
             [
              0.6666666666666666,
              "#ed7953"
             ],
             [
              0.7777777777777778,
              "#fb9f3a"
             ],
             [
              0.8888888888888888,
              "#fdca26"
             ],
             [
              1,
              "#f0f921"
             ]
            ],
            "type": "surface"
           }
          ],
          "table": [
           {
            "cells": {
             "fill": {
              "color": "#EBF0F8"
             },
             "line": {
              "color": "white"
             }
            },
            "header": {
             "fill": {
              "color": "#C8D4E3"
             },
             "line": {
              "color": "white"
             }
            },
            "type": "table"
           }
          ]
         },
         "layout": {
          "annotationdefaults": {
           "arrowcolor": "#2a3f5f",
           "arrowhead": 0,
           "arrowwidth": 1
          },
          "autotypenumbers": "strict",
          "coloraxis": {
           "colorbar": {
            "outlinewidth": 0,
            "ticks": ""
           }
          },
          "colorscale": {
           "diverging": [
            [
             0,
             "#8e0152"
            ],
            [
             0.1,
             "#c51b7d"
            ],
            [
             0.2,
             "#de77ae"
            ],
            [
             0.3,
             "#f1b6da"
            ],
            [
             0.4,
             "#fde0ef"
            ],
            [
             0.5,
             "#f7f7f7"
            ],
            [
             0.6,
             "#e6f5d0"
            ],
            [
             0.7,
             "#b8e186"
            ],
            [
             0.8,
             "#7fbc41"
            ],
            [
             0.9,
             "#4d9221"
            ],
            [
             1,
             "#276419"
            ]
           ],
           "sequential": [
            [
             0,
             "#0d0887"
            ],
            [
             0.1111111111111111,
             "#46039f"
            ],
            [
             0.2222222222222222,
             "#7201a8"
            ],
            [
             0.3333333333333333,
             "#9c179e"
            ],
            [
             0.4444444444444444,
             "#bd3786"
            ],
            [
             0.5555555555555556,
             "#d8576b"
            ],
            [
             0.6666666666666666,
             "#ed7953"
            ],
            [
             0.7777777777777778,
             "#fb9f3a"
            ],
            [
             0.8888888888888888,
             "#fdca26"
            ],
            [
             1,
             "#f0f921"
            ]
           ],
           "sequentialminus": [
            [
             0,
             "#0d0887"
            ],
            [
             0.1111111111111111,
             "#46039f"
            ],
            [
             0.2222222222222222,
             "#7201a8"
            ],
            [
             0.3333333333333333,
             "#9c179e"
            ],
            [
             0.4444444444444444,
             "#bd3786"
            ],
            [
             0.5555555555555556,
             "#d8576b"
            ],
            [
             0.6666666666666666,
             "#ed7953"
            ],
            [
             0.7777777777777778,
             "#fb9f3a"
            ],
            [
             0.8888888888888888,
             "#fdca26"
            ],
            [
             1,
             "#f0f921"
            ]
           ]
          },
          "colorway": [
           "#636efa",
           "#EF553B",
           "#00cc96",
           "#ab63fa",
           "#FFA15A",
           "#19d3f3",
           "#FF6692",
           "#B6E880",
           "#FF97FF",
           "#FECB52"
          ],
          "font": {
           "color": "#2a3f5f"
          },
          "geo": {
           "bgcolor": "white",
           "lakecolor": "white",
           "landcolor": "#E5ECF6",
           "showlakes": true,
           "showland": true,
           "subunitcolor": "white"
          },
          "hoverlabel": {
           "align": "left"
          },
          "hovermode": "closest",
          "mapbox": {
           "style": "light"
          },
          "paper_bgcolor": "white",
          "plot_bgcolor": "#E5ECF6",
          "polar": {
           "angularaxis": {
            "gridcolor": "white",
            "linecolor": "white",
            "ticks": ""
           },
           "bgcolor": "#E5ECF6",
           "radialaxis": {
            "gridcolor": "white",
            "linecolor": "white",
            "ticks": ""
           }
          },
          "scene": {
           "xaxis": {
            "backgroundcolor": "#E5ECF6",
            "gridcolor": "white",
            "gridwidth": 2,
            "linecolor": "white",
            "showbackground": true,
            "ticks": "",
            "zerolinecolor": "white"
           },
           "yaxis": {
            "backgroundcolor": "#E5ECF6",
            "gridcolor": "white",
            "gridwidth": 2,
            "linecolor": "white",
            "showbackground": true,
            "ticks": "",
            "zerolinecolor": "white"
           },
           "zaxis": {
            "backgroundcolor": "#E5ECF6",
            "gridcolor": "white",
            "gridwidth": 2,
            "linecolor": "white",
            "showbackground": true,
            "ticks": "",
            "zerolinecolor": "white"
           }
          },
          "shapedefaults": {
           "line": {
            "color": "#2a3f5f"
           }
          },
          "ternary": {
           "aaxis": {
            "gridcolor": "white",
            "linecolor": "white",
            "ticks": ""
           },
           "baxis": {
            "gridcolor": "white",
            "linecolor": "white",
            "ticks": ""
           },
           "bgcolor": "#E5ECF6",
           "caxis": {
            "gridcolor": "white",
            "linecolor": "white",
            "ticks": ""
           }
          },
          "title": {
           "x": 0.05
          },
          "xaxis": {
           "automargin": true,
           "gridcolor": "white",
           "linecolor": "white",
           "ticks": "",
           "title": {
            "standoff": 15
           },
           "zerolinecolor": "white",
           "zerolinewidth": 2
          },
          "yaxis": {
           "automargin": true,
           "gridcolor": "white",
           "linecolor": "white",
           "ticks": "",
           "title": {
            "standoff": 15
           },
           "zerolinecolor": "white",
           "zerolinewidth": 2
          }
         }
        },
        "title": {
         "text": "Total number of flights to the destination state split by reporting airline"
        },
        "xaxis": {
         "anchor": "y",
         "domain": [
          0,
          1
         ],
         "title": {
          "text": "DestState"
         }
        },
        "yaxis": {
         "anchor": "x",
         "domain": [
          0,
          1
         ],
         "title": {
          "text": "Flights"
         }
        }
       }
      },
      "text/html": [
       "<div>                            <div id=\"f6d4ffd0-9a82-4fc0-9e2f-37a640c6dcf1\" class=\"plotly-graph-div\" style=\"height:525px; width:100%;\"></div>            <script type=\"text/javascript\">                require([\"plotly\"], function(Plotly) {                    window.PLOTLYENV=window.PLOTLYENV || {};                                    if (document.getElementById(\"f6d4ffd0-9a82-4fc0-9e2f-37a640c6dcf1\")) {                    Plotly.newPlot(                        \"f6d4ffd0-9a82-4fc0-9e2f-37a640c6dcf1\",                        [{\"alignmentgroup\":\"True\",\"hovertemplate\":\"DestState=%{x}<br>Flights=%{y}<extra></extra>\",\"legendgroup\":\"\",\"marker\":{\"color\":\"#636efa\",\"pattern\":{\"shape\":\"\"}},\"name\":\"\",\"offsetgroup\":\"\",\"orientation\":\"v\",\"showlegend\":false,\"textposition\":\"auto\",\"x\":[\"AK\",\"AL\",\"AR\",\"AZ\",\"CA\",\"CO\",\"CT\",\"FL\",\"GA\",\"HI\",\"IA\",\"ID\",\"IL\",\"IN\",\"KS\",\"KY\",\"LA\",\"MA\",\"MD\",\"ME\",\"MI\",\"MN\",\"MO\",\"MS\",\"MT\",\"NC\",\"ND\",\"NE\",\"NH\",\"NJ\",\"NM\",\"NV\",\"NY\",\"OH\",\"OK\",\"OR\",\"PA\",\"PR\",\"RI\",\"SC\",\"TN\",\"TX\",\"UT\",\"VA\",\"VI\",\"WA\",\"WI\"],\"xaxis\":\"x\",\"y\":[6.0,5.0,2.0,20.0,122.0,34.0,6.0,75.0,57.0,11.0,5.0,2.0,67.0,13.0,1.0,25.0,9.0,19.0,12.0,1.0,31.0,17.0,27.0,1.0,5.0,35.0,2.0,3.0,1.0,22.0,10.0,23.0,42.0,21.0,11.0,10.0,34.0,4.0,2.0,6.0,25.0,111.0,12.0,21.0,3.0,16.0,13.0],\"yaxis\":\"y\",\"type\":\"bar\"}],                        {\"template\":{\"data\":{\"histogram2dcontour\":[{\"type\":\"histogram2dcontour\",\"colorbar\":{\"outlinewidth\":0,\"ticks\":\"\"},\"colorscale\":[[0.0,\"#0d0887\"],[0.1111111111111111,\"#46039f\"],[0.2222222222222222,\"#7201a8\"],[0.3333333333333333,\"#9c179e\"],[0.4444444444444444,\"#bd3786\"],[0.5555555555555556,\"#d8576b\"],[0.6666666666666666,\"#ed7953\"],[0.7777777777777778,\"#fb9f3a\"],[0.8888888888888888,\"#fdca26\"],[1.0,\"#f0f921\"]]}],\"choropleth\":[{\"type\":\"choropleth\",\"colorbar\":{\"outlinewidth\":0,\"ticks\":\"\"}}],\"histogram2d\":[{\"type\":\"histogram2d\",\"colorbar\":{\"outlinewidth\":0,\"ticks\":\"\"},\"colorscale\":[[0.0,\"#0d0887\"],[0.1111111111111111,\"#46039f\"],[0.2222222222222222,\"#7201a8\"],[0.3333333333333333,\"#9c179e\"],[0.4444444444444444,\"#bd3786\"],[0.5555555555555556,\"#d8576b\"],[0.6666666666666666,\"#ed7953\"],[0.7777777777777778,\"#fb9f3a\"],[0.8888888888888888,\"#fdca26\"],[1.0,\"#f0f921\"]]}],\"heatmap\":[{\"type\":\"heatmap\",\"colorbar\":{\"outlinewidth\":0,\"ticks\":\"\"},\"colorscale\":[[0.0,\"#0d0887\"],[0.1111111111111111,\"#46039f\"],[0.2222222222222222,\"#7201a8\"],[0.3333333333333333,\"#9c179e\"],[0.4444444444444444,\"#bd3786\"],[0.5555555555555556,\"#d8576b\"],[0.6666666666666666,\"#ed7953\"],[0.7777777777777778,\"#fb9f3a\"],[0.8888888888888888,\"#fdca26\"],[1.0,\"#f0f921\"]]}],\"heatmapgl\":[{\"type\":\"heatmapgl\",\"colorbar\":{\"outlinewidth\":0,\"ticks\":\"\"},\"colorscale\":[[0.0,\"#0d0887\"],[0.1111111111111111,\"#46039f\"],[0.2222222222222222,\"#7201a8\"],[0.3333333333333333,\"#9c179e\"],[0.4444444444444444,\"#bd3786\"],[0.5555555555555556,\"#d8576b\"],[0.6666666666666666,\"#ed7953\"],[0.7777777777777778,\"#fb9f3a\"],[0.8888888888888888,\"#fdca26\"],[1.0,\"#f0f921\"]]}],\"contourcarpet\":[{\"type\":\"contourcarpet\",\"colorbar\":{\"outlinewidth\":0,\"ticks\":\"\"}}],\"contour\":[{\"type\":\"contour\",\"colorbar\":{\"outlinewidth\":0,\"ticks\":\"\"},\"colorscale\":[[0.0,\"#0d0887\"],[0.1111111111111111,\"#46039f\"],[0.2222222222222222,\"#7201a8\"],[0.3333333333333333,\"#9c179e\"],[0.4444444444444444,\"#bd3786\"],[0.5555555555555556,\"#d8576b\"],[0.6666666666666666,\"#ed7953\"],[0.7777777777777778,\"#fb9f3a\"],[0.8888888888888888,\"#fdca26\"],[1.0,\"#f0f921\"]]}],\"surface\":[{\"type\":\"surface\",\"colorbar\":{\"outlinewidth\":0,\"ticks\":\"\"},\"colorscale\":[[0.0,\"#0d0887\"],[0.1111111111111111,\"#46039f\"],[0.2222222222222222,\"#7201a8\"],[0.3333333333333333,\"#9c179e\"],[0.4444444444444444,\"#bd3786\"],[0.5555555555555556,\"#d8576b\"],[0.6666666666666666,\"#ed7953\"],[0.7777777777777778,\"#fb9f3a\"],[0.8888888888888888,\"#fdca26\"],[1.0,\"#f0f921\"]]}],\"mesh3d\":[{\"type\":\"mesh3d\",\"colorbar\":{\"outlinewidth\":0,\"ticks\":\"\"}}],\"scatter\":[{\"fillpattern\":{\"fillmode\":\"overlay\",\"size\":10,\"solidity\":0.2},\"type\":\"scatter\"}],\"parcoords\":[{\"type\":\"parcoords\",\"line\":{\"colorbar\":{\"outlinewidth\":0,\"ticks\":\"\"}}}],\"scatterpolargl\":[{\"type\":\"scatterpolargl\",\"marker\":{\"colorbar\":{\"outlinewidth\":0,\"ticks\":\"\"}}}],\"bar\":[{\"error_x\":{\"color\":\"#2a3f5f\"},\"error_y\":{\"color\":\"#2a3f5f\"},\"marker\":{\"line\":{\"color\":\"#E5ECF6\",\"width\":0.5},\"pattern\":{\"fillmode\":\"overlay\",\"size\":10,\"solidity\":0.2}},\"type\":\"bar\"}],\"scattergeo\":[{\"type\":\"scattergeo\",\"marker\":{\"colorbar\":{\"outlinewidth\":0,\"ticks\":\"\"}}}],\"scatterpolar\":[{\"type\":\"scatterpolar\",\"marker\":{\"colorbar\":{\"outlinewidth\":0,\"ticks\":\"\"}}}],\"histogram\":[{\"marker\":{\"pattern\":{\"fillmode\":\"overlay\",\"size\":10,\"solidity\":0.2}},\"type\":\"histogram\"}],\"scattergl\":[{\"type\":\"scattergl\",\"marker\":{\"colorbar\":{\"outlinewidth\":0,\"ticks\":\"\"}}}],\"scatter3d\":[{\"type\":\"scatter3d\",\"line\":{\"colorbar\":{\"outlinewidth\":0,\"ticks\":\"\"}},\"marker\":{\"colorbar\":{\"outlinewidth\":0,\"ticks\":\"\"}}}],\"scattermapbox\":[{\"type\":\"scattermapbox\",\"marker\":{\"colorbar\":{\"outlinewidth\":0,\"ticks\":\"\"}}}],\"scatterternary\":[{\"type\":\"scatterternary\",\"marker\":{\"colorbar\":{\"outlinewidth\":0,\"ticks\":\"\"}}}],\"scattercarpet\":[{\"type\":\"scattercarpet\",\"marker\":{\"colorbar\":{\"outlinewidth\":0,\"ticks\":\"\"}}}],\"carpet\":[{\"aaxis\":{\"endlinecolor\":\"#2a3f5f\",\"gridcolor\":\"white\",\"linecolor\":\"white\",\"minorgridcolor\":\"white\",\"startlinecolor\":\"#2a3f5f\"},\"baxis\":{\"endlinecolor\":\"#2a3f5f\",\"gridcolor\":\"white\",\"linecolor\":\"white\",\"minorgridcolor\":\"white\",\"startlinecolor\":\"#2a3f5f\"},\"type\":\"carpet\"}],\"table\":[{\"cells\":{\"fill\":{\"color\":\"#EBF0F8\"},\"line\":{\"color\":\"white\"}},\"header\":{\"fill\":{\"color\":\"#C8D4E3\"},\"line\":{\"color\":\"white\"}},\"type\":\"table\"}],\"barpolar\":[{\"marker\":{\"line\":{\"color\":\"#E5ECF6\",\"width\":0.5},\"pattern\":{\"fillmode\":\"overlay\",\"size\":10,\"solidity\":0.2}},\"type\":\"barpolar\"}],\"pie\":[{\"automargin\":true,\"type\":\"pie\"}]},\"layout\":{\"autotypenumbers\":\"strict\",\"colorway\":[\"#636efa\",\"#EF553B\",\"#00cc96\",\"#ab63fa\",\"#FFA15A\",\"#19d3f3\",\"#FF6692\",\"#B6E880\",\"#FF97FF\",\"#FECB52\"],\"font\":{\"color\":\"#2a3f5f\"},\"hovermode\":\"closest\",\"hoverlabel\":{\"align\":\"left\"},\"paper_bgcolor\":\"white\",\"plot_bgcolor\":\"#E5ECF6\",\"polar\":{\"bgcolor\":\"#E5ECF6\",\"angularaxis\":{\"gridcolor\":\"white\",\"linecolor\":\"white\",\"ticks\":\"\"},\"radialaxis\":{\"gridcolor\":\"white\",\"linecolor\":\"white\",\"ticks\":\"\"}},\"ternary\":{\"bgcolor\":\"#E5ECF6\",\"aaxis\":{\"gridcolor\":\"white\",\"linecolor\":\"white\",\"ticks\":\"\"},\"baxis\":{\"gridcolor\":\"white\",\"linecolor\":\"white\",\"ticks\":\"\"},\"caxis\":{\"gridcolor\":\"white\",\"linecolor\":\"white\",\"ticks\":\"\"}},\"coloraxis\":{\"colorbar\":{\"outlinewidth\":0,\"ticks\":\"\"}},\"colorscale\":{\"sequential\":[[0.0,\"#0d0887\"],[0.1111111111111111,\"#46039f\"],[0.2222222222222222,\"#7201a8\"],[0.3333333333333333,\"#9c179e\"],[0.4444444444444444,\"#bd3786\"],[0.5555555555555556,\"#d8576b\"],[0.6666666666666666,\"#ed7953\"],[0.7777777777777778,\"#fb9f3a\"],[0.8888888888888888,\"#fdca26\"],[1.0,\"#f0f921\"]],\"sequentialminus\":[[0.0,\"#0d0887\"],[0.1111111111111111,\"#46039f\"],[0.2222222222222222,\"#7201a8\"],[0.3333333333333333,\"#9c179e\"],[0.4444444444444444,\"#bd3786\"],[0.5555555555555556,\"#d8576b\"],[0.6666666666666666,\"#ed7953\"],[0.7777777777777778,\"#fb9f3a\"],[0.8888888888888888,\"#fdca26\"],[1.0,\"#f0f921\"]],\"diverging\":[[0,\"#8e0152\"],[0.1,\"#c51b7d\"],[0.2,\"#de77ae\"],[0.3,\"#f1b6da\"],[0.4,\"#fde0ef\"],[0.5,\"#f7f7f7\"],[0.6,\"#e6f5d0\"],[0.7,\"#b8e186\"],[0.8,\"#7fbc41\"],[0.9,\"#4d9221\"],[1,\"#276419\"]]},\"xaxis\":{\"gridcolor\":\"white\",\"linecolor\":\"white\",\"ticks\":\"\",\"title\":{\"standoff\":15},\"zerolinecolor\":\"white\",\"automargin\":true,\"zerolinewidth\":2},\"yaxis\":{\"gridcolor\":\"white\",\"linecolor\":\"white\",\"ticks\":\"\",\"title\":{\"standoff\":15},\"zerolinecolor\":\"white\",\"automargin\":true,\"zerolinewidth\":2},\"scene\":{\"xaxis\":{\"backgroundcolor\":\"#E5ECF6\",\"gridcolor\":\"white\",\"linecolor\":\"white\",\"showbackground\":true,\"ticks\":\"\",\"zerolinecolor\":\"white\",\"gridwidth\":2},\"yaxis\":{\"backgroundcolor\":\"#E5ECF6\",\"gridcolor\":\"white\",\"linecolor\":\"white\",\"showbackground\":true,\"ticks\":\"\",\"zerolinecolor\":\"white\",\"gridwidth\":2},\"zaxis\":{\"backgroundcolor\":\"#E5ECF6\",\"gridcolor\":\"white\",\"linecolor\":\"white\",\"showbackground\":true,\"ticks\":\"\",\"zerolinecolor\":\"white\",\"gridwidth\":2}},\"shapedefaults\":{\"line\":{\"color\":\"#2a3f5f\"}},\"annotationdefaults\":{\"arrowcolor\":\"#2a3f5f\",\"arrowhead\":0,\"arrowwidth\":1},\"geo\":{\"bgcolor\":\"white\",\"landcolor\":\"#E5ECF6\",\"subunitcolor\":\"white\",\"showland\":true,\"showlakes\":true,\"lakecolor\":\"white\"},\"title\":{\"x\":0.05},\"mapbox\":{\"style\":\"light\"}}},\"xaxis\":{\"anchor\":\"y\",\"domain\":[0.0,1.0],\"title\":{\"text\":\"DestState\"}},\"yaxis\":{\"anchor\":\"x\",\"domain\":[0.0,1.0],\"title\":{\"text\":\"Flights\"}},\"legend\":{\"tracegroupgap\":0},\"title\":{\"text\":\"Total number of flights to the destination state split by reporting airline\"},\"barmode\":\"relative\"},                        {\"responsive\": true}                    ).then(function(){\n",
       "                            \n",
       "var gd = document.getElementById('f6d4ffd0-9a82-4fc0-9e2f-37a640c6dcf1');\n",
       "var x = new MutationObserver(function (mutations, observer) {{\n",
       "        var display = window.getComputedStyle(gd).display;\n",
       "        if (!display || display === 'none') {{\n",
       "            console.log([gd, 'removed!']);\n",
       "            Plotly.purge(gd);\n",
       "            observer.disconnect();\n",
       "        }}\n",
       "}});\n",
       "\n",
       "// Listen for the removal of the full notebook cells\n",
       "var notebookContainer = gd.closest('#notebook-container');\n",
       "if (notebookContainer) {{\n",
       "    x.observe(notebookContainer, {childList: true});\n",
       "}}\n",
       "\n",
       "// Listen for the clearing of the current output cell\n",
       "var outputEl = gd.closest('.output');\n",
       "if (outputEl) {{\n",
       "    x.observe(outputEl, {childList: true});\n",
       "}}\n",
       "\n",
       "                        })                };                });            </script>        </div>"
      ]
     },
     "metadata": {},
     "output_type": "display_data"
    }
   ],
   "source": [
    "fig =  px.bar(bar_data,x='DestState',y='Flights', title='Total number of flights to the destination state split by reporting airline') \n",
    "fig.show()"
   ]
  },
  {
   "cell_type": "markdown",
   "id": "ac6676b7",
   "metadata": {},
   "source": [
    "### Buble Chart"
   ]
  },
  {
   "cell_type": "code",
   "execution_count": 77,
   "id": "ce39a5f9",
   "metadata": {},
   "outputs": [
    {
     "data": {
      "text/html": [
       "<div>\n",
       "<style scoped>\n",
       "    .dataframe tbody tr th:only-of-type {\n",
       "        vertical-align: middle;\n",
       "    }\n",
       "\n",
       "    .dataframe tbody tr th {\n",
       "        vertical-align: top;\n",
       "    }\n",
       "\n",
       "    .dataframe thead th {\n",
       "        text-align: right;\n",
       "    }\n",
       "</style>\n",
       "<table border=\"1\" class=\"dataframe\">\n",
       "  <thead>\n",
       "    <tr style=\"text-align: right;\">\n",
       "      <th></th>\n",
       "      <th>Reporting_Airline</th>\n",
       "      <th>Flights</th>\n",
       "    </tr>\n",
       "  </thead>\n",
       "  <tbody>\n",
       "    <tr>\n",
       "      <th>0</th>\n",
       "      <td>9E</td>\n",
       "      <td>12.0</td>\n",
       "    </tr>\n",
       "    <tr>\n",
       "      <th>1</th>\n",
       "      <td>AA</td>\n",
       "      <td>108.0</td>\n",
       "    </tr>\n",
       "    <tr>\n",
       "      <th>2</th>\n",
       "      <td>AS</td>\n",
       "      <td>28.0</td>\n",
       "    </tr>\n",
       "    <tr>\n",
       "      <th>3</th>\n",
       "      <td>B6</td>\n",
       "      <td>18.0</td>\n",
       "    </tr>\n",
       "    <tr>\n",
       "      <th>4</th>\n",
       "      <td>CO</td>\n",
       "      <td>44.0</td>\n",
       "    </tr>\n",
       "  </tbody>\n",
       "</table>\n",
       "</div>"
      ],
      "text/plain": [
       "  Reporting_Airline  Flights\n",
       "0                9E     12.0\n",
       "1                AA    108.0\n",
       "2                AS     28.0\n",
       "3                B6     18.0\n",
       "4                CO     44.0"
      ]
     },
     "execution_count": 77,
     "metadata": {},
     "output_type": "execute_result"
    }
   ],
   "source": [
    "bub_data = df.groupby('Reporting_Airline')['Flights'].sum().reset_index()\n",
    "bub_data.head()"
   ]
  },
  {
   "cell_type": "code",
   "execution_count": 92,
   "id": "d6171ade",
   "metadata": {},
   "outputs": [
    {
     "data": {
      "application/vnd.plotly.v1+json": {
       "config": {
        "plotlyServerURL": "https://plot.ly"
       },
       "data": [
        {
         "hovertemplate": "<b>%{hovertext}</b><br><br>Reporting_Airline=%{x}<br>Flights=%{marker.size}<extra></extra>",
         "hovertext": [
          "9E",
          "AA",
          "AS",
          "B6",
          "CO",
          "DH",
          "DL",
          "EA",
          "EV",
          "F9",
          "FL",
          "G4",
          "HA",
          "HP",
          "KH",
          "ML (1)",
          "MQ",
          "NK",
          "NW",
          "OH",
          "OO",
          "PA (1)",
          "PI",
          "PS",
          "TW",
          "TZ",
          "UA",
          "US",
          "VX",
          "WN",
          "XE",
          "YV",
          "YX"
         ],
         "legendgroup": "",
         "marker": {
          "color": "#636efa",
          "size": [
           12,
           108,
           28,
           18,
           44,
           2,
           134,
           5,
           30,
           4,
           8,
           1,
           8,
           18,
           1,
           2,
           50,
           5,
           50,
           14,
           53,
           4,
           5,
           1,
           18,
           3,
           97,
           85,
           1,
           164,
           10,
           13,
           4
          ],
          "sizemode": "area",
          "sizeref": 0.04555555555555556,
          "symbol": "circle"
         },
         "mode": "markers",
         "name": "",
         "orientation": "v",
         "showlegend": false,
         "type": "scatter",
         "x": [
          "9E",
          "AA",
          "AS",
          "B6",
          "CO",
          "DH",
          "DL",
          "EA",
          "EV",
          "F9",
          "FL",
          "G4",
          "HA",
          "HP",
          "KH",
          "ML (1)",
          "MQ",
          "NK",
          "NW",
          "OH",
          "OO",
          "PA (1)",
          "PI",
          "PS",
          "TW",
          "TZ",
          "UA",
          "US",
          "VX",
          "WN",
          "XE",
          "YV",
          "YX"
         ],
         "xaxis": "x",
         "y": [
          12,
          108,
          28,
          18,
          44,
          2,
          134,
          5,
          30,
          4,
          8,
          1,
          8,
          18,
          1,
          2,
          50,
          5,
          50,
          14,
          53,
          4,
          5,
          1,
          18,
          3,
          97,
          85,
          1,
          164,
          10,
          13,
          4
         ],
         "yaxis": "y"
        }
       ],
       "layout": {
        "legend": {
         "itemsizing": "constant",
         "tracegroupgap": 0
        },
        "template": {
         "data": {
          "bar": [
           {
            "error_x": {
             "color": "#2a3f5f"
            },
            "error_y": {
             "color": "#2a3f5f"
            },
            "marker": {
             "line": {
              "color": "#E5ECF6",
              "width": 0.5
             },
             "pattern": {
              "fillmode": "overlay",
              "size": 10,
              "solidity": 0.2
             }
            },
            "type": "bar"
           }
          ],
          "barpolar": [
           {
            "marker": {
             "line": {
              "color": "#E5ECF6",
              "width": 0.5
             },
             "pattern": {
              "fillmode": "overlay",
              "size": 10,
              "solidity": 0.2
             }
            },
            "type": "barpolar"
           }
          ],
          "carpet": [
           {
            "aaxis": {
             "endlinecolor": "#2a3f5f",
             "gridcolor": "white",
             "linecolor": "white",
             "minorgridcolor": "white",
             "startlinecolor": "#2a3f5f"
            },
            "baxis": {
             "endlinecolor": "#2a3f5f",
             "gridcolor": "white",
             "linecolor": "white",
             "minorgridcolor": "white",
             "startlinecolor": "#2a3f5f"
            },
            "type": "carpet"
           }
          ],
          "choropleth": [
           {
            "colorbar": {
             "outlinewidth": 0,
             "ticks": ""
            },
            "type": "choropleth"
           }
          ],
          "contour": [
           {
            "colorbar": {
             "outlinewidth": 0,
             "ticks": ""
            },
            "colorscale": [
             [
              0,
              "#0d0887"
             ],
             [
              0.1111111111111111,
              "#46039f"
             ],
             [
              0.2222222222222222,
              "#7201a8"
             ],
             [
              0.3333333333333333,
              "#9c179e"
             ],
             [
              0.4444444444444444,
              "#bd3786"
             ],
             [
              0.5555555555555556,
              "#d8576b"
             ],
             [
              0.6666666666666666,
              "#ed7953"
             ],
             [
              0.7777777777777778,
              "#fb9f3a"
             ],
             [
              0.8888888888888888,
              "#fdca26"
             ],
             [
              1,
              "#f0f921"
             ]
            ],
            "type": "contour"
           }
          ],
          "contourcarpet": [
           {
            "colorbar": {
             "outlinewidth": 0,
             "ticks": ""
            },
            "type": "contourcarpet"
           }
          ],
          "heatmap": [
           {
            "colorbar": {
             "outlinewidth": 0,
             "ticks": ""
            },
            "colorscale": [
             [
              0,
              "#0d0887"
             ],
             [
              0.1111111111111111,
              "#46039f"
             ],
             [
              0.2222222222222222,
              "#7201a8"
             ],
             [
              0.3333333333333333,
              "#9c179e"
             ],
             [
              0.4444444444444444,
              "#bd3786"
             ],
             [
              0.5555555555555556,
              "#d8576b"
             ],
             [
              0.6666666666666666,
              "#ed7953"
             ],
             [
              0.7777777777777778,
              "#fb9f3a"
             ],
             [
              0.8888888888888888,
              "#fdca26"
             ],
             [
              1,
              "#f0f921"
             ]
            ],
            "type": "heatmap"
           }
          ],
          "heatmapgl": [
           {
            "colorbar": {
             "outlinewidth": 0,
             "ticks": ""
            },
            "colorscale": [
             [
              0,
              "#0d0887"
             ],
             [
              0.1111111111111111,
              "#46039f"
             ],
             [
              0.2222222222222222,
              "#7201a8"
             ],
             [
              0.3333333333333333,
              "#9c179e"
             ],
             [
              0.4444444444444444,
              "#bd3786"
             ],
             [
              0.5555555555555556,
              "#d8576b"
             ],
             [
              0.6666666666666666,
              "#ed7953"
             ],
             [
              0.7777777777777778,
              "#fb9f3a"
             ],
             [
              0.8888888888888888,
              "#fdca26"
             ],
             [
              1,
              "#f0f921"
             ]
            ],
            "type": "heatmapgl"
           }
          ],
          "histogram": [
           {
            "marker": {
             "pattern": {
              "fillmode": "overlay",
              "size": 10,
              "solidity": 0.2
             }
            },
            "type": "histogram"
           }
          ],
          "histogram2d": [
           {
            "colorbar": {
             "outlinewidth": 0,
             "ticks": ""
            },
            "colorscale": [
             [
              0,
              "#0d0887"
             ],
             [
              0.1111111111111111,
              "#46039f"
             ],
             [
              0.2222222222222222,
              "#7201a8"
             ],
             [
              0.3333333333333333,
              "#9c179e"
             ],
             [
              0.4444444444444444,
              "#bd3786"
             ],
             [
              0.5555555555555556,
              "#d8576b"
             ],
             [
              0.6666666666666666,
              "#ed7953"
             ],
             [
              0.7777777777777778,
              "#fb9f3a"
             ],
             [
              0.8888888888888888,
              "#fdca26"
             ],
             [
              1,
              "#f0f921"
             ]
            ],
            "type": "histogram2d"
           }
          ],
          "histogram2dcontour": [
           {
            "colorbar": {
             "outlinewidth": 0,
             "ticks": ""
            },
            "colorscale": [
             [
              0,
              "#0d0887"
             ],
             [
              0.1111111111111111,
              "#46039f"
             ],
             [
              0.2222222222222222,
              "#7201a8"
             ],
             [
              0.3333333333333333,
              "#9c179e"
             ],
             [
              0.4444444444444444,
              "#bd3786"
             ],
             [
              0.5555555555555556,
              "#d8576b"
             ],
             [
              0.6666666666666666,
              "#ed7953"
             ],
             [
              0.7777777777777778,
              "#fb9f3a"
             ],
             [
              0.8888888888888888,
              "#fdca26"
             ],
             [
              1,
              "#f0f921"
             ]
            ],
            "type": "histogram2dcontour"
           }
          ],
          "mesh3d": [
           {
            "colorbar": {
             "outlinewidth": 0,
             "ticks": ""
            },
            "type": "mesh3d"
           }
          ],
          "parcoords": [
           {
            "line": {
             "colorbar": {
              "outlinewidth": 0,
              "ticks": ""
             }
            },
            "type": "parcoords"
           }
          ],
          "pie": [
           {
            "automargin": true,
            "type": "pie"
           }
          ],
          "scatter": [
           {
            "fillpattern": {
             "fillmode": "overlay",
             "size": 10,
             "solidity": 0.2
            },
            "type": "scatter"
           }
          ],
          "scatter3d": [
           {
            "line": {
             "colorbar": {
              "outlinewidth": 0,
              "ticks": ""
             }
            },
            "marker": {
             "colorbar": {
              "outlinewidth": 0,
              "ticks": ""
             }
            },
            "type": "scatter3d"
           }
          ],
          "scattercarpet": [
           {
            "marker": {
             "colorbar": {
              "outlinewidth": 0,
              "ticks": ""
             }
            },
            "type": "scattercarpet"
           }
          ],
          "scattergeo": [
           {
            "marker": {
             "colorbar": {
              "outlinewidth": 0,
              "ticks": ""
             }
            },
            "type": "scattergeo"
           }
          ],
          "scattergl": [
           {
            "marker": {
             "colorbar": {
              "outlinewidth": 0,
              "ticks": ""
             }
            },
            "type": "scattergl"
           }
          ],
          "scattermapbox": [
           {
            "marker": {
             "colorbar": {
              "outlinewidth": 0,
              "ticks": ""
             }
            },
            "type": "scattermapbox"
           }
          ],
          "scatterpolar": [
           {
            "marker": {
             "colorbar": {
              "outlinewidth": 0,
              "ticks": ""
             }
            },
            "type": "scatterpolar"
           }
          ],
          "scatterpolargl": [
           {
            "marker": {
             "colorbar": {
              "outlinewidth": 0,
              "ticks": ""
             }
            },
            "type": "scatterpolargl"
           }
          ],
          "scatterternary": [
           {
            "marker": {
             "colorbar": {
              "outlinewidth": 0,
              "ticks": ""
             }
            },
            "type": "scatterternary"
           }
          ],
          "surface": [
           {
            "colorbar": {
             "outlinewidth": 0,
             "ticks": ""
            },
            "colorscale": [
             [
              0,
              "#0d0887"
             ],
             [
              0.1111111111111111,
              "#46039f"
             ],
             [
              0.2222222222222222,
              "#7201a8"
             ],
             [
              0.3333333333333333,
              "#9c179e"
             ],
             [
              0.4444444444444444,
              "#bd3786"
             ],
             [
              0.5555555555555556,
              "#d8576b"
             ],
             [
              0.6666666666666666,
              "#ed7953"
             ],
             [
              0.7777777777777778,
              "#fb9f3a"
             ],
             [
              0.8888888888888888,
              "#fdca26"
             ],
             [
              1,
              "#f0f921"
             ]
            ],
            "type": "surface"
           }
          ],
          "table": [
           {
            "cells": {
             "fill": {
              "color": "#EBF0F8"
             },
             "line": {
              "color": "white"
             }
            },
            "header": {
             "fill": {
              "color": "#C8D4E3"
             },
             "line": {
              "color": "white"
             }
            },
            "type": "table"
           }
          ]
         },
         "layout": {
          "annotationdefaults": {
           "arrowcolor": "#2a3f5f",
           "arrowhead": 0,
           "arrowwidth": 1
          },
          "autotypenumbers": "strict",
          "coloraxis": {
           "colorbar": {
            "outlinewidth": 0,
            "ticks": ""
           }
          },
          "colorscale": {
           "diverging": [
            [
             0,
             "#8e0152"
            ],
            [
             0.1,
             "#c51b7d"
            ],
            [
             0.2,
             "#de77ae"
            ],
            [
             0.3,
             "#f1b6da"
            ],
            [
             0.4,
             "#fde0ef"
            ],
            [
             0.5,
             "#f7f7f7"
            ],
            [
             0.6,
             "#e6f5d0"
            ],
            [
             0.7,
             "#b8e186"
            ],
            [
             0.8,
             "#7fbc41"
            ],
            [
             0.9,
             "#4d9221"
            ],
            [
             1,
             "#276419"
            ]
           ],
           "sequential": [
            [
             0,
             "#0d0887"
            ],
            [
             0.1111111111111111,
             "#46039f"
            ],
            [
             0.2222222222222222,
             "#7201a8"
            ],
            [
             0.3333333333333333,
             "#9c179e"
            ],
            [
             0.4444444444444444,
             "#bd3786"
            ],
            [
             0.5555555555555556,
             "#d8576b"
            ],
            [
             0.6666666666666666,
             "#ed7953"
            ],
            [
             0.7777777777777778,
             "#fb9f3a"
            ],
            [
             0.8888888888888888,
             "#fdca26"
            ],
            [
             1,
             "#f0f921"
            ]
           ],
           "sequentialminus": [
            [
             0,
             "#0d0887"
            ],
            [
             0.1111111111111111,
             "#46039f"
            ],
            [
             0.2222222222222222,
             "#7201a8"
            ],
            [
             0.3333333333333333,
             "#9c179e"
            ],
            [
             0.4444444444444444,
             "#bd3786"
            ],
            [
             0.5555555555555556,
             "#d8576b"
            ],
            [
             0.6666666666666666,
             "#ed7953"
            ],
            [
             0.7777777777777778,
             "#fb9f3a"
            ],
            [
             0.8888888888888888,
             "#fdca26"
            ],
            [
             1,
             "#f0f921"
            ]
           ]
          },
          "colorway": [
           "#636efa",
           "#EF553B",
           "#00cc96",
           "#ab63fa",
           "#FFA15A",
           "#19d3f3",
           "#FF6692",
           "#B6E880",
           "#FF97FF",
           "#FECB52"
          ],
          "font": {
           "color": "#2a3f5f"
          },
          "geo": {
           "bgcolor": "white",
           "lakecolor": "white",
           "landcolor": "#E5ECF6",
           "showlakes": true,
           "showland": true,
           "subunitcolor": "white"
          },
          "hoverlabel": {
           "align": "left"
          },
          "hovermode": "closest",
          "mapbox": {
           "style": "light"
          },
          "paper_bgcolor": "white",
          "plot_bgcolor": "#E5ECF6",
          "polar": {
           "angularaxis": {
            "gridcolor": "white",
            "linecolor": "white",
            "ticks": ""
           },
           "bgcolor": "#E5ECF6",
           "radialaxis": {
            "gridcolor": "white",
            "linecolor": "white",
            "ticks": ""
           }
          },
          "scene": {
           "xaxis": {
            "backgroundcolor": "#E5ECF6",
            "gridcolor": "white",
            "gridwidth": 2,
            "linecolor": "white",
            "showbackground": true,
            "ticks": "",
            "zerolinecolor": "white"
           },
           "yaxis": {
            "backgroundcolor": "#E5ECF6",
            "gridcolor": "white",
            "gridwidth": 2,
            "linecolor": "white",
            "showbackground": true,
            "ticks": "",
            "zerolinecolor": "white"
           },
           "zaxis": {
            "backgroundcolor": "#E5ECF6",
            "gridcolor": "white",
            "gridwidth": 2,
            "linecolor": "white",
            "showbackground": true,
            "ticks": "",
            "zerolinecolor": "white"
           }
          },
          "shapedefaults": {
           "line": {
            "color": "#2a3f5f"
           }
          },
          "ternary": {
           "aaxis": {
            "gridcolor": "white",
            "linecolor": "white",
            "ticks": ""
           },
           "baxis": {
            "gridcolor": "white",
            "linecolor": "white",
            "ticks": ""
           },
           "bgcolor": "#E5ECF6",
           "caxis": {
            "gridcolor": "white",
            "linecolor": "white",
            "ticks": ""
           }
          },
          "title": {
           "x": 0.05
          },
          "xaxis": {
           "automargin": true,
           "gridcolor": "white",
           "linecolor": "white",
           "ticks": "",
           "title": {
            "standoff": 15
           },
           "zerolinecolor": "white",
           "zerolinewidth": 2
          },
          "yaxis": {
           "automargin": true,
           "gridcolor": "white",
           "linecolor": "white",
           "ticks": "",
           "title": {
            "standoff": 15
           },
           "zerolinecolor": "white",
           "zerolinewidth": 2
          }
         }
        },
        "title": {
         "text": "Reporting Airline vs no of Flights"
        },
        "xaxis": {
         "anchor": "y",
         "domain": [
          0,
          1
         ],
         "title": {
          "text": "Reporting_Airline"
         }
        },
        "yaxis": {
         "anchor": "x",
         "domain": [
          0,
          1
         ],
         "title": {
          "text": "Flights"
         }
        }
       }
      },
      "text/html": [
       "<div>                            <div id=\"37b60a22-4a4f-4667-8c20-57c3eb135da7\" class=\"plotly-graph-div\" style=\"height:525px; width:100%;\"></div>            <script type=\"text/javascript\">                require([\"plotly\"], function(Plotly) {                    window.PLOTLYENV=window.PLOTLYENV || {};                                    if (document.getElementById(\"37b60a22-4a4f-4667-8c20-57c3eb135da7\")) {                    Plotly.newPlot(                        \"37b60a22-4a4f-4667-8c20-57c3eb135da7\",                        [{\"hovertemplate\":\"<b>%{hovertext}</b><br><br>Reporting_Airline=%{x}<br>Flights=%{marker.size}<extra></extra>\",\"hovertext\":[\"9E\",\"AA\",\"AS\",\"B6\",\"CO\",\"DH\",\"DL\",\"EA\",\"EV\",\"F9\",\"FL\",\"G4\",\"HA\",\"HP\",\"KH\",\"ML (1)\",\"MQ\",\"NK\",\"NW\",\"OH\",\"OO\",\"PA (1)\",\"PI\",\"PS\",\"TW\",\"TZ\",\"UA\",\"US\",\"VX\",\"WN\",\"XE\",\"YV\",\"YX\"],\"legendgroup\":\"\",\"marker\":{\"color\":\"#636efa\",\"size\":[12.0,108.0,28.0,18.0,44.0,2.0,134.0,5.0,30.0,4.0,8.0,1.0,8.0,18.0,1.0,2.0,50.0,5.0,50.0,14.0,53.0,4.0,5.0,1.0,18.0,3.0,97.0,85.0,1.0,164.0,10.0,13.0,4.0],\"sizemode\":\"area\",\"sizeref\":0.04555555555555556,\"symbol\":\"circle\"},\"mode\":\"markers\",\"name\":\"\",\"orientation\":\"v\",\"showlegend\":false,\"x\":[\"9E\",\"AA\",\"AS\",\"B6\",\"CO\",\"DH\",\"DL\",\"EA\",\"EV\",\"F9\",\"FL\",\"G4\",\"HA\",\"HP\",\"KH\",\"ML (1)\",\"MQ\",\"NK\",\"NW\",\"OH\",\"OO\",\"PA (1)\",\"PI\",\"PS\",\"TW\",\"TZ\",\"UA\",\"US\",\"VX\",\"WN\",\"XE\",\"YV\",\"YX\"],\"xaxis\":\"x\",\"y\":[12.0,108.0,28.0,18.0,44.0,2.0,134.0,5.0,30.0,4.0,8.0,1.0,8.0,18.0,1.0,2.0,50.0,5.0,50.0,14.0,53.0,4.0,5.0,1.0,18.0,3.0,97.0,85.0,1.0,164.0,10.0,13.0,4.0],\"yaxis\":\"y\",\"type\":\"scatter\"}],                        {\"template\":{\"data\":{\"histogram2dcontour\":[{\"type\":\"histogram2dcontour\",\"colorbar\":{\"outlinewidth\":0,\"ticks\":\"\"},\"colorscale\":[[0.0,\"#0d0887\"],[0.1111111111111111,\"#46039f\"],[0.2222222222222222,\"#7201a8\"],[0.3333333333333333,\"#9c179e\"],[0.4444444444444444,\"#bd3786\"],[0.5555555555555556,\"#d8576b\"],[0.6666666666666666,\"#ed7953\"],[0.7777777777777778,\"#fb9f3a\"],[0.8888888888888888,\"#fdca26\"],[1.0,\"#f0f921\"]]}],\"choropleth\":[{\"type\":\"choropleth\",\"colorbar\":{\"outlinewidth\":0,\"ticks\":\"\"}}],\"histogram2d\":[{\"type\":\"histogram2d\",\"colorbar\":{\"outlinewidth\":0,\"ticks\":\"\"},\"colorscale\":[[0.0,\"#0d0887\"],[0.1111111111111111,\"#46039f\"],[0.2222222222222222,\"#7201a8\"],[0.3333333333333333,\"#9c179e\"],[0.4444444444444444,\"#bd3786\"],[0.5555555555555556,\"#d8576b\"],[0.6666666666666666,\"#ed7953\"],[0.7777777777777778,\"#fb9f3a\"],[0.8888888888888888,\"#fdca26\"],[1.0,\"#f0f921\"]]}],\"heatmap\":[{\"type\":\"heatmap\",\"colorbar\":{\"outlinewidth\":0,\"ticks\":\"\"},\"colorscale\":[[0.0,\"#0d0887\"],[0.1111111111111111,\"#46039f\"],[0.2222222222222222,\"#7201a8\"],[0.3333333333333333,\"#9c179e\"],[0.4444444444444444,\"#bd3786\"],[0.5555555555555556,\"#d8576b\"],[0.6666666666666666,\"#ed7953\"],[0.7777777777777778,\"#fb9f3a\"],[0.8888888888888888,\"#fdca26\"],[1.0,\"#f0f921\"]]}],\"heatmapgl\":[{\"type\":\"heatmapgl\",\"colorbar\":{\"outlinewidth\":0,\"ticks\":\"\"},\"colorscale\":[[0.0,\"#0d0887\"],[0.1111111111111111,\"#46039f\"],[0.2222222222222222,\"#7201a8\"],[0.3333333333333333,\"#9c179e\"],[0.4444444444444444,\"#bd3786\"],[0.5555555555555556,\"#d8576b\"],[0.6666666666666666,\"#ed7953\"],[0.7777777777777778,\"#fb9f3a\"],[0.8888888888888888,\"#fdca26\"],[1.0,\"#f0f921\"]]}],\"contourcarpet\":[{\"type\":\"contourcarpet\",\"colorbar\":{\"outlinewidth\":0,\"ticks\":\"\"}}],\"contour\":[{\"type\":\"contour\",\"colorbar\":{\"outlinewidth\":0,\"ticks\":\"\"},\"colorscale\":[[0.0,\"#0d0887\"],[0.1111111111111111,\"#46039f\"],[0.2222222222222222,\"#7201a8\"],[0.3333333333333333,\"#9c179e\"],[0.4444444444444444,\"#bd3786\"],[0.5555555555555556,\"#d8576b\"],[0.6666666666666666,\"#ed7953\"],[0.7777777777777778,\"#fb9f3a\"],[0.8888888888888888,\"#fdca26\"],[1.0,\"#f0f921\"]]}],\"surface\":[{\"type\":\"surface\",\"colorbar\":{\"outlinewidth\":0,\"ticks\":\"\"},\"colorscale\":[[0.0,\"#0d0887\"],[0.1111111111111111,\"#46039f\"],[0.2222222222222222,\"#7201a8\"],[0.3333333333333333,\"#9c179e\"],[0.4444444444444444,\"#bd3786\"],[0.5555555555555556,\"#d8576b\"],[0.6666666666666666,\"#ed7953\"],[0.7777777777777778,\"#fb9f3a\"],[0.8888888888888888,\"#fdca26\"],[1.0,\"#f0f921\"]]}],\"mesh3d\":[{\"type\":\"mesh3d\",\"colorbar\":{\"outlinewidth\":0,\"ticks\":\"\"}}],\"scatter\":[{\"fillpattern\":{\"fillmode\":\"overlay\",\"size\":10,\"solidity\":0.2},\"type\":\"scatter\"}],\"parcoords\":[{\"type\":\"parcoords\",\"line\":{\"colorbar\":{\"outlinewidth\":0,\"ticks\":\"\"}}}],\"scatterpolargl\":[{\"type\":\"scatterpolargl\",\"marker\":{\"colorbar\":{\"outlinewidth\":0,\"ticks\":\"\"}}}],\"bar\":[{\"error_x\":{\"color\":\"#2a3f5f\"},\"error_y\":{\"color\":\"#2a3f5f\"},\"marker\":{\"line\":{\"color\":\"#E5ECF6\",\"width\":0.5},\"pattern\":{\"fillmode\":\"overlay\",\"size\":10,\"solidity\":0.2}},\"type\":\"bar\"}],\"scattergeo\":[{\"type\":\"scattergeo\",\"marker\":{\"colorbar\":{\"outlinewidth\":0,\"ticks\":\"\"}}}],\"scatterpolar\":[{\"type\":\"scatterpolar\",\"marker\":{\"colorbar\":{\"outlinewidth\":0,\"ticks\":\"\"}}}],\"histogram\":[{\"marker\":{\"pattern\":{\"fillmode\":\"overlay\",\"size\":10,\"solidity\":0.2}},\"type\":\"histogram\"}],\"scattergl\":[{\"type\":\"scattergl\",\"marker\":{\"colorbar\":{\"outlinewidth\":0,\"ticks\":\"\"}}}],\"scatter3d\":[{\"type\":\"scatter3d\",\"line\":{\"colorbar\":{\"outlinewidth\":0,\"ticks\":\"\"}},\"marker\":{\"colorbar\":{\"outlinewidth\":0,\"ticks\":\"\"}}}],\"scattermapbox\":[{\"type\":\"scattermapbox\",\"marker\":{\"colorbar\":{\"outlinewidth\":0,\"ticks\":\"\"}}}],\"scatterternary\":[{\"type\":\"scatterternary\",\"marker\":{\"colorbar\":{\"outlinewidth\":0,\"ticks\":\"\"}}}],\"scattercarpet\":[{\"type\":\"scattercarpet\",\"marker\":{\"colorbar\":{\"outlinewidth\":0,\"ticks\":\"\"}}}],\"carpet\":[{\"aaxis\":{\"endlinecolor\":\"#2a3f5f\",\"gridcolor\":\"white\",\"linecolor\":\"white\",\"minorgridcolor\":\"white\",\"startlinecolor\":\"#2a3f5f\"},\"baxis\":{\"endlinecolor\":\"#2a3f5f\",\"gridcolor\":\"white\",\"linecolor\":\"white\",\"minorgridcolor\":\"white\",\"startlinecolor\":\"#2a3f5f\"},\"type\":\"carpet\"}],\"table\":[{\"cells\":{\"fill\":{\"color\":\"#EBF0F8\"},\"line\":{\"color\":\"white\"}},\"header\":{\"fill\":{\"color\":\"#C8D4E3\"},\"line\":{\"color\":\"white\"}},\"type\":\"table\"}],\"barpolar\":[{\"marker\":{\"line\":{\"color\":\"#E5ECF6\",\"width\":0.5},\"pattern\":{\"fillmode\":\"overlay\",\"size\":10,\"solidity\":0.2}},\"type\":\"barpolar\"}],\"pie\":[{\"automargin\":true,\"type\":\"pie\"}]},\"layout\":{\"autotypenumbers\":\"strict\",\"colorway\":[\"#636efa\",\"#EF553B\",\"#00cc96\",\"#ab63fa\",\"#FFA15A\",\"#19d3f3\",\"#FF6692\",\"#B6E880\",\"#FF97FF\",\"#FECB52\"],\"font\":{\"color\":\"#2a3f5f\"},\"hovermode\":\"closest\",\"hoverlabel\":{\"align\":\"left\"},\"paper_bgcolor\":\"white\",\"plot_bgcolor\":\"#E5ECF6\",\"polar\":{\"bgcolor\":\"#E5ECF6\",\"angularaxis\":{\"gridcolor\":\"white\",\"linecolor\":\"white\",\"ticks\":\"\"},\"radialaxis\":{\"gridcolor\":\"white\",\"linecolor\":\"white\",\"ticks\":\"\"}},\"ternary\":{\"bgcolor\":\"#E5ECF6\",\"aaxis\":{\"gridcolor\":\"white\",\"linecolor\":\"white\",\"ticks\":\"\"},\"baxis\":{\"gridcolor\":\"white\",\"linecolor\":\"white\",\"ticks\":\"\"},\"caxis\":{\"gridcolor\":\"white\",\"linecolor\":\"white\",\"ticks\":\"\"}},\"coloraxis\":{\"colorbar\":{\"outlinewidth\":0,\"ticks\":\"\"}},\"colorscale\":{\"sequential\":[[0.0,\"#0d0887\"],[0.1111111111111111,\"#46039f\"],[0.2222222222222222,\"#7201a8\"],[0.3333333333333333,\"#9c179e\"],[0.4444444444444444,\"#bd3786\"],[0.5555555555555556,\"#d8576b\"],[0.6666666666666666,\"#ed7953\"],[0.7777777777777778,\"#fb9f3a\"],[0.8888888888888888,\"#fdca26\"],[1.0,\"#f0f921\"]],\"sequentialminus\":[[0.0,\"#0d0887\"],[0.1111111111111111,\"#46039f\"],[0.2222222222222222,\"#7201a8\"],[0.3333333333333333,\"#9c179e\"],[0.4444444444444444,\"#bd3786\"],[0.5555555555555556,\"#d8576b\"],[0.6666666666666666,\"#ed7953\"],[0.7777777777777778,\"#fb9f3a\"],[0.8888888888888888,\"#fdca26\"],[1.0,\"#f0f921\"]],\"diverging\":[[0,\"#8e0152\"],[0.1,\"#c51b7d\"],[0.2,\"#de77ae\"],[0.3,\"#f1b6da\"],[0.4,\"#fde0ef\"],[0.5,\"#f7f7f7\"],[0.6,\"#e6f5d0\"],[0.7,\"#b8e186\"],[0.8,\"#7fbc41\"],[0.9,\"#4d9221\"],[1,\"#276419\"]]},\"xaxis\":{\"gridcolor\":\"white\",\"linecolor\":\"white\",\"ticks\":\"\",\"title\":{\"standoff\":15},\"zerolinecolor\":\"white\",\"automargin\":true,\"zerolinewidth\":2},\"yaxis\":{\"gridcolor\":\"white\",\"linecolor\":\"white\",\"ticks\":\"\",\"title\":{\"standoff\":15},\"zerolinecolor\":\"white\",\"automargin\":true,\"zerolinewidth\":2},\"scene\":{\"xaxis\":{\"backgroundcolor\":\"#E5ECF6\",\"gridcolor\":\"white\",\"linecolor\":\"white\",\"showbackground\":true,\"ticks\":\"\",\"zerolinecolor\":\"white\",\"gridwidth\":2},\"yaxis\":{\"backgroundcolor\":\"#E5ECF6\",\"gridcolor\":\"white\",\"linecolor\":\"white\",\"showbackground\":true,\"ticks\":\"\",\"zerolinecolor\":\"white\",\"gridwidth\":2},\"zaxis\":{\"backgroundcolor\":\"#E5ECF6\",\"gridcolor\":\"white\",\"linecolor\":\"white\",\"showbackground\":true,\"ticks\":\"\",\"zerolinecolor\":\"white\",\"gridwidth\":2}},\"shapedefaults\":{\"line\":{\"color\":\"#2a3f5f\"}},\"annotationdefaults\":{\"arrowcolor\":\"#2a3f5f\",\"arrowhead\":0,\"arrowwidth\":1},\"geo\":{\"bgcolor\":\"white\",\"landcolor\":\"#E5ECF6\",\"subunitcolor\":\"white\",\"showland\":true,\"showlakes\":true,\"lakecolor\":\"white\"},\"title\":{\"x\":0.05},\"mapbox\":{\"style\":\"light\"}}},\"xaxis\":{\"anchor\":\"y\",\"domain\":[0.0,1.0],\"title\":{\"text\":\"Reporting_Airline\"}},\"yaxis\":{\"anchor\":\"x\",\"domain\":[0.0,1.0],\"title\":{\"text\":\"Flights\"}},\"legend\":{\"tracegroupgap\":0,\"itemsizing\":\"constant\"},\"title\":{\"text\":\"Reporting Airline vs no of Flights\"}},                        {\"responsive\": true}                    ).then(function(){\n",
       "                            \n",
       "var gd = document.getElementById('37b60a22-4a4f-4667-8c20-57c3eb135da7');\n",
       "var x = new MutationObserver(function (mutations, observer) {{\n",
       "        var display = window.getComputedStyle(gd).display;\n",
       "        if (!display || display === 'none') {{\n",
       "            console.log([gd, 'removed!']);\n",
       "            Plotly.purge(gd);\n",
       "            observer.disconnect();\n",
       "        }}\n",
       "}});\n",
       "\n",
       "// Listen for the removal of the full notebook cells\n",
       "var notebookContainer = gd.closest('#notebook-container');\n",
       "if (notebookContainer) {{\n",
       "    x.observe(notebookContainer, {childList: true});\n",
       "}}\n",
       "\n",
       "// Listen for the clearing of the current output cell\n",
       "var outputEl = gd.closest('.output');\n",
       "if (outputEl) {{\n",
       "    x.observe(outputEl, {childList: true});\n",
       "}}\n",
       "\n",
       "                        })                };                });            </script>        </div>"
      ]
     },
     "metadata": {},
     "output_type": "display_data"
    }
   ],
   "source": [
    "fig =  px.scatter(bub_data,x='Reporting_Airline',y='Flights',size='Flights',size_max=60,hover_name=\"Reporting_Airline\",\n",
    "                  title='Reporting Airline vs no of Flights') \n",
    "fig.show()"
   ]
  },
  {
   "cell_type": "markdown",
   "id": "52bf1322",
   "metadata": {},
   "source": [
    "### Histogram"
   ]
  },
  {
   "cell_type": "code",
   "execution_count": 99,
   "id": "933b0e01",
   "metadata": {},
   "outputs": [],
   "source": [
    "df['ArrDelay'] = df['ArrDelay'].fillna(0)"
   ]
  },
  {
   "cell_type": "code",
   "execution_count": 104,
   "id": "c24b1879",
   "metadata": {},
   "outputs": [
    {
     "data": {
      "application/vnd.plotly.v1+json": {
       "config": {
        "plotlyServerURL": "https://plot.ly"
       },
       "data": [
        {
         "alignmentgroup": "True",
         "bingroup": "x",
         "hovertemplate": "ArrDelay=%{x}<br>count=%{y}<extra></extra>",
         "legendgroup": "",
         "marker": {
          "color": "#636efa",
          "pattern": {
           "shape": ""
          }
         },
         "name": "",
         "offsetgroup": "",
         "orientation": "v",
         "showlegend": false,
         "type": "histogram",
         "x": [
          32,
          -1,
          -5,
          -2,
          -11,
          -4,
          -12,
          10,
          -7,
          -4,
          35,
          -3,
          -5,
          7,
          91,
          2,
          4,
          -14,
          0,
          -22,
          -5,
          0,
          -17,
          -15,
          25,
          27,
          -2,
          3,
          26,
          -11,
          -9,
          -28,
          -14,
          18,
          6,
          76,
          28,
          0,
          -2,
          3,
          -5,
          -9,
          12,
          -10,
          -13,
          -29,
          14,
          -15,
          18,
          13,
          -7,
          -3,
          -8,
          -15,
          -4,
          -24,
          13,
          11,
          -18,
          -13,
          16,
          -23,
          -3,
          0,
          12,
          11,
          -8,
          -12,
          -10,
          -3,
          -5,
          19,
          -5,
          41,
          2,
          -7,
          102,
          -5,
          -2,
          -15,
          6,
          -4,
          -11,
          2,
          -15,
          7,
          21,
          48,
          27,
          31,
          -5,
          50,
          11,
          0,
          -12,
          5,
          100,
          7,
          20,
          75,
          -14,
          -7,
          0,
          32,
          -9,
          4,
          -26,
          15,
          -12,
          14,
          -10,
          -20,
          78,
          8,
          -5,
          10,
          31,
          -14,
          -16,
          103,
          -22,
          -7,
          5,
          -3,
          -3,
          -1,
          1,
          51,
          40,
          17,
          4,
          2,
          -11,
          -10,
          -12,
          -7,
          -16,
          -13,
          13,
          -19,
          12,
          5,
          0,
          0,
          184,
          15,
          10,
          4,
          -1,
          -23,
          -26,
          -9,
          -6,
          -13,
          -1,
          11,
          9,
          38,
          13,
          35,
          28,
          45,
          -3,
          28,
          -9,
          7,
          -9,
          16,
          11,
          3,
          15,
          -3,
          8,
          -3,
          -8,
          -7,
          19,
          48,
          -14,
          7,
          -21,
          -5,
          -6,
          -14,
          19,
          -24,
          -21,
          -22,
          -23,
          -11,
          -9,
          -21,
          -16,
          -9,
          10,
          -16,
          -9,
          -5,
          -14,
          -30,
          31,
          1,
          -4,
          -13,
          -4,
          -3,
          4,
          35,
          7,
          -7,
          0,
          0,
          0,
          12,
          -23,
          -19,
          0,
          10,
          6,
          -4,
          4,
          -17,
          -17,
          60,
          0,
          0,
          51,
          -12,
          0,
          37,
          0,
          76,
          21,
          10,
          7,
          3,
          -3,
          0,
          -10,
          9,
          -14,
          5,
          -16,
          0,
          -5,
          -9,
          0,
          -4,
          -13,
          -28,
          -7,
          -13,
          -1,
          18,
          -8,
          70,
          -14,
          12,
          -2,
          1,
          -1,
          5,
          0,
          -54,
          0,
          28,
          -17,
          -14,
          1,
          -8,
          18,
          -16,
          -13,
          5,
          10,
          48,
          16,
          -12,
          0,
          -4,
          -12,
          -27,
          -5,
          -15,
          20,
          -5,
          -10,
          33,
          6,
          -4,
          108,
          7,
          -2,
          8,
          -1,
          -10,
          -10,
          6,
          4,
          -7,
          14,
          22,
          17,
          1,
          -25,
          20,
          3,
          0,
          3,
          20,
          5,
          11,
          -1,
          4,
          -13,
          -20,
          -19,
          11,
          -14,
          9,
          4,
          -23,
          -7,
          -34,
          -3,
          -11,
          -1,
          -16,
          -7,
          -12,
          0,
          -9,
          -8,
          14,
          2,
          5,
          -26,
          -5,
          -11,
          24,
          -9,
          -6,
          -22,
          11,
          -23,
          -4,
          35,
          -4,
          52,
          -9,
          66,
          -12,
          0,
          9,
          12,
          111,
          26,
          -18,
          7,
          21,
          106,
          -11,
          -1,
          -11,
          -10,
          -17,
          24,
          12,
          -14,
          -12,
          -45,
          -14,
          14,
          -11,
          11,
          10,
          34,
          22,
          1,
          95,
          -19,
          -1,
          3,
          0,
          -19,
          5,
          -19,
          26,
          -12,
          15,
          18,
          9,
          0,
          -1,
          -1,
          -1,
          0,
          -14,
          6,
          12,
          21,
          0,
          30,
          -22,
          -2,
          13,
          20,
          47,
          -11,
          -19,
          4,
          -20,
          -5,
          23,
          0,
          -3,
          14,
          62,
          -10,
          3,
          -11,
          -2,
          -12,
          -8,
          -4,
          59,
          7,
          6,
          4,
          -12,
          15,
          -9,
          8,
          -8,
          4,
          -16,
          7,
          -18,
          8,
          12,
          -3,
          7,
          3,
          0,
          -15,
          10,
          4,
          7,
          -9,
          -15,
          -13,
          31,
          0,
          -4,
          21,
          -1,
          -8,
          12,
          13,
          7,
          2,
          -10,
          19,
          -3,
          33,
          -3,
          -3,
          210,
          51,
          4,
          -10,
          20,
          10,
          -8,
          0,
          14,
          -6,
          -29,
          5,
          0,
          -7,
          -34,
          19,
          -5,
          8,
          -23,
          20,
          5,
          -50,
          57,
          -4,
          -4,
          -2,
          -12,
          -21,
          8,
          -5,
          -14,
          88,
          4,
          -17,
          2,
          -9,
          -2,
          -3,
          20,
          20,
          -3,
          5,
          2,
          -16,
          38,
          -6,
          -4,
          -1,
          155,
          15,
          -26,
          -2,
          -19,
          -10,
          1,
          26,
          -14,
          10,
          73,
          38,
          -18,
          4,
          2,
          2,
          -3,
          45,
          -3,
          11,
          2,
          -5,
          13,
          -5,
          -5,
          16,
          -10,
          -1,
          2,
          12,
          10,
          9,
          0,
          6,
          -15,
          -33,
          0,
          -4,
          -8,
          -18,
          0,
          7,
          3,
          11,
          -11,
          -5,
          29,
          -15,
          -9,
          -5,
          -5,
          -24,
          24,
          -3,
          152,
          -9,
          -16,
          82,
          2,
          -12,
          16,
          -27,
          44,
          67,
          0,
          11,
          -21,
          7,
          -3,
          -5,
          -9,
          2,
          21,
          20,
          -14,
          1,
          135,
          -1,
          33,
          -3,
          30,
          15,
          -20,
          81,
          0,
          -8,
          -12,
          -23,
          1,
          102,
          -17,
          -1,
          1,
          9,
          2,
          -6,
          0,
          0,
          -3,
          16,
          3,
          134,
          -11,
          -11,
          11,
          -16,
          13,
          -25,
          -9,
          -4,
          0,
          -12,
          -1,
          -28,
          5,
          13,
          -4,
          -23,
          0,
          -1,
          48,
          7,
          -7,
          0,
          -7,
          -9,
          -12,
          -12,
          13,
          0,
          24,
          -13,
          32,
          0,
          1,
          -25,
          -8,
          38,
          2,
          17,
          -11,
          -4,
          118,
          12,
          11,
          0,
          3,
          -17,
          -22,
          12,
          -10,
          7,
          102,
          15,
          9,
          -14,
          0,
          29,
          10,
          -20,
          0,
          16,
          13,
          -3,
          -8,
          -1,
          5,
          -15,
          17,
          13,
          -9,
          -8,
          -25,
          -2,
          14,
          -9,
          -10,
          27,
          -17,
          43,
          -4,
          20,
          -5,
          -5,
          22,
          -2,
          52,
          13,
          14,
          -1,
          1,
          -10,
          0,
          55,
          11,
          64,
          50,
          6,
          -13,
          -3,
          27,
          11,
          -2,
          53,
          1,
          23,
          -6,
          61,
          2,
          4,
          -17,
          35,
          -1,
          -12,
          -3,
          -10,
          18,
          81,
          -21,
          -11,
          29,
          -1,
          20,
          11,
          -7,
          113,
          59,
          12,
          -2,
          243,
          18,
          29,
          -17,
          6,
          43,
          55,
          -7,
          -5,
          8,
          -17,
          -8,
          105,
          7,
          2,
          -2,
          -17,
          9,
          -12,
          -8,
          -10,
          -2,
          242,
          -5,
          -5,
          47,
          -16,
          -21,
          -2,
          -13,
          -6,
          -2,
          -21,
          47,
          3,
          -12,
          -2,
          6,
          -4,
          -19,
          -2,
          -16,
          14,
          -2,
          0,
          0,
          19,
          -10,
          -6,
          -16,
          -11,
          4,
          20,
          2,
          -1,
          13,
          3,
          7,
          -9,
          -15,
          -20,
          -1,
          -8,
          -10,
          -2,
          -6,
          -11,
          5,
          18,
          -37,
          16,
          -4,
          -4,
          -14,
          -16,
          -5,
          -8,
          -19,
          -5,
          -14,
          13,
          -17,
          18,
          5,
          4,
          -9,
          -9,
          -7,
          -4,
          14,
          58,
          -4,
          55,
          -13,
          -6,
          -7,
          21,
          -17,
          -6,
          -13,
          3,
          -11,
          -20,
          -5,
          -8,
          -15,
          -11,
          -11,
          -6,
          13,
          -16,
          -14,
          -9,
          -3,
          7,
          2,
          3,
          -11,
          8,
          25,
          5,
          28,
          -3,
          17,
          -1,
          3,
          8,
          -4,
          10,
          -33,
          -5,
          -16,
          -2,
          -8,
          138,
          46,
          19,
          -5,
          1,
          -2,
          -18,
          -13,
          -17,
          -13,
          -9,
          -13,
          -25,
          5,
          -14,
          1,
          8,
          5,
          -24,
          -7,
          -23,
          -1,
          -6,
          18,
          -11,
          -6,
          0,
          -5,
          23,
          -7,
          -22,
          -13,
          0,
          -8,
          12,
          1,
          4,
          2,
          -10,
          -5,
          10,
          -8,
          -3,
          30,
          34,
          -7,
          0,
          -10,
          4,
          -11,
          -18,
          7,
          -13,
          -13,
          64,
          -13,
          16,
          2,
          5,
          -7,
          -3,
          3,
          17,
          9,
          1,
          11,
          -13,
          -3,
          -12,
          15,
          -2,
          0,
          24,
          -12,
          431,
          29,
          0,
          11,
          -3,
          32,
          3,
          -3,
          26,
          -22,
          -8,
          0,
          -12,
          -30,
          5,
          12,
          -10,
          182,
          71,
          28,
          17,
          1,
          -5,
          -4,
          -12,
          -3,
          -15,
          -4,
          -2,
          -19,
          -11,
          9,
          -20,
          -3,
          -1,
          -19,
          12,
          -11,
          -25,
          5,
          8,
          0,
          4,
          -21,
          -9,
          -4,
          -18,
          0
         ],
         "xaxis": "x",
         "yaxis": "y"
        }
       ],
       "layout": {
        "barmode": "relative",
        "legend": {
         "tracegroupgap": 0
        },
        "template": {
         "data": {
          "bar": [
           {
            "error_x": {
             "color": "#2a3f5f"
            },
            "error_y": {
             "color": "#2a3f5f"
            },
            "marker": {
             "line": {
              "color": "#E5ECF6",
              "width": 0.5
             },
             "pattern": {
              "fillmode": "overlay",
              "size": 10,
              "solidity": 0.2
             }
            },
            "type": "bar"
           }
          ],
          "barpolar": [
           {
            "marker": {
             "line": {
              "color": "#E5ECF6",
              "width": 0.5
             },
             "pattern": {
              "fillmode": "overlay",
              "size": 10,
              "solidity": 0.2
             }
            },
            "type": "barpolar"
           }
          ],
          "carpet": [
           {
            "aaxis": {
             "endlinecolor": "#2a3f5f",
             "gridcolor": "white",
             "linecolor": "white",
             "minorgridcolor": "white",
             "startlinecolor": "#2a3f5f"
            },
            "baxis": {
             "endlinecolor": "#2a3f5f",
             "gridcolor": "white",
             "linecolor": "white",
             "minorgridcolor": "white",
             "startlinecolor": "#2a3f5f"
            },
            "type": "carpet"
           }
          ],
          "choropleth": [
           {
            "colorbar": {
             "outlinewidth": 0,
             "ticks": ""
            },
            "type": "choropleth"
           }
          ],
          "contour": [
           {
            "colorbar": {
             "outlinewidth": 0,
             "ticks": ""
            },
            "colorscale": [
             [
              0,
              "#0d0887"
             ],
             [
              0.1111111111111111,
              "#46039f"
             ],
             [
              0.2222222222222222,
              "#7201a8"
             ],
             [
              0.3333333333333333,
              "#9c179e"
             ],
             [
              0.4444444444444444,
              "#bd3786"
             ],
             [
              0.5555555555555556,
              "#d8576b"
             ],
             [
              0.6666666666666666,
              "#ed7953"
             ],
             [
              0.7777777777777778,
              "#fb9f3a"
             ],
             [
              0.8888888888888888,
              "#fdca26"
             ],
             [
              1,
              "#f0f921"
             ]
            ],
            "type": "contour"
           }
          ],
          "contourcarpet": [
           {
            "colorbar": {
             "outlinewidth": 0,
             "ticks": ""
            },
            "type": "contourcarpet"
           }
          ],
          "heatmap": [
           {
            "colorbar": {
             "outlinewidth": 0,
             "ticks": ""
            },
            "colorscale": [
             [
              0,
              "#0d0887"
             ],
             [
              0.1111111111111111,
              "#46039f"
             ],
             [
              0.2222222222222222,
              "#7201a8"
             ],
             [
              0.3333333333333333,
              "#9c179e"
             ],
             [
              0.4444444444444444,
              "#bd3786"
             ],
             [
              0.5555555555555556,
              "#d8576b"
             ],
             [
              0.6666666666666666,
              "#ed7953"
             ],
             [
              0.7777777777777778,
              "#fb9f3a"
             ],
             [
              0.8888888888888888,
              "#fdca26"
             ],
             [
              1,
              "#f0f921"
             ]
            ],
            "type": "heatmap"
           }
          ],
          "heatmapgl": [
           {
            "colorbar": {
             "outlinewidth": 0,
             "ticks": ""
            },
            "colorscale": [
             [
              0,
              "#0d0887"
             ],
             [
              0.1111111111111111,
              "#46039f"
             ],
             [
              0.2222222222222222,
              "#7201a8"
             ],
             [
              0.3333333333333333,
              "#9c179e"
             ],
             [
              0.4444444444444444,
              "#bd3786"
             ],
             [
              0.5555555555555556,
              "#d8576b"
             ],
             [
              0.6666666666666666,
              "#ed7953"
             ],
             [
              0.7777777777777778,
              "#fb9f3a"
             ],
             [
              0.8888888888888888,
              "#fdca26"
             ],
             [
              1,
              "#f0f921"
             ]
            ],
            "type": "heatmapgl"
           }
          ],
          "histogram": [
           {
            "marker": {
             "pattern": {
              "fillmode": "overlay",
              "size": 10,
              "solidity": 0.2
             }
            },
            "type": "histogram"
           }
          ],
          "histogram2d": [
           {
            "colorbar": {
             "outlinewidth": 0,
             "ticks": ""
            },
            "colorscale": [
             [
              0,
              "#0d0887"
             ],
             [
              0.1111111111111111,
              "#46039f"
             ],
             [
              0.2222222222222222,
              "#7201a8"
             ],
             [
              0.3333333333333333,
              "#9c179e"
             ],
             [
              0.4444444444444444,
              "#bd3786"
             ],
             [
              0.5555555555555556,
              "#d8576b"
             ],
             [
              0.6666666666666666,
              "#ed7953"
             ],
             [
              0.7777777777777778,
              "#fb9f3a"
             ],
             [
              0.8888888888888888,
              "#fdca26"
             ],
             [
              1,
              "#f0f921"
             ]
            ],
            "type": "histogram2d"
           }
          ],
          "histogram2dcontour": [
           {
            "colorbar": {
             "outlinewidth": 0,
             "ticks": ""
            },
            "colorscale": [
             [
              0,
              "#0d0887"
             ],
             [
              0.1111111111111111,
              "#46039f"
             ],
             [
              0.2222222222222222,
              "#7201a8"
             ],
             [
              0.3333333333333333,
              "#9c179e"
             ],
             [
              0.4444444444444444,
              "#bd3786"
             ],
             [
              0.5555555555555556,
              "#d8576b"
             ],
             [
              0.6666666666666666,
              "#ed7953"
             ],
             [
              0.7777777777777778,
              "#fb9f3a"
             ],
             [
              0.8888888888888888,
              "#fdca26"
             ],
             [
              1,
              "#f0f921"
             ]
            ],
            "type": "histogram2dcontour"
           }
          ],
          "mesh3d": [
           {
            "colorbar": {
             "outlinewidth": 0,
             "ticks": ""
            },
            "type": "mesh3d"
           }
          ],
          "parcoords": [
           {
            "line": {
             "colorbar": {
              "outlinewidth": 0,
              "ticks": ""
             }
            },
            "type": "parcoords"
           }
          ],
          "pie": [
           {
            "automargin": true,
            "type": "pie"
           }
          ],
          "scatter": [
           {
            "fillpattern": {
             "fillmode": "overlay",
             "size": 10,
             "solidity": 0.2
            },
            "type": "scatter"
           }
          ],
          "scatter3d": [
           {
            "line": {
             "colorbar": {
              "outlinewidth": 0,
              "ticks": ""
             }
            },
            "marker": {
             "colorbar": {
              "outlinewidth": 0,
              "ticks": ""
             }
            },
            "type": "scatter3d"
           }
          ],
          "scattercarpet": [
           {
            "marker": {
             "colorbar": {
              "outlinewidth": 0,
              "ticks": ""
             }
            },
            "type": "scattercarpet"
           }
          ],
          "scattergeo": [
           {
            "marker": {
             "colorbar": {
              "outlinewidth": 0,
              "ticks": ""
             }
            },
            "type": "scattergeo"
           }
          ],
          "scattergl": [
           {
            "marker": {
             "colorbar": {
              "outlinewidth": 0,
              "ticks": ""
             }
            },
            "type": "scattergl"
           }
          ],
          "scattermapbox": [
           {
            "marker": {
             "colorbar": {
              "outlinewidth": 0,
              "ticks": ""
             }
            },
            "type": "scattermapbox"
           }
          ],
          "scatterpolar": [
           {
            "marker": {
             "colorbar": {
              "outlinewidth": 0,
              "ticks": ""
             }
            },
            "type": "scatterpolar"
           }
          ],
          "scatterpolargl": [
           {
            "marker": {
             "colorbar": {
              "outlinewidth": 0,
              "ticks": ""
             }
            },
            "type": "scatterpolargl"
           }
          ],
          "scatterternary": [
           {
            "marker": {
             "colorbar": {
              "outlinewidth": 0,
              "ticks": ""
             }
            },
            "type": "scatterternary"
           }
          ],
          "surface": [
           {
            "colorbar": {
             "outlinewidth": 0,
             "ticks": ""
            },
            "colorscale": [
             [
              0,
              "#0d0887"
             ],
             [
              0.1111111111111111,
              "#46039f"
             ],
             [
              0.2222222222222222,
              "#7201a8"
             ],
             [
              0.3333333333333333,
              "#9c179e"
             ],
             [
              0.4444444444444444,
              "#bd3786"
             ],
             [
              0.5555555555555556,
              "#d8576b"
             ],
             [
              0.6666666666666666,
              "#ed7953"
             ],
             [
              0.7777777777777778,
              "#fb9f3a"
             ],
             [
              0.8888888888888888,
              "#fdca26"
             ],
             [
              1,
              "#f0f921"
             ]
            ],
            "type": "surface"
           }
          ],
          "table": [
           {
            "cells": {
             "fill": {
              "color": "#EBF0F8"
             },
             "line": {
              "color": "white"
             }
            },
            "header": {
             "fill": {
              "color": "#C8D4E3"
             },
             "line": {
              "color": "white"
             }
            },
            "type": "table"
           }
          ]
         },
         "layout": {
          "annotationdefaults": {
           "arrowcolor": "#2a3f5f",
           "arrowhead": 0,
           "arrowwidth": 1
          },
          "autotypenumbers": "strict",
          "coloraxis": {
           "colorbar": {
            "outlinewidth": 0,
            "ticks": ""
           }
          },
          "colorscale": {
           "diverging": [
            [
             0,
             "#8e0152"
            ],
            [
             0.1,
             "#c51b7d"
            ],
            [
             0.2,
             "#de77ae"
            ],
            [
             0.3,
             "#f1b6da"
            ],
            [
             0.4,
             "#fde0ef"
            ],
            [
             0.5,
             "#f7f7f7"
            ],
            [
             0.6,
             "#e6f5d0"
            ],
            [
             0.7,
             "#b8e186"
            ],
            [
             0.8,
             "#7fbc41"
            ],
            [
             0.9,
             "#4d9221"
            ],
            [
             1,
             "#276419"
            ]
           ],
           "sequential": [
            [
             0,
             "#0d0887"
            ],
            [
             0.1111111111111111,
             "#46039f"
            ],
            [
             0.2222222222222222,
             "#7201a8"
            ],
            [
             0.3333333333333333,
             "#9c179e"
            ],
            [
             0.4444444444444444,
             "#bd3786"
            ],
            [
             0.5555555555555556,
             "#d8576b"
            ],
            [
             0.6666666666666666,
             "#ed7953"
            ],
            [
             0.7777777777777778,
             "#fb9f3a"
            ],
            [
             0.8888888888888888,
             "#fdca26"
            ],
            [
             1,
             "#f0f921"
            ]
           ],
           "sequentialminus": [
            [
             0,
             "#0d0887"
            ],
            [
             0.1111111111111111,
             "#46039f"
            ],
            [
             0.2222222222222222,
             "#7201a8"
            ],
            [
             0.3333333333333333,
             "#9c179e"
            ],
            [
             0.4444444444444444,
             "#bd3786"
            ],
            [
             0.5555555555555556,
             "#d8576b"
            ],
            [
             0.6666666666666666,
             "#ed7953"
            ],
            [
             0.7777777777777778,
             "#fb9f3a"
            ],
            [
             0.8888888888888888,
             "#fdca26"
            ],
            [
             1,
             "#f0f921"
            ]
           ]
          },
          "colorway": [
           "#636efa",
           "#EF553B",
           "#00cc96",
           "#ab63fa",
           "#FFA15A",
           "#19d3f3",
           "#FF6692",
           "#B6E880",
           "#FF97FF",
           "#FECB52"
          ],
          "font": {
           "color": "#2a3f5f"
          },
          "geo": {
           "bgcolor": "white",
           "lakecolor": "white",
           "landcolor": "#E5ECF6",
           "showlakes": true,
           "showland": true,
           "subunitcolor": "white"
          },
          "hoverlabel": {
           "align": "left"
          },
          "hovermode": "closest",
          "mapbox": {
           "style": "light"
          },
          "paper_bgcolor": "white",
          "plot_bgcolor": "#E5ECF6",
          "polar": {
           "angularaxis": {
            "gridcolor": "white",
            "linecolor": "white",
            "ticks": ""
           },
           "bgcolor": "#E5ECF6",
           "radialaxis": {
            "gridcolor": "white",
            "linecolor": "white",
            "ticks": ""
           }
          },
          "scene": {
           "xaxis": {
            "backgroundcolor": "#E5ECF6",
            "gridcolor": "white",
            "gridwidth": 2,
            "linecolor": "white",
            "showbackground": true,
            "ticks": "",
            "zerolinecolor": "white"
           },
           "yaxis": {
            "backgroundcolor": "#E5ECF6",
            "gridcolor": "white",
            "gridwidth": 2,
            "linecolor": "white",
            "showbackground": true,
            "ticks": "",
            "zerolinecolor": "white"
           },
           "zaxis": {
            "backgroundcolor": "#E5ECF6",
            "gridcolor": "white",
            "gridwidth": 2,
            "linecolor": "white",
            "showbackground": true,
            "ticks": "",
            "zerolinecolor": "white"
           }
          },
          "shapedefaults": {
           "line": {
            "color": "#2a3f5f"
           }
          },
          "ternary": {
           "aaxis": {
            "gridcolor": "white",
            "linecolor": "white",
            "ticks": ""
           },
           "baxis": {
            "gridcolor": "white",
            "linecolor": "white",
            "ticks": ""
           },
           "bgcolor": "#E5ECF6",
           "caxis": {
            "gridcolor": "white",
            "linecolor": "white",
            "ticks": ""
           }
          },
          "title": {
           "x": 0.05
          },
          "xaxis": {
           "automargin": true,
           "gridcolor": "white",
           "linecolor": "white",
           "ticks": "",
           "title": {
            "standoff": 15
           },
           "zerolinecolor": "white",
           "zerolinewidth": 2
          },
          "yaxis": {
           "automargin": true,
           "gridcolor": "white",
           "linecolor": "white",
           "ticks": "",
           "title": {
            "standoff": 15
           },
           "zerolinecolor": "white",
           "zerolinewidth": 2
          }
         }
        },
        "title": {
         "text": "Flight Delay over the data set"
        },
        "xaxis": {
         "anchor": "y",
         "domain": [
          0,
          1
         ],
         "title": {
          "text": "ArrDelay"
         }
        },
        "yaxis": {
         "anchor": "x",
         "domain": [
          0,
          1
         ],
         "title": {
          "text": "count"
         }
        }
       }
      },
      "text/html": [
       "<div>                            <div id=\"6475f22e-a12b-4d15-a1eb-a2dc6f8ccfea\" class=\"plotly-graph-div\" style=\"height:525px; width:100%;\"></div>            <script type=\"text/javascript\">                require([\"plotly\"], function(Plotly) {                    window.PLOTLYENV=window.PLOTLYENV || {};                                    if (document.getElementById(\"6475f22e-a12b-4d15-a1eb-a2dc6f8ccfea\")) {                    Plotly.newPlot(                        \"6475f22e-a12b-4d15-a1eb-a2dc6f8ccfea\",                        [{\"alignmentgroup\":\"True\",\"bingroup\":\"x\",\"hovertemplate\":\"ArrDelay=%{x}<br>count=%{y}<extra></extra>\",\"legendgroup\":\"\",\"marker\":{\"color\":\"#636efa\",\"pattern\":{\"shape\":\"\"}},\"name\":\"\",\"offsetgroup\":\"\",\"orientation\":\"v\",\"showlegend\":false,\"x\":[32.0,-1.0,-5.0,-2.0,-11.0,-4.0,-12.0,10.0,-7.0,-4.0,35.0,-3.0,-5.0,7.0,91.0,2.0,4.0,-14.0,0.0,-22.0,-5.0,0.0,-17.0,-15.0,25.0,27.0,-2.0,3.0,26.0,-11.0,-9.0,-28.0,-14.0,18.0,6.0,76.0,28.0,0.0,-2.0,3.0,-5.0,-9.0,12.0,-10.0,-13.0,-29.0,14.0,-15.0,18.0,13.0,-7.0,-3.0,-8.0,-15.0,-4.0,-24.0,13.0,11.0,-18.0,-13.0,16.0,-23.0,-3.0,0.0,12.0,11.0,-8.0,-12.0,-10.0,-3.0,-5.0,19.0,-5.0,41.0,2.0,-7.0,102.0,-5.0,-2.0,-15.0,6.0,-4.0,-11.0,2.0,-15.0,7.0,21.0,48.0,27.0,31.0,-5.0,50.0,11.0,0.0,-12.0,5.0,100.0,7.0,20.0,75.0,-14.0,-7.0,0.0,32.0,-9.0,4.0,-26.0,15.0,-12.0,14.0,-10.0,-20.0,78.0,8.0,-5.0,10.0,31.0,-14.0,-16.0,103.0,-22.0,-7.0,5.0,-3.0,-3.0,-1.0,1.0,51.0,40.0,17.0,4.0,2.0,-11.0,-10.0,-12.0,-7.0,-16.0,-13.0,13.0,-19.0,12.0,5.0,0.0,0.0,184.0,15.0,10.0,4.0,-1.0,-23.0,-26.0,-9.0,-6.0,-13.0,-1.0,11.0,9.0,38.0,13.0,35.0,28.0,45.0,-3.0,28.0,-9.0,7.0,-9.0,16.0,11.0,3.0,15.0,-3.0,8.0,-3.0,-8.0,-7.0,19.0,48.0,-14.0,7.0,-21.0,-5.0,-6.0,-14.0,19.0,-24.0,-21.0,-22.0,-23.0,-11.0,-9.0,-21.0,-16.0,-9.0,10.0,-16.0,-9.0,-5.0,-14.0,-30.0,31.0,1.0,-4.0,-13.0,-4.0,-3.0,4.0,35.0,7.0,-7.0,0.0,0.0,0.0,12.0,-23.0,-19.0,0.0,10.0,6.0,-4.0,4.0,-17.0,-17.0,60.0,0.0,0.0,51.0,-12.0,0.0,37.0,0.0,76.0,21.0,10.0,7.0,3.0,-3.0,0.0,-10.0,9.0,-14.0,5.0,-16.0,0.0,-5.0,-9.0,0.0,-4.0,-13.0,-28.0,-7.0,-13.0,-1.0,18.0,-8.0,70.0,-14.0,12.0,-2.0,1.0,-1.0,5.0,0.0,-54.0,0.0,28.0,-17.0,-14.0,1.0,-8.0,18.0,-16.0,-13.0,5.0,10.0,48.0,16.0,-12.0,0.0,-4.0,-12.0,-27.0,-5.0,-15.0,20.0,-5.0,-10.0,33.0,6.0,-4.0,108.0,7.0,-2.0,8.0,-1.0,-10.0,-10.0,6.0,4.0,-7.0,14.0,22.0,17.0,1.0,-25.0,20.0,3.0,0.0,3.0,20.0,5.0,11.0,-1.0,4.0,-13.0,-20.0,-19.0,11.0,-14.0,9.0,4.0,-23.0,-7.0,-34.0,-3.0,-11.0,-1.0,-16.0,-7.0,-12.0,0.0,-9.0,-8.0,14.0,2.0,5.0,-26.0,-5.0,-11.0,24.0,-9.0,-6.0,-22.0,11.0,-23.0,-4.0,35.0,-4.0,52.0,-9.0,66.0,-12.0,0.0,9.0,12.0,111.0,26.0,-18.0,7.0,21.0,106.0,-11.0,-1.0,-11.0,-10.0,-17.0,24.0,12.0,-14.0,-12.0,-45.0,-14.0,14.0,-11.0,11.0,10.0,34.0,22.0,1.0,95.0,-19.0,-1.0,3.0,0.0,-19.0,5.0,-19.0,26.0,-12.0,15.0,18.0,9.0,0.0,-1.0,-1.0,-1.0,0.0,-14.0,6.0,12.0,21.0,0.0,30.0,-22.0,-2.0,13.0,20.0,47.0,-11.0,-19.0,4.0,-20.0,-5.0,23.0,0.0,-3.0,14.0,62.0,-10.0,3.0,-11.0,-2.0,-12.0,-8.0,-4.0,59.0,7.0,6.0,4.0,-12.0,15.0,-9.0,8.0,-8.0,4.0,-16.0,7.0,-18.0,8.0,12.0,-3.0,7.0,3.0,0.0,-15.0,10.0,4.0,7.0,-9.0,-15.0,-13.0,31.0,0.0,-4.0,21.0,-1.0,-8.0,12.0,13.0,7.0,2.0,-10.0,19.0,-3.0,33.0,-3.0,-3.0,210.0,51.0,4.0,-10.0,20.0,10.0,-8.0,0.0,14.0,-6.0,-29.0,5.0,0.0,-7.0,-34.0,19.0,-5.0,8.0,-23.0,20.0,5.0,-50.0,57.0,-4.0,-4.0,-2.0,-12.0,-21.0,8.0,-5.0,-14.0,88.0,4.0,-17.0,2.0,-9.0,-2.0,-3.0,20.0,20.0,-3.0,5.0,2.0,-16.0,38.0,-6.0,-4.0,-1.0,155.0,15.0,-26.0,-2.0,-19.0,-10.0,1.0,26.0,-14.0,10.0,73.0,38.0,-18.0,4.0,2.0,2.0,-3.0,45.0,-3.0,11.0,2.0,-5.0,13.0,-5.0,-5.0,16.0,-10.0,-1.0,2.0,12.0,10.0,9.0,0.0,6.0,-15.0,-33.0,0.0,-4.0,-8.0,-18.0,0.0,7.0,3.0,11.0,-11.0,-5.0,29.0,-15.0,-9.0,-5.0,-5.0,-24.0,24.0,-3.0,152.0,-9.0,-16.0,82.0,2.0,-12.0,16.0,-27.0,44.0,67.0,0.0,11.0,-21.0,7.0,-3.0,-5.0,-9.0,2.0,21.0,20.0,-14.0,1.0,135.0,-1.0,33.0,-3.0,30.0,15.0,-20.0,81.0,0.0,-8.0,-12.0,-23.0,1.0,102.0,-17.0,-1.0,1.0,9.0,2.0,-6.0,0.0,0.0,-3.0,16.0,3.0,134.0,-11.0,-11.0,11.0,-16.0,13.0,-25.0,-9.0,-4.0,0.0,-12.0,-1.0,-28.0,5.0,13.0,-4.0,-23.0,0.0,-1.0,48.0,7.0,-7.0,0.0,-7.0,-9.0,-12.0,-12.0,13.0,0.0,24.0,-13.0,32.0,0.0,1.0,-25.0,-8.0,38.0,2.0,17.0,-11.0,-4.0,118.0,12.0,11.0,0.0,3.0,-17.0,-22.0,12.0,-10.0,7.0,102.0,15.0,9.0,-14.0,0.0,29.0,10.0,-20.0,0.0,16.0,13.0,-3.0,-8.0,-1.0,5.0,-15.0,17.0,13.0,-9.0,-8.0,-25.0,-2.0,14.0,-9.0,-10.0,27.0,-17.0,43.0,-4.0,20.0,-5.0,-5.0,22.0,-2.0,52.0,13.0,14.0,-1.0,1.0,-10.0,0.0,55.0,11.0,64.0,50.0,6.0,-13.0,-3.0,27.0,11.0,-2.0,53.0,1.0,23.0,-6.0,61.0,2.0,4.0,-17.0,35.0,-1.0,-12.0,-3.0,-10.0,18.0,81.0,-21.0,-11.0,29.0,-1.0,20.0,11.0,-7.0,113.0,59.0,12.0,-2.0,243.0,18.0,29.0,-17.0,6.0,43.0,55.0,-7.0,-5.0,8.0,-17.0,-8.0,105.0,7.0,2.0,-2.0,-17.0,9.0,-12.0,-8.0,-10.0,-2.0,242.0,-5.0,-5.0,47.0,-16.0,-21.0,-2.0,-13.0,-6.0,-2.0,-21.0,47.0,3.0,-12.0,-2.0,6.0,-4.0,-19.0,-2.0,-16.0,14.0,-2.0,0.0,0.0,19.0,-10.0,-6.0,-16.0,-11.0,4.0,20.0,2.0,-1.0,13.0,3.0,7.0,-9.0,-15.0,-20.0,-1.0,-8.0,-10.0,-2.0,-6.0,-11.0,5.0,18.0,-37.0,16.0,-4.0,-4.0,-14.0,-16.0,-5.0,-8.0,-19.0,-5.0,-14.0,13.0,-17.0,18.0,5.0,4.0,-9.0,-9.0,-7.0,-4.0,14.0,58.0,-4.0,55.0,-13.0,-6.0,-7.0,21.0,-17.0,-6.0,-13.0,3.0,-11.0,-20.0,-5.0,-8.0,-15.0,-11.0,-11.0,-6.0,13.0,-16.0,-14.0,-9.0,-3.0,7.0,2.0,3.0,-11.0,8.0,25.0,5.0,28.0,-3.0,17.0,-1.0,3.0,8.0,-4.0,10.0,-33.0,-5.0,-16.0,-2.0,-8.0,138.0,46.0,19.0,-5.0,1.0,-2.0,-18.0,-13.0,-17.0,-13.0,-9.0,-13.0,-25.0,5.0,-14.0,1.0,8.0,5.0,-24.0,-7.0,-23.0,-1.0,-6.0,18.0,-11.0,-6.0,0.0,-5.0,23.0,-7.0,-22.0,-13.0,0.0,-8.0,12.0,1.0,4.0,2.0,-10.0,-5.0,10.0,-8.0,-3.0,30.0,34.0,-7.0,0.0,-10.0,4.0,-11.0,-18.0,7.0,-13.0,-13.0,64.0,-13.0,16.0,2.0,5.0,-7.0,-3.0,3.0,17.0,9.0,1.0,11.0,-13.0,-3.0,-12.0,15.0,-2.0,0.0,24.0,-12.0,431.0,29.0,0.0,11.0,-3.0,32.0,3.0,-3.0,26.0,-22.0,-8.0,0.0,-12.0,-30.0,5.0,12.0,-10.0,182.0,71.0,28.0,17.0,1.0,-5.0,-4.0,-12.0,-3.0,-15.0,-4.0,-2.0,-19.0,-11.0,9.0,-20.0,-3.0,-1.0,-19.0,12.0,-11.0,-25.0,5.0,8.0,0.0,4.0,-21.0,-9.0,-4.0,-18.0,0.0],\"xaxis\":\"x\",\"yaxis\":\"y\",\"type\":\"histogram\"}],                        {\"template\":{\"data\":{\"histogram2dcontour\":[{\"type\":\"histogram2dcontour\",\"colorbar\":{\"outlinewidth\":0,\"ticks\":\"\"},\"colorscale\":[[0.0,\"#0d0887\"],[0.1111111111111111,\"#46039f\"],[0.2222222222222222,\"#7201a8\"],[0.3333333333333333,\"#9c179e\"],[0.4444444444444444,\"#bd3786\"],[0.5555555555555556,\"#d8576b\"],[0.6666666666666666,\"#ed7953\"],[0.7777777777777778,\"#fb9f3a\"],[0.8888888888888888,\"#fdca26\"],[1.0,\"#f0f921\"]]}],\"choropleth\":[{\"type\":\"choropleth\",\"colorbar\":{\"outlinewidth\":0,\"ticks\":\"\"}}],\"histogram2d\":[{\"type\":\"histogram2d\",\"colorbar\":{\"outlinewidth\":0,\"ticks\":\"\"},\"colorscale\":[[0.0,\"#0d0887\"],[0.1111111111111111,\"#46039f\"],[0.2222222222222222,\"#7201a8\"],[0.3333333333333333,\"#9c179e\"],[0.4444444444444444,\"#bd3786\"],[0.5555555555555556,\"#d8576b\"],[0.6666666666666666,\"#ed7953\"],[0.7777777777777778,\"#fb9f3a\"],[0.8888888888888888,\"#fdca26\"],[1.0,\"#f0f921\"]]}],\"heatmap\":[{\"type\":\"heatmap\",\"colorbar\":{\"outlinewidth\":0,\"ticks\":\"\"},\"colorscale\":[[0.0,\"#0d0887\"],[0.1111111111111111,\"#46039f\"],[0.2222222222222222,\"#7201a8\"],[0.3333333333333333,\"#9c179e\"],[0.4444444444444444,\"#bd3786\"],[0.5555555555555556,\"#d8576b\"],[0.6666666666666666,\"#ed7953\"],[0.7777777777777778,\"#fb9f3a\"],[0.8888888888888888,\"#fdca26\"],[1.0,\"#f0f921\"]]}],\"heatmapgl\":[{\"type\":\"heatmapgl\",\"colorbar\":{\"outlinewidth\":0,\"ticks\":\"\"},\"colorscale\":[[0.0,\"#0d0887\"],[0.1111111111111111,\"#46039f\"],[0.2222222222222222,\"#7201a8\"],[0.3333333333333333,\"#9c179e\"],[0.4444444444444444,\"#bd3786\"],[0.5555555555555556,\"#d8576b\"],[0.6666666666666666,\"#ed7953\"],[0.7777777777777778,\"#fb9f3a\"],[0.8888888888888888,\"#fdca26\"],[1.0,\"#f0f921\"]]}],\"contourcarpet\":[{\"type\":\"contourcarpet\",\"colorbar\":{\"outlinewidth\":0,\"ticks\":\"\"}}],\"contour\":[{\"type\":\"contour\",\"colorbar\":{\"outlinewidth\":0,\"ticks\":\"\"},\"colorscale\":[[0.0,\"#0d0887\"],[0.1111111111111111,\"#46039f\"],[0.2222222222222222,\"#7201a8\"],[0.3333333333333333,\"#9c179e\"],[0.4444444444444444,\"#bd3786\"],[0.5555555555555556,\"#d8576b\"],[0.6666666666666666,\"#ed7953\"],[0.7777777777777778,\"#fb9f3a\"],[0.8888888888888888,\"#fdca26\"],[1.0,\"#f0f921\"]]}],\"surface\":[{\"type\":\"surface\",\"colorbar\":{\"outlinewidth\":0,\"ticks\":\"\"},\"colorscale\":[[0.0,\"#0d0887\"],[0.1111111111111111,\"#46039f\"],[0.2222222222222222,\"#7201a8\"],[0.3333333333333333,\"#9c179e\"],[0.4444444444444444,\"#bd3786\"],[0.5555555555555556,\"#d8576b\"],[0.6666666666666666,\"#ed7953\"],[0.7777777777777778,\"#fb9f3a\"],[0.8888888888888888,\"#fdca26\"],[1.0,\"#f0f921\"]]}],\"mesh3d\":[{\"type\":\"mesh3d\",\"colorbar\":{\"outlinewidth\":0,\"ticks\":\"\"}}],\"scatter\":[{\"fillpattern\":{\"fillmode\":\"overlay\",\"size\":10,\"solidity\":0.2},\"type\":\"scatter\"}],\"parcoords\":[{\"type\":\"parcoords\",\"line\":{\"colorbar\":{\"outlinewidth\":0,\"ticks\":\"\"}}}],\"scatterpolargl\":[{\"type\":\"scatterpolargl\",\"marker\":{\"colorbar\":{\"outlinewidth\":0,\"ticks\":\"\"}}}],\"bar\":[{\"error_x\":{\"color\":\"#2a3f5f\"},\"error_y\":{\"color\":\"#2a3f5f\"},\"marker\":{\"line\":{\"color\":\"#E5ECF6\",\"width\":0.5},\"pattern\":{\"fillmode\":\"overlay\",\"size\":10,\"solidity\":0.2}},\"type\":\"bar\"}],\"scattergeo\":[{\"type\":\"scattergeo\",\"marker\":{\"colorbar\":{\"outlinewidth\":0,\"ticks\":\"\"}}}],\"scatterpolar\":[{\"type\":\"scatterpolar\",\"marker\":{\"colorbar\":{\"outlinewidth\":0,\"ticks\":\"\"}}}],\"histogram\":[{\"marker\":{\"pattern\":{\"fillmode\":\"overlay\",\"size\":10,\"solidity\":0.2}},\"type\":\"histogram\"}],\"scattergl\":[{\"type\":\"scattergl\",\"marker\":{\"colorbar\":{\"outlinewidth\":0,\"ticks\":\"\"}}}],\"scatter3d\":[{\"type\":\"scatter3d\",\"line\":{\"colorbar\":{\"outlinewidth\":0,\"ticks\":\"\"}},\"marker\":{\"colorbar\":{\"outlinewidth\":0,\"ticks\":\"\"}}}],\"scattermapbox\":[{\"type\":\"scattermapbox\",\"marker\":{\"colorbar\":{\"outlinewidth\":0,\"ticks\":\"\"}}}],\"scatterternary\":[{\"type\":\"scatterternary\",\"marker\":{\"colorbar\":{\"outlinewidth\":0,\"ticks\":\"\"}}}],\"scattercarpet\":[{\"type\":\"scattercarpet\",\"marker\":{\"colorbar\":{\"outlinewidth\":0,\"ticks\":\"\"}}}],\"carpet\":[{\"aaxis\":{\"endlinecolor\":\"#2a3f5f\",\"gridcolor\":\"white\",\"linecolor\":\"white\",\"minorgridcolor\":\"white\",\"startlinecolor\":\"#2a3f5f\"},\"baxis\":{\"endlinecolor\":\"#2a3f5f\",\"gridcolor\":\"white\",\"linecolor\":\"white\",\"minorgridcolor\":\"white\",\"startlinecolor\":\"#2a3f5f\"},\"type\":\"carpet\"}],\"table\":[{\"cells\":{\"fill\":{\"color\":\"#EBF0F8\"},\"line\":{\"color\":\"white\"}},\"header\":{\"fill\":{\"color\":\"#C8D4E3\"},\"line\":{\"color\":\"white\"}},\"type\":\"table\"}],\"barpolar\":[{\"marker\":{\"line\":{\"color\":\"#E5ECF6\",\"width\":0.5},\"pattern\":{\"fillmode\":\"overlay\",\"size\":10,\"solidity\":0.2}},\"type\":\"barpolar\"}],\"pie\":[{\"automargin\":true,\"type\":\"pie\"}]},\"layout\":{\"autotypenumbers\":\"strict\",\"colorway\":[\"#636efa\",\"#EF553B\",\"#00cc96\",\"#ab63fa\",\"#FFA15A\",\"#19d3f3\",\"#FF6692\",\"#B6E880\",\"#FF97FF\",\"#FECB52\"],\"font\":{\"color\":\"#2a3f5f\"},\"hovermode\":\"closest\",\"hoverlabel\":{\"align\":\"left\"},\"paper_bgcolor\":\"white\",\"plot_bgcolor\":\"#E5ECF6\",\"polar\":{\"bgcolor\":\"#E5ECF6\",\"angularaxis\":{\"gridcolor\":\"white\",\"linecolor\":\"white\",\"ticks\":\"\"},\"radialaxis\":{\"gridcolor\":\"white\",\"linecolor\":\"white\",\"ticks\":\"\"}},\"ternary\":{\"bgcolor\":\"#E5ECF6\",\"aaxis\":{\"gridcolor\":\"white\",\"linecolor\":\"white\",\"ticks\":\"\"},\"baxis\":{\"gridcolor\":\"white\",\"linecolor\":\"white\",\"ticks\":\"\"},\"caxis\":{\"gridcolor\":\"white\",\"linecolor\":\"white\",\"ticks\":\"\"}},\"coloraxis\":{\"colorbar\":{\"outlinewidth\":0,\"ticks\":\"\"}},\"colorscale\":{\"sequential\":[[0.0,\"#0d0887\"],[0.1111111111111111,\"#46039f\"],[0.2222222222222222,\"#7201a8\"],[0.3333333333333333,\"#9c179e\"],[0.4444444444444444,\"#bd3786\"],[0.5555555555555556,\"#d8576b\"],[0.6666666666666666,\"#ed7953\"],[0.7777777777777778,\"#fb9f3a\"],[0.8888888888888888,\"#fdca26\"],[1.0,\"#f0f921\"]],\"sequentialminus\":[[0.0,\"#0d0887\"],[0.1111111111111111,\"#46039f\"],[0.2222222222222222,\"#7201a8\"],[0.3333333333333333,\"#9c179e\"],[0.4444444444444444,\"#bd3786\"],[0.5555555555555556,\"#d8576b\"],[0.6666666666666666,\"#ed7953\"],[0.7777777777777778,\"#fb9f3a\"],[0.8888888888888888,\"#fdca26\"],[1.0,\"#f0f921\"]],\"diverging\":[[0,\"#8e0152\"],[0.1,\"#c51b7d\"],[0.2,\"#de77ae\"],[0.3,\"#f1b6da\"],[0.4,\"#fde0ef\"],[0.5,\"#f7f7f7\"],[0.6,\"#e6f5d0\"],[0.7,\"#b8e186\"],[0.8,\"#7fbc41\"],[0.9,\"#4d9221\"],[1,\"#276419\"]]},\"xaxis\":{\"gridcolor\":\"white\",\"linecolor\":\"white\",\"ticks\":\"\",\"title\":{\"standoff\":15},\"zerolinecolor\":\"white\",\"automargin\":true,\"zerolinewidth\":2},\"yaxis\":{\"gridcolor\":\"white\",\"linecolor\":\"white\",\"ticks\":\"\",\"title\":{\"standoff\":15},\"zerolinecolor\":\"white\",\"automargin\":true,\"zerolinewidth\":2},\"scene\":{\"xaxis\":{\"backgroundcolor\":\"#E5ECF6\",\"gridcolor\":\"white\",\"linecolor\":\"white\",\"showbackground\":true,\"ticks\":\"\",\"zerolinecolor\":\"white\",\"gridwidth\":2},\"yaxis\":{\"backgroundcolor\":\"#E5ECF6\",\"gridcolor\":\"white\",\"linecolor\":\"white\",\"showbackground\":true,\"ticks\":\"\",\"zerolinecolor\":\"white\",\"gridwidth\":2},\"zaxis\":{\"backgroundcolor\":\"#E5ECF6\",\"gridcolor\":\"white\",\"linecolor\":\"white\",\"showbackground\":true,\"ticks\":\"\",\"zerolinecolor\":\"white\",\"gridwidth\":2}},\"shapedefaults\":{\"line\":{\"color\":\"#2a3f5f\"}},\"annotationdefaults\":{\"arrowcolor\":\"#2a3f5f\",\"arrowhead\":0,\"arrowwidth\":1},\"geo\":{\"bgcolor\":\"white\",\"landcolor\":\"#E5ECF6\",\"subunitcolor\":\"white\",\"showland\":true,\"showlakes\":true,\"lakecolor\":\"white\"},\"title\":{\"x\":0.05},\"mapbox\":{\"style\":\"light\"}}},\"xaxis\":{\"anchor\":\"y\",\"domain\":[0.0,1.0],\"title\":{\"text\":\"ArrDelay\"}},\"yaxis\":{\"anchor\":\"x\",\"domain\":[0.0,1.0],\"title\":{\"text\":\"count\"}},\"legend\":{\"tracegroupgap\":0},\"title\":{\"text\":\"Flight Delay over the data set\"},\"barmode\":\"relative\"},                        {\"responsive\": true}                    ).then(function(){\n",
       "                            \n",
       "var gd = document.getElementById('6475f22e-a12b-4d15-a1eb-a2dc6f8ccfea');\n",
       "var x = new MutationObserver(function (mutations, observer) {{\n",
       "        var display = window.getComputedStyle(gd).display;\n",
       "        if (!display || display === 'none') {{\n",
       "            console.log([gd, 'removed!']);\n",
       "            Plotly.purge(gd);\n",
       "            observer.disconnect();\n",
       "        }}\n",
       "}});\n",
       "\n",
       "// Listen for the removal of the full notebook cells\n",
       "var notebookContainer = gd.closest('#notebook-container');\n",
       "if (notebookContainer) {{\n",
       "    x.observe(notebookContainer, {childList: true});\n",
       "}}\n",
       "\n",
       "// Listen for the clearing of the current output cell\n",
       "var outputEl = gd.closest('.output');\n",
       "if (outputEl) {{\n",
       "    x.observe(outputEl, {childList: true});\n",
       "}}\n",
       "\n",
       "                        })                };                });            </script>        </div>"
      ]
     },
     "metadata": {},
     "output_type": "display_data"
    }
   ],
   "source": [
    "#creating Histogram\n",
    "fig = px.histogram(df,x='ArrDelay',title='Flight Delay over the data set')\n",
    "fig.show()"
   ]
  },
  {
   "cell_type": "markdown",
   "id": "dfb0a67d",
   "metadata": {},
   "source": [
    "### PieChart"
   ]
  },
  {
   "cell_type": "code",
   "execution_count": 113,
   "id": "c922c963",
   "metadata": {},
   "outputs": [
    {
     "data": {
      "application/vnd.plotly.v1+json": {
       "config": {
        "plotlyServerURL": "https://plot.ly"
       },
       "data": [
        {
         "domain": {
          "x": [
           0,
           1
          ],
          "y": [
           0,
           1
          ]
         },
         "hovertemplate": "DistanceGroup=%{label}<br>Month=%{value}<extra></extra>",
         "labels": [
          1,
          3,
          1,
          8,
          2,
          7,
          9,
          4,
          1,
          4,
          2,
          2,
          1,
          7,
          2,
          10,
          2,
          3,
          2,
          9,
          2,
          4,
          2,
          1,
          1,
          2,
          4,
          5,
          1,
          10,
          2,
          2,
          7,
          4,
          4,
          2,
          1,
          1,
          3,
          5,
          4,
          1,
          2,
          1,
          7,
          11,
          3,
          4,
          3,
          2,
          2,
          1,
          1,
          4,
          5,
          2,
          2,
          2,
          5,
          2,
          2,
          5,
          3,
          1,
          4,
          1,
          10,
          2,
          1,
          1,
          2,
          6,
          4,
          2,
          1,
          3,
          2,
          2,
          1,
          2,
          2,
          8,
          3,
          6,
          2,
          1,
          2,
          2,
          3,
          4,
          3,
          1,
          3,
          5,
          2,
          2,
          5,
          2,
          8,
          11,
          4,
          1,
          1,
          2,
          3,
          2,
          4,
          3,
          7,
          3,
          2,
          2,
          3,
          1,
          1,
          1,
          3,
          8,
          2,
          3,
          2,
          1,
          8,
          2,
          3,
          3,
          2,
          10,
          6,
          4,
          5,
          2,
          3,
          3,
          3,
          4,
          3,
          1,
          5,
          1,
          4,
          2,
          4,
          2,
          8,
          1,
          4,
          3,
          2,
          10,
          9,
          3,
          1,
          1,
          1,
          5,
          5,
          3,
          3,
          2,
          1,
          2,
          7,
          1,
          4,
          5,
          4,
          2,
          2,
          2,
          3,
          2,
          7,
          2,
          2,
          2,
          3,
          1,
          2,
          2,
          1,
          4,
          2,
          2,
          1,
          5,
          3,
          5,
          3,
          2,
          3,
          3,
          6,
          1,
          3,
          2,
          1,
          2,
          7,
          10,
          1,
          1,
          4,
          3,
          2,
          3,
          4,
          2,
          4,
          7,
          3,
          3,
          1,
          1,
          8,
          4,
          1,
          6,
          3,
          2,
          2,
          2,
          5,
          2,
          3,
          5,
          10,
          3,
          4,
          2,
          6,
          4,
          2,
          4,
          2,
          5,
          3,
          1,
          4,
          3,
          4,
          3,
          11,
          6,
          5,
          2,
          7,
          2,
          4,
          2,
          4,
          5,
          2,
          8,
          7,
          2,
          1,
          2,
          2,
          1,
          1,
          1,
          3,
          11,
          5,
          6,
          1,
          3,
          2,
          3,
          3,
          4,
          3,
          2,
          3,
          2,
          2,
          1,
          1,
          2,
          11,
          4,
          4,
          4,
          4,
          3,
          4,
          4,
          8,
          2,
          5,
          2,
          4,
          2,
          2,
          11,
          2,
          3,
          2,
          1,
          3,
          7,
          2,
          8,
          2,
          5,
          1,
          3,
          4,
          5,
          1,
          5,
          2,
          2,
          2,
          4,
          1,
          5,
          1,
          5,
          5,
          7,
          2,
          6,
          2,
          6,
          3,
          4,
          3,
          3,
          2,
          2,
          2,
          3,
          2,
          2,
          8,
          6,
          2,
          1,
          1,
          1,
          6,
          5,
          4,
          5,
          3,
          4,
          1,
          2,
          2,
          7,
          4,
          1,
          3,
          5,
          4,
          3,
          2,
          7,
          2,
          1,
          1,
          11,
          4,
          5,
          2,
          3,
          2,
          2,
          7,
          2,
          1,
          3,
          2,
          3,
          2,
          11,
          4,
          2,
          5,
          1,
          3,
          3,
          2,
          4,
          7,
          3,
          3,
          3,
          4,
          5,
          4,
          2,
          2,
          3,
          2,
          1,
          2,
          3,
          4,
          4,
          5,
          3,
          4,
          2,
          1,
          1,
          6,
          3,
          1,
          2,
          2,
          1,
          5,
          2,
          3,
          5,
          3,
          2,
          4,
          3,
          4,
          7,
          3,
          3,
          2,
          3,
          3,
          3,
          8,
          3,
          3,
          1,
          2,
          8,
          1,
          1,
          2,
          5,
          3,
          1,
          1,
          2,
          7,
          1,
          4,
          11,
          4,
          1,
          4,
          2,
          4,
          1,
          2,
          10,
          5,
          4,
          1,
          1,
          5,
          1,
          3,
          1,
          2,
          4,
          4,
          2,
          4,
          2,
          1,
          11,
          3,
          2,
          1,
          2,
          9,
          7,
          3,
          3,
          2,
          7,
          4,
          1,
          1,
          6,
          3,
          3,
          8,
          1,
          4,
          4,
          3,
          5,
          1,
          2,
          7,
          5,
          2,
          5,
          1,
          7,
          4,
          3,
          2,
          2,
          3,
          2,
          3,
          2,
          10,
          3,
          2,
          2,
          2,
          6,
          1,
          6,
          2,
          5,
          2,
          3,
          2,
          3,
          2,
          2,
          3,
          7,
          4,
          7,
          1,
          3,
          3,
          5,
          4,
          5,
          11,
          9,
          4,
          2,
          2,
          4,
          3,
          2,
          2,
          5,
          2,
          4,
          3,
          2,
          1,
          4,
          4,
          1,
          10,
          5,
          2,
          3,
          3,
          6,
          4,
          8,
          3,
          2,
          1,
          2,
          5,
          6,
          2,
          3,
          1,
          6,
          4,
          1,
          2,
          5,
          2,
          2,
          2,
          3,
          5,
          5,
          2,
          2,
          3,
          3,
          2,
          1,
          5,
          2,
          3,
          3,
          7,
          2,
          3,
          5,
          4,
          3,
          5,
          1,
          6,
          2,
          1,
          2,
          2,
          2,
          1,
          4,
          1,
          2,
          2,
          5,
          6,
          2,
          3,
          2,
          3,
          2,
          5,
          9,
          2,
          1,
          7,
          3,
          1,
          3,
          3,
          2,
          4,
          7,
          4,
          3,
          1,
          3,
          2,
          5,
          3,
          1,
          3,
          1,
          2,
          2,
          10,
          7,
          10,
          1,
          5,
          1,
          2,
          2,
          7,
          1,
          3,
          3,
          2,
          2,
          2,
          4,
          1,
          3,
          10,
          2,
          2,
          5,
          1,
          2,
          4,
          4,
          11,
          8,
          5,
          2,
          11,
          2,
          4,
          2,
          1,
          3,
          2,
          2,
          5,
          8,
          3,
          2,
          5,
          2,
          4,
          5,
          2,
          1,
          10,
          2,
          7,
          2,
          5,
          1,
          1,
          2,
          3,
          3,
          2,
          4,
          4,
          2,
          1,
          2,
          2,
          2,
          2,
          3,
          2,
          8,
          3,
          2,
          3,
          5,
          3,
          2,
          10,
          2,
          2,
          2,
          7,
          4,
          5,
          4,
          3,
          4,
          3,
          4,
          4,
          1,
          3,
          2,
          9,
          3,
          5,
          1,
          2,
          3,
          2,
          4,
          4,
          3,
          4,
          2,
          1,
          3,
          1,
          9,
          2,
          2,
          2,
          6,
          1,
          1,
          5,
          2,
          5,
          3,
          3,
          3,
          5,
          2,
          1,
          3,
          2,
          4,
          2,
          2,
          1,
          3,
          2,
          3,
          3,
          2,
          2,
          3,
          2,
          1,
          4,
          3,
          1,
          6,
          3,
          3,
          5,
          8,
          6,
          2,
          3,
          4,
          8,
          3,
          5,
          2,
          7,
          2,
          6,
          2,
          2,
          1,
          2,
          1,
          2,
          2,
          2,
          4,
          1,
          4,
          2,
          8,
          2,
          9,
          3,
          4,
          3,
          10,
          3,
          4,
          1,
          5,
          1,
          3,
          3,
          4,
          1,
          3,
          3,
          4,
          3,
          1,
          2,
          7,
          2,
          1,
          2,
          5,
          6,
          2,
          3,
          4,
          1,
          3,
          1,
          8,
          4,
          8,
          3,
          2,
          7,
          2,
          1,
          5,
          3,
          5,
          6,
          2,
          5,
          5,
          1,
          4,
          1,
          3,
          2,
          2,
          1,
          2,
          1,
          4,
          3,
          2,
          2,
          11,
          4,
          4,
          2,
          5,
          4,
          4,
          1,
          3,
          3,
          2,
          3,
          7,
          4,
          4,
          3,
          1,
          3,
          2,
          2,
          6,
          3,
          5,
          2,
          1,
          3,
          6,
          2,
          6,
          3,
          1,
          3,
          5,
          2,
          2,
          4,
          5,
          5,
          3,
          2,
          2,
          1,
          2,
          1,
          2,
          2,
          2,
          3,
          6,
          7,
          2,
          3,
          8,
          4,
          4,
          3,
          2,
          3,
          2,
          5,
          1,
          1,
          2,
          5,
          2,
          2,
          3,
          1,
          1,
          2,
          2,
          3,
          3,
          1,
          3,
          1,
          1,
          2,
          5,
          4,
          3,
          2,
          5,
          2,
          2,
          6,
          2,
          3,
          9,
          3,
          6,
          3,
          7,
          1,
          4,
          1,
          5,
          1,
          2,
          4,
          2,
          2,
          4,
          2,
          4,
          5,
          3,
          3,
          5,
          2,
          3,
          3,
          2,
          1,
          3,
          2,
          11,
          4,
          4,
          2,
          9,
          10,
          3,
          4,
          6,
          5,
          2
         ],
         "legendgroup": "",
         "name": "",
         "showlegend": true,
         "type": "pie",
         "values": [
          3,
          8,
          7,
          10,
          2,
          1,
          2,
          1,
          3,
          11,
          8,
          8,
          9,
          11,
          3,
          10,
          3,
          2,
          12,
          12,
          7,
          10,
          1,
          6,
          8,
          1,
          2,
          12,
          10,
          11,
          5,
          11,
          9,
          4,
          10,
          7,
          9,
          10,
          7,
          1,
          1,
          7,
          5,
          6,
          4,
          3,
          2,
          2,
          10,
          12,
          4,
          2,
          11,
          11,
          4,
          11,
          7,
          7,
          5,
          11,
          4,
          7,
          9,
          5,
          4,
          5,
          3,
          12,
          5,
          3,
          7,
          5,
          1,
          1,
          3,
          7,
          8,
          10,
          11,
          3,
          4,
          2,
          4,
          12,
          5,
          8,
          12,
          6,
          7,
          12,
          8,
          2,
          8,
          8,
          5,
          7,
          6,
          9,
          7,
          10,
          1,
          5,
          6,
          5,
          12,
          8,
          7,
          12,
          12,
          12,
          6,
          4,
          6,
          7,
          12,
          3,
          6,
          7,
          8,
          10,
          11,
          7,
          2,
          4,
          2,
          1,
          4,
          4,
          9,
          4,
          6,
          2,
          9,
          7,
          4,
          1,
          12,
          5,
          8,
          8,
          12,
          5,
          12,
          2,
          7,
          5,
          5,
          9,
          7,
          6,
          5,
          10,
          4,
          1,
          9,
          8,
          8,
          1,
          1,
          6,
          1,
          4,
          3,
          4,
          9,
          10,
          2,
          11,
          10,
          2,
          4,
          5,
          11,
          1,
          4,
          11,
          4,
          12,
          5,
          6,
          12,
          9,
          9,
          4,
          12,
          4,
          12,
          7,
          10,
          3,
          8,
          3,
          10,
          12,
          12,
          6,
          10,
          8,
          5,
          12,
          8,
          11,
          7,
          1,
          12,
          1,
          6,
          6,
          4,
          12,
          3,
          10,
          3,
          12,
          10,
          10,
          12,
          7,
          9,
          7,
          11,
          8,
          12,
          11,
          2,
          9,
          9,
          5,
          6,
          9,
          3,
          9,
          12,
          5,
          4,
          7,
          1,
          2,
          10,
          6,
          8,
          6,
          10,
          11,
          7,
          8,
          12,
          4,
          7,
          11,
          4,
          6,
          5,
          11,
          4,
          1,
          2,
          12,
          3,
          3,
          9,
          9,
          12,
          10,
          12,
          7,
          9,
          1,
          7,
          2,
          4,
          8,
          7,
          8,
          5,
          1,
          4,
          1,
          7,
          8,
          9,
          6,
          1,
          4,
          3,
          11,
          9,
          12,
          12,
          11,
          3,
          8,
          10,
          11,
          5,
          11,
          3,
          8,
          5,
          8,
          6,
          5,
          4,
          8,
          2,
          4,
          11,
          5,
          7,
          3,
          12,
          2,
          3,
          10,
          10,
          1,
          1,
          6,
          11,
          9,
          1,
          4,
          1,
          9,
          6,
          5,
          5,
          8,
          9,
          10,
          6,
          12,
          1,
          5,
          10,
          5,
          7,
          11,
          10,
          8,
          7,
          12,
          12,
          4,
          12,
          12,
          12,
          9,
          12,
          7,
          12,
          11,
          8,
          6,
          11,
          9,
          5,
          10,
          4,
          3,
          1,
          8,
          12,
          1,
          12,
          12,
          2,
          10,
          3,
          9,
          1,
          5,
          4,
          5,
          10,
          5,
          3,
          12,
          4,
          3,
          12,
          5,
          11,
          12,
          4,
          2,
          9,
          2,
          7,
          11,
          6,
          6,
          6,
          1,
          9,
          7,
          6,
          4,
          3,
          4,
          4,
          8,
          7,
          11,
          5,
          11,
          9,
          10,
          8,
          12,
          3,
          11,
          7,
          3,
          12,
          8,
          9,
          9,
          1,
          12,
          8,
          3,
          10,
          11,
          5,
          2,
          11,
          5,
          2,
          10,
          3,
          1,
          2,
          8,
          2,
          5,
          11,
          11,
          12,
          4,
          6,
          4,
          5,
          8,
          4,
          2,
          8,
          5,
          5,
          3,
          2,
          4,
          5,
          1,
          3,
          3,
          1,
          3,
          8,
          10,
          1,
          2,
          1,
          9,
          7,
          7,
          9,
          6,
          9,
          4,
          1,
          7,
          2,
          9,
          9,
          11,
          2,
          7,
          8,
          2,
          3,
          1,
          12,
          5,
          12,
          10,
          7,
          4,
          11,
          3,
          11,
          5,
          7,
          1,
          11,
          7,
          6,
          3,
          4,
          1,
          12,
          8,
          4,
          5,
          5,
          12,
          12,
          11,
          7,
          5,
          8,
          4,
          5,
          11,
          8,
          12,
          5,
          4,
          6,
          11,
          7,
          4,
          12,
          3,
          3,
          7,
          2,
          2,
          10,
          6,
          9,
          10,
          10,
          12,
          7,
          5,
          7,
          8,
          4,
          12,
          10,
          4,
          8,
          3,
          4,
          3,
          12,
          7,
          12,
          12,
          4,
          1,
          3,
          5,
          7,
          5,
          10,
          8,
          6,
          9,
          9,
          6,
          8,
          1,
          9,
          7,
          2,
          12,
          7,
          5,
          9,
          4,
          4,
          2,
          4,
          10,
          11,
          7,
          11,
          1,
          4,
          10,
          1,
          4,
          9,
          5,
          6,
          12,
          2,
          12,
          10,
          9,
          8,
          2,
          9,
          1,
          9,
          4,
          3,
          11,
          8,
          11,
          7,
          6,
          8,
          5,
          2,
          12,
          6,
          9,
          1,
          3,
          9,
          8,
          11,
          2,
          6,
          5,
          10,
          12,
          2,
          11,
          8,
          5,
          6,
          1,
          3,
          7,
          4,
          8,
          5,
          3,
          9,
          1,
          4,
          1,
          1,
          7,
          12,
          6,
          11,
          4,
          4,
          6,
          6,
          1,
          1,
          4,
          12,
          9,
          6,
          2,
          9,
          5,
          10,
          8,
          7,
          3,
          5,
          10,
          9,
          12,
          6,
          8,
          3,
          8,
          3,
          5,
          9,
          10,
          4,
          5,
          8,
          1,
          7,
          5,
          1,
          6,
          3,
          2,
          5,
          9,
          1,
          12,
          6,
          6,
          8,
          9,
          2,
          6,
          4,
          11,
          1,
          5,
          4,
          10,
          8,
          4,
          10,
          8,
          4,
          6,
          7,
          12,
          1,
          5,
          9,
          5,
          9,
          7,
          7,
          3,
          6,
          7,
          5,
          1,
          9,
          11,
          3,
          11,
          8,
          12,
          7,
          3,
          11,
          7,
          7,
          7,
          8,
          6,
          10,
          11,
          3,
          12,
          12,
          7,
          8,
          10,
          9,
          8,
          3,
          8,
          8,
          6,
          12,
          4,
          2,
          1,
          8,
          11,
          3,
          5,
          3,
          3,
          11,
          12,
          2,
          9,
          4,
          8,
          4,
          4,
          2,
          10,
          7,
          9,
          3,
          2,
          4,
          1,
          9,
          8,
          5,
          2,
          8,
          2,
          9,
          2,
          10,
          9,
          5,
          10,
          11,
          7,
          11,
          9,
          3,
          7,
          2,
          6,
          2,
          10,
          1,
          9,
          7,
          1,
          11,
          9,
          6,
          9,
          12,
          9,
          10,
          3,
          1,
          8,
          4,
          7,
          4,
          2,
          7,
          7,
          10,
          4,
          10,
          2,
          6,
          5,
          4,
          12,
          4,
          9,
          6,
          5,
          4,
          8,
          9,
          6,
          10,
          4,
          11,
          8,
          3,
          12,
          7,
          12,
          12,
          3,
          8,
          7,
          11,
          1,
          12,
          5,
          6,
          4,
          12,
          2,
          11,
          11,
          6,
          5,
          9,
          6,
          4,
          3,
          12,
          11,
          11,
          12,
          12,
          2,
          9,
          8,
          12,
          8,
          7,
          5,
          11,
          11,
          3,
          7,
          9,
          8,
          7,
          8,
          10,
          7,
          8,
          10,
          12,
          11,
          2,
          4,
          12,
          8,
          10,
          11,
          9,
          10,
          11,
          3,
          6,
          6,
          11,
          7,
          4,
          6,
          5,
          4,
          4,
          3,
          6,
          1,
          9,
          1,
          7,
          6,
          11,
          7,
          10,
          3,
          10,
          3,
          7,
          4,
          3,
          8,
          9,
          2,
          3,
          1,
          12,
          10,
          3,
          2,
          6,
          11,
          9,
          9,
          9,
          5,
          9,
          11,
          9,
          3,
          6,
          12,
          6,
          4,
          1,
          2,
          8,
          10,
          7,
          11,
          6,
          6,
          1,
          7,
          3,
          8,
          7,
          11,
          7,
          2,
          2,
          5,
          1,
          3,
          3,
          3,
          8,
          2,
          8,
          8,
          3,
          1,
          7,
          1,
          10,
          2,
          8,
          4,
          11,
          11,
          9,
          2,
          5,
          8,
          8,
          5,
          12,
          12,
          8,
          11,
          7,
          11,
          11,
          4,
          11,
          10,
          12,
          3,
          5,
          5,
          10,
          5,
          12,
          12
         ]
        }
       ],
       "layout": {
        "legend": {
         "tracegroupgap": 0
        },
        "margin": {
         "t": 60
        },
        "template": {
         "data": {
          "bar": [
           {
            "error_x": {
             "color": "#2a3f5f"
            },
            "error_y": {
             "color": "#2a3f5f"
            },
            "marker": {
             "line": {
              "color": "#E5ECF6",
              "width": 0.5
             },
             "pattern": {
              "fillmode": "overlay",
              "size": 10,
              "solidity": 0.2
             }
            },
            "type": "bar"
           }
          ],
          "barpolar": [
           {
            "marker": {
             "line": {
              "color": "#E5ECF6",
              "width": 0.5
             },
             "pattern": {
              "fillmode": "overlay",
              "size": 10,
              "solidity": 0.2
             }
            },
            "type": "barpolar"
           }
          ],
          "carpet": [
           {
            "aaxis": {
             "endlinecolor": "#2a3f5f",
             "gridcolor": "white",
             "linecolor": "white",
             "minorgridcolor": "white",
             "startlinecolor": "#2a3f5f"
            },
            "baxis": {
             "endlinecolor": "#2a3f5f",
             "gridcolor": "white",
             "linecolor": "white",
             "minorgridcolor": "white",
             "startlinecolor": "#2a3f5f"
            },
            "type": "carpet"
           }
          ],
          "choropleth": [
           {
            "colorbar": {
             "outlinewidth": 0,
             "ticks": ""
            },
            "type": "choropleth"
           }
          ],
          "contour": [
           {
            "colorbar": {
             "outlinewidth": 0,
             "ticks": ""
            },
            "colorscale": [
             [
              0,
              "#0d0887"
             ],
             [
              0.1111111111111111,
              "#46039f"
             ],
             [
              0.2222222222222222,
              "#7201a8"
             ],
             [
              0.3333333333333333,
              "#9c179e"
             ],
             [
              0.4444444444444444,
              "#bd3786"
             ],
             [
              0.5555555555555556,
              "#d8576b"
             ],
             [
              0.6666666666666666,
              "#ed7953"
             ],
             [
              0.7777777777777778,
              "#fb9f3a"
             ],
             [
              0.8888888888888888,
              "#fdca26"
             ],
             [
              1,
              "#f0f921"
             ]
            ],
            "type": "contour"
           }
          ],
          "contourcarpet": [
           {
            "colorbar": {
             "outlinewidth": 0,
             "ticks": ""
            },
            "type": "contourcarpet"
           }
          ],
          "heatmap": [
           {
            "colorbar": {
             "outlinewidth": 0,
             "ticks": ""
            },
            "colorscale": [
             [
              0,
              "#0d0887"
             ],
             [
              0.1111111111111111,
              "#46039f"
             ],
             [
              0.2222222222222222,
              "#7201a8"
             ],
             [
              0.3333333333333333,
              "#9c179e"
             ],
             [
              0.4444444444444444,
              "#bd3786"
             ],
             [
              0.5555555555555556,
              "#d8576b"
             ],
             [
              0.6666666666666666,
              "#ed7953"
             ],
             [
              0.7777777777777778,
              "#fb9f3a"
             ],
             [
              0.8888888888888888,
              "#fdca26"
             ],
             [
              1,
              "#f0f921"
             ]
            ],
            "type": "heatmap"
           }
          ],
          "heatmapgl": [
           {
            "colorbar": {
             "outlinewidth": 0,
             "ticks": ""
            },
            "colorscale": [
             [
              0,
              "#0d0887"
             ],
             [
              0.1111111111111111,
              "#46039f"
             ],
             [
              0.2222222222222222,
              "#7201a8"
             ],
             [
              0.3333333333333333,
              "#9c179e"
             ],
             [
              0.4444444444444444,
              "#bd3786"
             ],
             [
              0.5555555555555556,
              "#d8576b"
             ],
             [
              0.6666666666666666,
              "#ed7953"
             ],
             [
              0.7777777777777778,
              "#fb9f3a"
             ],
             [
              0.8888888888888888,
              "#fdca26"
             ],
             [
              1,
              "#f0f921"
             ]
            ],
            "type": "heatmapgl"
           }
          ],
          "histogram": [
           {
            "marker": {
             "pattern": {
              "fillmode": "overlay",
              "size": 10,
              "solidity": 0.2
             }
            },
            "type": "histogram"
           }
          ],
          "histogram2d": [
           {
            "colorbar": {
             "outlinewidth": 0,
             "ticks": ""
            },
            "colorscale": [
             [
              0,
              "#0d0887"
             ],
             [
              0.1111111111111111,
              "#46039f"
             ],
             [
              0.2222222222222222,
              "#7201a8"
             ],
             [
              0.3333333333333333,
              "#9c179e"
             ],
             [
              0.4444444444444444,
              "#bd3786"
             ],
             [
              0.5555555555555556,
              "#d8576b"
             ],
             [
              0.6666666666666666,
              "#ed7953"
             ],
             [
              0.7777777777777778,
              "#fb9f3a"
             ],
             [
              0.8888888888888888,
              "#fdca26"
             ],
             [
              1,
              "#f0f921"
             ]
            ],
            "type": "histogram2d"
           }
          ],
          "histogram2dcontour": [
           {
            "colorbar": {
             "outlinewidth": 0,
             "ticks": ""
            },
            "colorscale": [
             [
              0,
              "#0d0887"
             ],
             [
              0.1111111111111111,
              "#46039f"
             ],
             [
              0.2222222222222222,
              "#7201a8"
             ],
             [
              0.3333333333333333,
              "#9c179e"
             ],
             [
              0.4444444444444444,
              "#bd3786"
             ],
             [
              0.5555555555555556,
              "#d8576b"
             ],
             [
              0.6666666666666666,
              "#ed7953"
             ],
             [
              0.7777777777777778,
              "#fb9f3a"
             ],
             [
              0.8888888888888888,
              "#fdca26"
             ],
             [
              1,
              "#f0f921"
             ]
            ],
            "type": "histogram2dcontour"
           }
          ],
          "mesh3d": [
           {
            "colorbar": {
             "outlinewidth": 0,
             "ticks": ""
            },
            "type": "mesh3d"
           }
          ],
          "parcoords": [
           {
            "line": {
             "colorbar": {
              "outlinewidth": 0,
              "ticks": ""
             }
            },
            "type": "parcoords"
           }
          ],
          "pie": [
           {
            "automargin": true,
            "type": "pie"
           }
          ],
          "scatter": [
           {
            "fillpattern": {
             "fillmode": "overlay",
             "size": 10,
             "solidity": 0.2
            },
            "type": "scatter"
           }
          ],
          "scatter3d": [
           {
            "line": {
             "colorbar": {
              "outlinewidth": 0,
              "ticks": ""
             }
            },
            "marker": {
             "colorbar": {
              "outlinewidth": 0,
              "ticks": ""
             }
            },
            "type": "scatter3d"
           }
          ],
          "scattercarpet": [
           {
            "marker": {
             "colorbar": {
              "outlinewidth": 0,
              "ticks": ""
             }
            },
            "type": "scattercarpet"
           }
          ],
          "scattergeo": [
           {
            "marker": {
             "colorbar": {
              "outlinewidth": 0,
              "ticks": ""
             }
            },
            "type": "scattergeo"
           }
          ],
          "scattergl": [
           {
            "marker": {
             "colorbar": {
              "outlinewidth": 0,
              "ticks": ""
             }
            },
            "type": "scattergl"
           }
          ],
          "scattermapbox": [
           {
            "marker": {
             "colorbar": {
              "outlinewidth": 0,
              "ticks": ""
             }
            },
            "type": "scattermapbox"
           }
          ],
          "scatterpolar": [
           {
            "marker": {
             "colorbar": {
              "outlinewidth": 0,
              "ticks": ""
             }
            },
            "type": "scatterpolar"
           }
          ],
          "scatterpolargl": [
           {
            "marker": {
             "colorbar": {
              "outlinewidth": 0,
              "ticks": ""
             }
            },
            "type": "scatterpolargl"
           }
          ],
          "scatterternary": [
           {
            "marker": {
             "colorbar": {
              "outlinewidth": 0,
              "ticks": ""
             }
            },
            "type": "scatterternary"
           }
          ],
          "surface": [
           {
            "colorbar": {
             "outlinewidth": 0,
             "ticks": ""
            },
            "colorscale": [
             [
              0,
              "#0d0887"
             ],
             [
              0.1111111111111111,
              "#46039f"
             ],
             [
              0.2222222222222222,
              "#7201a8"
             ],
             [
              0.3333333333333333,
              "#9c179e"
             ],
             [
              0.4444444444444444,
              "#bd3786"
             ],
             [
              0.5555555555555556,
              "#d8576b"
             ],
             [
              0.6666666666666666,
              "#ed7953"
             ],
             [
              0.7777777777777778,
              "#fb9f3a"
             ],
             [
              0.8888888888888888,
              "#fdca26"
             ],
             [
              1,
              "#f0f921"
             ]
            ],
            "type": "surface"
           }
          ],
          "table": [
           {
            "cells": {
             "fill": {
              "color": "#EBF0F8"
             },
             "line": {
              "color": "white"
             }
            },
            "header": {
             "fill": {
              "color": "#C8D4E3"
             },
             "line": {
              "color": "white"
             }
            },
            "type": "table"
           }
          ]
         },
         "layout": {
          "annotationdefaults": {
           "arrowcolor": "#2a3f5f",
           "arrowhead": 0,
           "arrowwidth": 1
          },
          "autotypenumbers": "strict",
          "coloraxis": {
           "colorbar": {
            "outlinewidth": 0,
            "ticks": ""
           }
          },
          "colorscale": {
           "diverging": [
            [
             0,
             "#8e0152"
            ],
            [
             0.1,
             "#c51b7d"
            ],
            [
             0.2,
             "#de77ae"
            ],
            [
             0.3,
             "#f1b6da"
            ],
            [
             0.4,
             "#fde0ef"
            ],
            [
             0.5,
             "#f7f7f7"
            ],
            [
             0.6,
             "#e6f5d0"
            ],
            [
             0.7,
             "#b8e186"
            ],
            [
             0.8,
             "#7fbc41"
            ],
            [
             0.9,
             "#4d9221"
            ],
            [
             1,
             "#276419"
            ]
           ],
           "sequential": [
            [
             0,
             "#0d0887"
            ],
            [
             0.1111111111111111,
             "#46039f"
            ],
            [
             0.2222222222222222,
             "#7201a8"
            ],
            [
             0.3333333333333333,
             "#9c179e"
            ],
            [
             0.4444444444444444,
             "#bd3786"
            ],
            [
             0.5555555555555556,
             "#d8576b"
            ],
            [
             0.6666666666666666,
             "#ed7953"
            ],
            [
             0.7777777777777778,
             "#fb9f3a"
            ],
            [
             0.8888888888888888,
             "#fdca26"
            ],
            [
             1,
             "#f0f921"
            ]
           ],
           "sequentialminus": [
            [
             0,
             "#0d0887"
            ],
            [
             0.1111111111111111,
             "#46039f"
            ],
            [
             0.2222222222222222,
             "#7201a8"
            ],
            [
             0.3333333333333333,
             "#9c179e"
            ],
            [
             0.4444444444444444,
             "#bd3786"
            ],
            [
             0.5555555555555556,
             "#d8576b"
            ],
            [
             0.6666666666666666,
             "#ed7953"
            ],
            [
             0.7777777777777778,
             "#fb9f3a"
            ],
            [
             0.8888888888888888,
             "#fdca26"
            ],
            [
             1,
             "#f0f921"
            ]
           ]
          },
          "colorway": [
           "#636efa",
           "#EF553B",
           "#00cc96",
           "#ab63fa",
           "#FFA15A",
           "#19d3f3",
           "#FF6692",
           "#B6E880",
           "#FF97FF",
           "#FECB52"
          ],
          "font": {
           "color": "#2a3f5f"
          },
          "geo": {
           "bgcolor": "white",
           "lakecolor": "white",
           "landcolor": "#E5ECF6",
           "showlakes": true,
           "showland": true,
           "subunitcolor": "white"
          },
          "hoverlabel": {
           "align": "left"
          },
          "hovermode": "closest",
          "mapbox": {
           "style": "light"
          },
          "paper_bgcolor": "white",
          "plot_bgcolor": "#E5ECF6",
          "polar": {
           "angularaxis": {
            "gridcolor": "white",
            "linecolor": "white",
            "ticks": ""
           },
           "bgcolor": "#E5ECF6",
           "radialaxis": {
            "gridcolor": "white",
            "linecolor": "white",
            "ticks": ""
           }
          },
          "scene": {
           "xaxis": {
            "backgroundcolor": "#E5ECF6",
            "gridcolor": "white",
            "gridwidth": 2,
            "linecolor": "white",
            "showbackground": true,
            "ticks": "",
            "zerolinecolor": "white"
           },
           "yaxis": {
            "backgroundcolor": "#E5ECF6",
            "gridcolor": "white",
            "gridwidth": 2,
            "linecolor": "white",
            "showbackground": true,
            "ticks": "",
            "zerolinecolor": "white"
           },
           "zaxis": {
            "backgroundcolor": "#E5ECF6",
            "gridcolor": "white",
            "gridwidth": 2,
            "linecolor": "white",
            "showbackground": true,
            "ticks": "",
            "zerolinecolor": "white"
           }
          },
          "shapedefaults": {
           "line": {
            "color": "#2a3f5f"
           }
          },
          "ternary": {
           "aaxis": {
            "gridcolor": "white",
            "linecolor": "white",
            "ticks": ""
           },
           "baxis": {
            "gridcolor": "white",
            "linecolor": "white",
            "ticks": ""
           },
           "bgcolor": "#E5ECF6",
           "caxis": {
            "gridcolor": "white",
            "linecolor": "white",
            "ticks": ""
           }
          },
          "title": {
           "x": 0.05
          },
          "xaxis": {
           "automargin": true,
           "gridcolor": "white",
           "linecolor": "white",
           "ticks": "",
           "title": {
            "standoff": 15
           },
           "zerolinecolor": "white",
           "zerolinewidth": 2
          },
          "yaxis": {
           "automargin": true,
           "gridcolor": "white",
           "linecolor": "white",
           "ticks": "",
           "title": {
            "standoff": 15
           },
           "zerolinecolor": "white",
           "zerolinewidth": 2
          }
         }
        }
       }
      },
      "text/html": [
       "<div>                            <div id=\"36a29464-abe0-4afb-a49c-8c11cf290ab2\" class=\"plotly-graph-div\" style=\"height:525px; width:100%;\"></div>            <script type=\"text/javascript\">                require([\"plotly\"], function(Plotly) {                    window.PLOTLYENV=window.PLOTLYENV || {};                                    if (document.getElementById(\"36a29464-abe0-4afb-a49c-8c11cf290ab2\")) {                    Plotly.newPlot(                        \"36a29464-abe0-4afb-a49c-8c11cf290ab2\",                        [{\"domain\":{\"x\":[0.0,1.0],\"y\":[0.0,1.0]},\"hovertemplate\":\"DistanceGroup=%{label}<br>Month=%{value}<extra></extra>\",\"labels\":[1,3,1,8,2,7,9,4,1,4,2,2,1,7,2,10,2,3,2,9,2,4,2,1,1,2,4,5,1,10,2,2,7,4,4,2,1,1,3,5,4,1,2,1,7,11,3,4,3,2,2,1,1,4,5,2,2,2,5,2,2,5,3,1,4,1,10,2,1,1,2,6,4,2,1,3,2,2,1,2,2,8,3,6,2,1,2,2,3,4,3,1,3,5,2,2,5,2,8,11,4,1,1,2,3,2,4,3,7,3,2,2,3,1,1,1,3,8,2,3,2,1,8,2,3,3,2,10,6,4,5,2,3,3,3,4,3,1,5,1,4,2,4,2,8,1,4,3,2,10,9,3,1,1,1,5,5,3,3,2,1,2,7,1,4,5,4,2,2,2,3,2,7,2,2,2,3,1,2,2,1,4,2,2,1,5,3,5,3,2,3,3,6,1,3,2,1,2,7,10,1,1,4,3,2,3,4,2,4,7,3,3,1,1,8,4,1,6,3,2,2,2,5,2,3,5,10,3,4,2,6,4,2,4,2,5,3,1,4,3,4,3,11,6,5,2,7,2,4,2,4,5,2,8,7,2,1,2,2,1,1,1,3,11,5,6,1,3,2,3,3,4,3,2,3,2,2,1,1,2,11,4,4,4,4,3,4,4,8,2,5,2,4,2,2,11,2,3,2,1,3,7,2,8,2,5,1,3,4,5,1,5,2,2,2,4,1,5,1,5,5,7,2,6,2,6,3,4,3,3,2,2,2,3,2,2,8,6,2,1,1,1,6,5,4,5,3,4,1,2,2,7,4,1,3,5,4,3,2,7,2,1,1,11,4,5,2,3,2,2,7,2,1,3,2,3,2,11,4,2,5,1,3,3,2,4,7,3,3,3,4,5,4,2,2,3,2,1,2,3,4,4,5,3,4,2,1,1,6,3,1,2,2,1,5,2,3,5,3,2,4,3,4,7,3,3,2,3,3,3,8,3,3,1,2,8,1,1,2,5,3,1,1,2,7,1,4,11,4,1,4,2,4,1,2,10,5,4,1,1,5,1,3,1,2,4,4,2,4,2,1,11,3,2,1,2,9,7,3,3,2,7,4,1,1,6,3,3,8,1,4,4,3,5,1,2,7,5,2,5,1,7,4,3,2,2,3,2,3,2,10,3,2,2,2,6,1,6,2,5,2,3,2,3,2,2,3,7,4,7,1,3,3,5,4,5,11,9,4,2,2,4,3,2,2,5,2,4,3,2,1,4,4,1,10,5,2,3,3,6,4,8,3,2,1,2,5,6,2,3,1,6,4,1,2,5,2,2,2,3,5,5,2,2,3,3,2,1,5,2,3,3,7,2,3,5,4,3,5,1,6,2,1,2,2,2,1,4,1,2,2,5,6,2,3,2,3,2,5,9,2,1,7,3,1,3,3,2,4,7,4,3,1,3,2,5,3,1,3,1,2,2,10,7,10,1,5,1,2,2,7,1,3,3,2,2,2,4,1,3,10,2,2,5,1,2,4,4,11,8,5,2,11,2,4,2,1,3,2,2,5,8,3,2,5,2,4,5,2,1,10,2,7,2,5,1,1,2,3,3,2,4,4,2,1,2,2,2,2,3,2,8,3,2,3,5,3,2,10,2,2,2,7,4,5,4,3,4,3,4,4,1,3,2,9,3,5,1,2,3,2,4,4,3,4,2,1,3,1,9,2,2,2,6,1,1,5,2,5,3,3,3,5,2,1,3,2,4,2,2,1,3,2,3,3,2,2,3,2,1,4,3,1,6,3,3,5,8,6,2,3,4,8,3,5,2,7,2,6,2,2,1,2,1,2,2,2,4,1,4,2,8,2,9,3,4,3,10,3,4,1,5,1,3,3,4,1,3,3,4,3,1,2,7,2,1,2,5,6,2,3,4,1,3,1,8,4,8,3,2,7,2,1,5,3,5,6,2,5,5,1,4,1,3,2,2,1,2,1,4,3,2,2,11,4,4,2,5,4,4,1,3,3,2,3,7,4,4,3,1,3,2,2,6,3,5,2,1,3,6,2,6,3,1,3,5,2,2,4,5,5,3,2,2,1,2,1,2,2,2,3,6,7,2,3,8,4,4,3,2,3,2,5,1,1,2,5,2,2,3,1,1,2,2,3,3,1,3,1,1,2,5,4,3,2,5,2,2,6,2,3,9,3,6,3,7,1,4,1,5,1,2,4,2,2,4,2,4,5,3,3,5,2,3,3,2,1,3,2,11,4,4,2,9,10,3,4,6,5,2],\"legendgroup\":\"\",\"name\":\"\",\"showlegend\":true,\"values\":[3,8,7,10,2,1,2,1,3,11,8,8,9,11,3,10,3,2,12,12,7,10,1,6,8,1,2,12,10,11,5,11,9,4,10,7,9,10,7,1,1,7,5,6,4,3,2,2,10,12,4,2,11,11,4,11,7,7,5,11,4,7,9,5,4,5,3,12,5,3,7,5,1,1,3,7,8,10,11,3,4,2,4,12,5,8,12,6,7,12,8,2,8,8,5,7,6,9,7,10,1,5,6,5,12,8,7,12,12,12,6,4,6,7,12,3,6,7,8,10,11,7,2,4,2,1,4,4,9,4,6,2,9,7,4,1,12,5,8,8,12,5,12,2,7,5,5,9,7,6,5,10,4,1,9,8,8,1,1,6,1,4,3,4,9,10,2,11,10,2,4,5,11,1,4,11,4,12,5,6,12,9,9,4,12,4,12,7,10,3,8,3,10,12,12,6,10,8,5,12,8,11,7,1,12,1,6,6,4,12,3,10,3,12,10,10,12,7,9,7,11,8,12,11,2,9,9,5,6,9,3,9,12,5,4,7,1,2,10,6,8,6,10,11,7,8,12,4,7,11,4,6,5,11,4,1,2,12,3,3,9,9,12,10,12,7,9,1,7,2,4,8,7,8,5,1,4,1,7,8,9,6,1,4,3,11,9,12,12,11,3,8,10,11,5,11,3,8,5,8,6,5,4,8,2,4,11,5,7,3,12,2,3,10,10,1,1,6,11,9,1,4,1,9,6,5,5,8,9,10,6,12,1,5,10,5,7,11,10,8,7,12,12,4,12,12,12,9,12,7,12,11,8,6,11,9,5,10,4,3,1,8,12,1,12,12,2,10,3,9,1,5,4,5,10,5,3,12,4,3,12,5,11,12,4,2,9,2,7,11,6,6,6,1,9,7,6,4,3,4,4,8,7,11,5,11,9,10,8,12,3,11,7,3,12,8,9,9,1,12,8,3,10,11,5,2,11,5,2,10,3,1,2,8,2,5,11,11,12,4,6,4,5,8,4,2,8,5,5,3,2,4,5,1,3,3,1,3,8,10,1,2,1,9,7,7,9,6,9,4,1,7,2,9,9,11,2,7,8,2,3,1,12,5,12,10,7,4,11,3,11,5,7,1,11,7,6,3,4,1,12,8,4,5,5,12,12,11,7,5,8,4,5,11,8,12,5,4,6,11,7,4,12,3,3,7,2,2,10,6,9,10,10,12,7,5,7,8,4,12,10,4,8,3,4,3,12,7,12,12,4,1,3,5,7,5,10,8,6,9,9,6,8,1,9,7,2,12,7,5,9,4,4,2,4,10,11,7,11,1,4,10,1,4,9,5,6,12,2,12,10,9,8,2,9,1,9,4,3,11,8,11,7,6,8,5,2,12,6,9,1,3,9,8,11,2,6,5,10,12,2,11,8,5,6,1,3,7,4,8,5,3,9,1,4,1,1,7,12,6,11,4,4,6,6,1,1,4,12,9,6,2,9,5,10,8,7,3,5,10,9,12,6,8,3,8,3,5,9,10,4,5,8,1,7,5,1,6,3,2,5,9,1,12,6,6,8,9,2,6,4,11,1,5,4,10,8,4,10,8,4,6,7,12,1,5,9,5,9,7,7,3,6,7,5,1,9,11,3,11,8,12,7,3,11,7,7,7,8,6,10,11,3,12,12,7,8,10,9,8,3,8,8,6,12,4,2,1,8,11,3,5,3,3,11,12,2,9,4,8,4,4,2,10,7,9,3,2,4,1,9,8,5,2,8,2,9,2,10,9,5,10,11,7,11,9,3,7,2,6,2,10,1,9,7,1,11,9,6,9,12,9,10,3,1,8,4,7,4,2,7,7,10,4,10,2,6,5,4,12,4,9,6,5,4,8,9,6,10,4,11,8,3,12,7,12,12,3,8,7,11,1,12,5,6,4,12,2,11,11,6,5,9,6,4,3,12,11,11,12,12,2,9,8,12,8,7,5,11,11,3,7,9,8,7,8,10,7,8,10,12,11,2,4,12,8,10,11,9,10,11,3,6,6,11,7,4,6,5,4,4,3,6,1,9,1,7,6,11,7,10,3,10,3,7,4,3,8,9,2,3,1,12,10,3,2,6,11,9,9,9,5,9,11,9,3,6,12,6,4,1,2,8,10,7,11,6,6,1,7,3,8,7,11,7,2,2,5,1,3,3,3,8,2,8,8,3,1,7,1,10,2,8,4,11,11,9,2,5,8,8,5,12,12,8,11,7,11,11,4,11,10,12,3,5,5,10,5,12,12],\"type\":\"pie\"}],                        {\"template\":{\"data\":{\"histogram2dcontour\":[{\"type\":\"histogram2dcontour\",\"colorbar\":{\"outlinewidth\":0,\"ticks\":\"\"},\"colorscale\":[[0.0,\"#0d0887\"],[0.1111111111111111,\"#46039f\"],[0.2222222222222222,\"#7201a8\"],[0.3333333333333333,\"#9c179e\"],[0.4444444444444444,\"#bd3786\"],[0.5555555555555556,\"#d8576b\"],[0.6666666666666666,\"#ed7953\"],[0.7777777777777778,\"#fb9f3a\"],[0.8888888888888888,\"#fdca26\"],[1.0,\"#f0f921\"]]}],\"choropleth\":[{\"type\":\"choropleth\",\"colorbar\":{\"outlinewidth\":0,\"ticks\":\"\"}}],\"histogram2d\":[{\"type\":\"histogram2d\",\"colorbar\":{\"outlinewidth\":0,\"ticks\":\"\"},\"colorscale\":[[0.0,\"#0d0887\"],[0.1111111111111111,\"#46039f\"],[0.2222222222222222,\"#7201a8\"],[0.3333333333333333,\"#9c179e\"],[0.4444444444444444,\"#bd3786\"],[0.5555555555555556,\"#d8576b\"],[0.6666666666666666,\"#ed7953\"],[0.7777777777777778,\"#fb9f3a\"],[0.8888888888888888,\"#fdca26\"],[1.0,\"#f0f921\"]]}],\"heatmap\":[{\"type\":\"heatmap\",\"colorbar\":{\"outlinewidth\":0,\"ticks\":\"\"},\"colorscale\":[[0.0,\"#0d0887\"],[0.1111111111111111,\"#46039f\"],[0.2222222222222222,\"#7201a8\"],[0.3333333333333333,\"#9c179e\"],[0.4444444444444444,\"#bd3786\"],[0.5555555555555556,\"#d8576b\"],[0.6666666666666666,\"#ed7953\"],[0.7777777777777778,\"#fb9f3a\"],[0.8888888888888888,\"#fdca26\"],[1.0,\"#f0f921\"]]}],\"heatmapgl\":[{\"type\":\"heatmapgl\",\"colorbar\":{\"outlinewidth\":0,\"ticks\":\"\"},\"colorscale\":[[0.0,\"#0d0887\"],[0.1111111111111111,\"#46039f\"],[0.2222222222222222,\"#7201a8\"],[0.3333333333333333,\"#9c179e\"],[0.4444444444444444,\"#bd3786\"],[0.5555555555555556,\"#d8576b\"],[0.6666666666666666,\"#ed7953\"],[0.7777777777777778,\"#fb9f3a\"],[0.8888888888888888,\"#fdca26\"],[1.0,\"#f0f921\"]]}],\"contourcarpet\":[{\"type\":\"contourcarpet\",\"colorbar\":{\"outlinewidth\":0,\"ticks\":\"\"}}],\"contour\":[{\"type\":\"contour\",\"colorbar\":{\"outlinewidth\":0,\"ticks\":\"\"},\"colorscale\":[[0.0,\"#0d0887\"],[0.1111111111111111,\"#46039f\"],[0.2222222222222222,\"#7201a8\"],[0.3333333333333333,\"#9c179e\"],[0.4444444444444444,\"#bd3786\"],[0.5555555555555556,\"#d8576b\"],[0.6666666666666666,\"#ed7953\"],[0.7777777777777778,\"#fb9f3a\"],[0.8888888888888888,\"#fdca26\"],[1.0,\"#f0f921\"]]}],\"surface\":[{\"type\":\"surface\",\"colorbar\":{\"outlinewidth\":0,\"ticks\":\"\"},\"colorscale\":[[0.0,\"#0d0887\"],[0.1111111111111111,\"#46039f\"],[0.2222222222222222,\"#7201a8\"],[0.3333333333333333,\"#9c179e\"],[0.4444444444444444,\"#bd3786\"],[0.5555555555555556,\"#d8576b\"],[0.6666666666666666,\"#ed7953\"],[0.7777777777777778,\"#fb9f3a\"],[0.8888888888888888,\"#fdca26\"],[1.0,\"#f0f921\"]]}],\"mesh3d\":[{\"type\":\"mesh3d\",\"colorbar\":{\"outlinewidth\":0,\"ticks\":\"\"}}],\"scatter\":[{\"fillpattern\":{\"fillmode\":\"overlay\",\"size\":10,\"solidity\":0.2},\"type\":\"scatter\"}],\"parcoords\":[{\"type\":\"parcoords\",\"line\":{\"colorbar\":{\"outlinewidth\":0,\"ticks\":\"\"}}}],\"scatterpolargl\":[{\"type\":\"scatterpolargl\",\"marker\":{\"colorbar\":{\"outlinewidth\":0,\"ticks\":\"\"}}}],\"bar\":[{\"error_x\":{\"color\":\"#2a3f5f\"},\"error_y\":{\"color\":\"#2a3f5f\"},\"marker\":{\"line\":{\"color\":\"#E5ECF6\",\"width\":0.5},\"pattern\":{\"fillmode\":\"overlay\",\"size\":10,\"solidity\":0.2}},\"type\":\"bar\"}],\"scattergeo\":[{\"type\":\"scattergeo\",\"marker\":{\"colorbar\":{\"outlinewidth\":0,\"ticks\":\"\"}}}],\"scatterpolar\":[{\"type\":\"scatterpolar\",\"marker\":{\"colorbar\":{\"outlinewidth\":0,\"ticks\":\"\"}}}],\"histogram\":[{\"marker\":{\"pattern\":{\"fillmode\":\"overlay\",\"size\":10,\"solidity\":0.2}},\"type\":\"histogram\"}],\"scattergl\":[{\"type\":\"scattergl\",\"marker\":{\"colorbar\":{\"outlinewidth\":0,\"ticks\":\"\"}}}],\"scatter3d\":[{\"type\":\"scatter3d\",\"line\":{\"colorbar\":{\"outlinewidth\":0,\"ticks\":\"\"}},\"marker\":{\"colorbar\":{\"outlinewidth\":0,\"ticks\":\"\"}}}],\"scattermapbox\":[{\"type\":\"scattermapbox\",\"marker\":{\"colorbar\":{\"outlinewidth\":0,\"ticks\":\"\"}}}],\"scatterternary\":[{\"type\":\"scatterternary\",\"marker\":{\"colorbar\":{\"outlinewidth\":0,\"ticks\":\"\"}}}],\"scattercarpet\":[{\"type\":\"scattercarpet\",\"marker\":{\"colorbar\":{\"outlinewidth\":0,\"ticks\":\"\"}}}],\"carpet\":[{\"aaxis\":{\"endlinecolor\":\"#2a3f5f\",\"gridcolor\":\"white\",\"linecolor\":\"white\",\"minorgridcolor\":\"white\",\"startlinecolor\":\"#2a3f5f\"},\"baxis\":{\"endlinecolor\":\"#2a3f5f\",\"gridcolor\":\"white\",\"linecolor\":\"white\",\"minorgridcolor\":\"white\",\"startlinecolor\":\"#2a3f5f\"},\"type\":\"carpet\"}],\"table\":[{\"cells\":{\"fill\":{\"color\":\"#EBF0F8\"},\"line\":{\"color\":\"white\"}},\"header\":{\"fill\":{\"color\":\"#C8D4E3\"},\"line\":{\"color\":\"white\"}},\"type\":\"table\"}],\"barpolar\":[{\"marker\":{\"line\":{\"color\":\"#E5ECF6\",\"width\":0.5},\"pattern\":{\"fillmode\":\"overlay\",\"size\":10,\"solidity\":0.2}},\"type\":\"barpolar\"}],\"pie\":[{\"automargin\":true,\"type\":\"pie\"}]},\"layout\":{\"autotypenumbers\":\"strict\",\"colorway\":[\"#636efa\",\"#EF553B\",\"#00cc96\",\"#ab63fa\",\"#FFA15A\",\"#19d3f3\",\"#FF6692\",\"#B6E880\",\"#FF97FF\",\"#FECB52\"],\"font\":{\"color\":\"#2a3f5f\"},\"hovermode\":\"closest\",\"hoverlabel\":{\"align\":\"left\"},\"paper_bgcolor\":\"white\",\"plot_bgcolor\":\"#E5ECF6\",\"polar\":{\"bgcolor\":\"#E5ECF6\",\"angularaxis\":{\"gridcolor\":\"white\",\"linecolor\":\"white\",\"ticks\":\"\"},\"radialaxis\":{\"gridcolor\":\"white\",\"linecolor\":\"white\",\"ticks\":\"\"}},\"ternary\":{\"bgcolor\":\"#E5ECF6\",\"aaxis\":{\"gridcolor\":\"white\",\"linecolor\":\"white\",\"ticks\":\"\"},\"baxis\":{\"gridcolor\":\"white\",\"linecolor\":\"white\",\"ticks\":\"\"},\"caxis\":{\"gridcolor\":\"white\",\"linecolor\":\"white\",\"ticks\":\"\"}},\"coloraxis\":{\"colorbar\":{\"outlinewidth\":0,\"ticks\":\"\"}},\"colorscale\":{\"sequential\":[[0.0,\"#0d0887\"],[0.1111111111111111,\"#46039f\"],[0.2222222222222222,\"#7201a8\"],[0.3333333333333333,\"#9c179e\"],[0.4444444444444444,\"#bd3786\"],[0.5555555555555556,\"#d8576b\"],[0.6666666666666666,\"#ed7953\"],[0.7777777777777778,\"#fb9f3a\"],[0.8888888888888888,\"#fdca26\"],[1.0,\"#f0f921\"]],\"sequentialminus\":[[0.0,\"#0d0887\"],[0.1111111111111111,\"#46039f\"],[0.2222222222222222,\"#7201a8\"],[0.3333333333333333,\"#9c179e\"],[0.4444444444444444,\"#bd3786\"],[0.5555555555555556,\"#d8576b\"],[0.6666666666666666,\"#ed7953\"],[0.7777777777777778,\"#fb9f3a\"],[0.8888888888888888,\"#fdca26\"],[1.0,\"#f0f921\"]],\"diverging\":[[0,\"#8e0152\"],[0.1,\"#c51b7d\"],[0.2,\"#de77ae\"],[0.3,\"#f1b6da\"],[0.4,\"#fde0ef\"],[0.5,\"#f7f7f7\"],[0.6,\"#e6f5d0\"],[0.7,\"#b8e186\"],[0.8,\"#7fbc41\"],[0.9,\"#4d9221\"],[1,\"#276419\"]]},\"xaxis\":{\"gridcolor\":\"white\",\"linecolor\":\"white\",\"ticks\":\"\",\"title\":{\"standoff\":15},\"zerolinecolor\":\"white\",\"automargin\":true,\"zerolinewidth\":2},\"yaxis\":{\"gridcolor\":\"white\",\"linecolor\":\"white\",\"ticks\":\"\",\"title\":{\"standoff\":15},\"zerolinecolor\":\"white\",\"automargin\":true,\"zerolinewidth\":2},\"scene\":{\"xaxis\":{\"backgroundcolor\":\"#E5ECF6\",\"gridcolor\":\"white\",\"linecolor\":\"white\",\"showbackground\":true,\"ticks\":\"\",\"zerolinecolor\":\"white\",\"gridwidth\":2},\"yaxis\":{\"backgroundcolor\":\"#E5ECF6\",\"gridcolor\":\"white\",\"linecolor\":\"white\",\"showbackground\":true,\"ticks\":\"\",\"zerolinecolor\":\"white\",\"gridwidth\":2},\"zaxis\":{\"backgroundcolor\":\"#E5ECF6\",\"gridcolor\":\"white\",\"linecolor\":\"white\",\"showbackground\":true,\"ticks\":\"\",\"zerolinecolor\":\"white\",\"gridwidth\":2}},\"shapedefaults\":{\"line\":{\"color\":\"#2a3f5f\"}},\"annotationdefaults\":{\"arrowcolor\":\"#2a3f5f\",\"arrowhead\":0,\"arrowwidth\":1},\"geo\":{\"bgcolor\":\"white\",\"landcolor\":\"#E5ECF6\",\"subunitcolor\":\"white\",\"showland\":true,\"showlakes\":true,\"lakecolor\":\"white\"},\"title\":{\"x\":0.05},\"mapbox\":{\"style\":\"light\"}}},\"legend\":{\"tracegroupgap\":0},\"margin\":{\"t\":60}},                        {\"responsive\": true}                    ).then(function(){\n",
       "                            \n",
       "var gd = document.getElementById('36a29464-abe0-4afb-a49c-8c11cf290ab2');\n",
       "var x = new MutationObserver(function (mutations, observer) {{\n",
       "        var display = window.getComputedStyle(gd).display;\n",
       "        if (!display || display === 'none') {{\n",
       "            console.log([gd, 'removed!']);\n",
       "            Plotly.purge(gd);\n",
       "            observer.disconnect();\n",
       "        }}\n",
       "}});\n",
       "\n",
       "// Listen for the removal of the full notebook cells\n",
       "var notebookContainer = gd.closest('#notebook-container');\n",
       "if (notebookContainer) {{\n",
       "    x.observe(notebookContainer, {childList: true});\n",
       "}}\n",
       "\n",
       "// Listen for the clearing of the current output cell\n",
       "var outputEl = gd.closest('.output');\n",
       "if (outputEl) {{\n",
       "    x.observe(outputEl, {childList: true});\n",
       "}}\n",
       "\n",
       "                        })                };                });            </script>        </div>"
      ]
     },
     "metadata": {},
     "output_type": "display_data"
    }
   ],
   "source": [
    "fig = px.pie(df,values='Month',names='DistanceGroup')\n",
    "fig.show()"
   ]
  },
  {
   "cell_type": "markdown",
   "id": "af276617",
   "metadata": {},
   "source": [
    "### SunBurst Charts..."
   ]
  },
  {
   "cell_type": "code",
   "execution_count": 119,
   "id": "6e03bf4d",
   "metadata": {},
   "outputs": [
    {
     "data": {
      "application/vnd.plotly.v1+json": {
       "config": {
        "plotlyServerURL": "https://plot.ly"
       },
       "data": [
        {
         "branchvalues": "total",
         "domain": {
          "x": [
           0,
           1
          ],
          "y": [
           0,
           1
          ]
         },
         "hovertemplate": "labels=%{label}<br>Flights=%{value}<br>parent=%{parent}<br>id=%{id}<extra></extra>",
         "ids": [
          "6/Alabama",
          "11/Alabama",
          "12/Alabama",
          "1/Alaska",
          "3/Alaska",
          "4/Alaska",
          "6/Alaska",
          "10/Alaska",
          "11/Alaska",
          "1/Arizona",
          "5/Arizona",
          "6/Arizona",
          "7/Arizona",
          "8/Arizona",
          "9/Arizona",
          "10/Arizona",
          "11/Arizona",
          "12/Arizona",
          "5/Arkansas",
          "9/Arkansas",
          "1/California",
          "2/California",
          "3/California",
          "4/California",
          "5/California",
          "6/California",
          "7/California",
          "8/California",
          "9/California",
          "10/California",
          "11/California",
          "12/California",
          "1/Colorado",
          "2/Colorado",
          "3/Colorado",
          "4/Colorado",
          "5/Colorado",
          "6/Colorado",
          "7/Colorado",
          "8/Colorado",
          "9/Colorado",
          "10/Colorado",
          "11/Colorado",
          "12/Colorado",
          "1/Connecticut",
          "3/Connecticut",
          "6/Connecticut",
          "7/Connecticut",
          "8/Connecticut",
          "1/Florida",
          "2/Florida",
          "3/Florida",
          "4/Florida",
          "5/Florida",
          "6/Florida",
          "7/Florida",
          "8/Florida",
          "9/Florida",
          "10/Florida",
          "11/Florida",
          "12/Florida",
          "1/Georgia",
          "2/Georgia",
          "3/Georgia",
          "4/Georgia",
          "5/Georgia",
          "6/Georgia",
          "7/Georgia",
          "8/Georgia",
          "9/Georgia",
          "10/Georgia",
          "11/Georgia",
          "12/Georgia",
          "1/Hawaii",
          "3/Hawaii",
          "6/Hawaii",
          "7/Hawaii",
          "8/Hawaii",
          "9/Hawaii",
          "12/Hawaii",
          "2/Idaho",
          "3/Idaho",
          "1/Illinois",
          "2/Illinois",
          "3/Illinois",
          "4/Illinois",
          "5/Illinois",
          "6/Illinois",
          "7/Illinois",
          "8/Illinois",
          "9/Illinois",
          "10/Illinois",
          "11/Illinois",
          "12/Illinois",
          "1/Indiana",
          "2/Indiana",
          "5/Indiana",
          "8/Indiana",
          "9/Indiana",
          "11/Indiana",
          "12/Indiana",
          "1/Iowa",
          "4/Iowa",
          "9/Iowa",
          "10/Kansas",
          "2/Kentucky",
          "3/Kentucky",
          "4/Kentucky",
          "5/Kentucky",
          "6/Kentucky",
          "7/Kentucky",
          "8/Kentucky",
          "9/Kentucky",
          "10/Kentucky",
          "11/Kentucky",
          "12/Kentucky",
          "1/Louisiana",
          "3/Louisiana",
          "5/Louisiana",
          "6/Louisiana",
          "9/Louisiana",
          "10/Louisiana",
          "11/Louisiana",
          "7/Maine",
          "1/Maryland",
          "5/Maryland",
          "6/Maryland",
          "7/Maryland",
          "8/Maryland",
          "11/Maryland",
          "12/Maryland",
          "1/Massachusetts",
          "3/Massachusetts",
          "4/Massachusetts",
          "6/Massachusetts",
          "7/Massachusetts",
          "8/Massachusetts",
          "9/Massachusetts",
          "10/Massachusetts",
          "11/Massachusetts",
          "12/Massachusetts",
          "1/Michigan",
          "2/Michigan",
          "3/Michigan",
          "4/Michigan",
          "5/Michigan",
          "6/Michigan",
          "7/Michigan",
          "8/Michigan",
          "9/Michigan",
          "10/Michigan",
          "11/Michigan",
          "12/Michigan",
          "1/Minnesota",
          "4/Minnesota",
          "5/Minnesota",
          "7/Minnesota",
          "8/Minnesota",
          "9/Minnesota",
          "10/Minnesota",
          "12/Minnesota",
          "6/Mississippi",
          "2/Missouri",
          "3/Missouri",
          "4/Missouri",
          "5/Missouri",
          "6/Missouri",
          "7/Missouri",
          "8/Missouri",
          "9/Missouri",
          "11/Missouri",
          "12/Missouri",
          "3/Montana",
          "6/Montana",
          "12/Montana",
          "7/Nebraska",
          "9/Nebraska",
          "11/Nebraska",
          "1/Nevada",
          "2/Nevada",
          "3/Nevada",
          "4/Nevada",
          "5/Nevada",
          "6/Nevada",
          "7/Nevada",
          "8/Nevada",
          "9/Nevada",
          "10/Nevada",
          "11/Nevada",
          "12/Nevada",
          "3/New Hampshire",
          "1/New Jersey",
          "2/New Jersey",
          "3/New Jersey",
          "4/New Jersey",
          "5/New Jersey",
          "6/New Jersey",
          "7/New Jersey",
          "8/New Jersey",
          "9/New Jersey",
          "10/New Jersey",
          "11/New Jersey",
          "12/New Jersey",
          "1/New Mexico",
          "2/New Mexico",
          "4/New Mexico",
          "5/New Mexico",
          "8/New Mexico",
          "10/New Mexico",
          "12/New Mexico",
          "1/New York",
          "2/New York",
          "3/New York",
          "4/New York",
          "5/New York",
          "6/New York",
          "7/New York",
          "8/New York",
          "9/New York",
          "10/New York",
          "11/New York",
          "12/New York",
          "2/North Carolina",
          "3/North Carolina",
          "4/North Carolina",
          "5/North Carolina",
          "6/North Carolina",
          "7/North Carolina",
          "9/North Carolina",
          "10/North Carolina",
          "11/North Carolina",
          "12/North Carolina",
          "9/North Dakota",
          "12/North Dakota",
          "2/Ohio",
          "3/Ohio",
          "4/Ohio",
          "5/Ohio",
          "6/Ohio",
          "9/Ohio",
          "10/Ohio",
          "11/Ohio",
          "12/Ohio",
          "1/Oklahoma",
          "2/Oklahoma",
          "4/Oklahoma",
          "5/Oklahoma",
          "6/Oklahoma",
          "8/Oklahoma",
          "9/Oklahoma",
          "11/Oklahoma",
          "3/Oregon",
          "4/Oregon",
          "6/Oregon",
          "8/Oregon",
          "9/Oregon",
          "10/Oregon",
          "12/Oregon",
          "1/Pennsylvania",
          "2/Pennsylvania",
          "3/Pennsylvania",
          "4/Pennsylvania",
          "5/Pennsylvania",
          "6/Pennsylvania",
          "7/Pennsylvania",
          "8/Pennsylvania",
          "9/Pennsylvania",
          "10/Pennsylvania",
          "11/Pennsylvania",
          "12/Pennsylvania",
          "2/Puerto Rico",
          "7/Puerto Rico",
          "12/Puerto Rico",
          "3/Rhode Island",
          "11/Rhode Island",
          "1/South Carolina",
          "2/South Carolina",
          "4/South Carolina",
          "8/South Carolina",
          "11/South Carolina",
          "1/Tennessee",
          "2/Tennessee",
          "3/Tennessee",
          "4/Tennessee",
          "5/Tennessee",
          "6/Tennessee",
          "7/Tennessee",
          "8/Tennessee",
          "9/Tennessee",
          "10/Tennessee",
          "11/Tennessee",
          "12/Tennessee",
          "1/Texas",
          "2/Texas",
          "3/Texas",
          "4/Texas",
          "5/Texas",
          "6/Texas",
          "7/Texas",
          "8/Texas",
          "9/Texas",
          "10/Texas",
          "11/Texas",
          "12/Texas",
          "5/U.S. Virgin Islands",
          "8/U.S. Virgin Islands",
          "12/U.S. Virgin Islands",
          "1/Utah",
          "2/Utah",
          "3/Utah",
          "5/Utah",
          "6/Utah",
          "7/Utah",
          "9/Utah",
          "11/Utah",
          "2/Virginia",
          "3/Virginia",
          "4/Virginia",
          "6/Virginia",
          "8/Virginia",
          "9/Virginia",
          "10/Virginia",
          "11/Virginia",
          "12/Virginia",
          "1/Washington",
          "2/Washington",
          "3/Washington",
          "4/Washington",
          "5/Washington",
          "6/Washington",
          "7/Washington",
          "8/Washington",
          "9/Washington",
          "11/Washington",
          "12/Washington",
          "1/Wisconsin",
          "2/Wisconsin",
          "3/Wisconsin",
          "5/Wisconsin",
          "7/Wisconsin",
          "8/Wisconsin",
          "10/Wisconsin",
          "11/Wisconsin",
          "12/Wisconsin",
          "1",
          "2",
          "3",
          "4",
          "5",
          "6",
          "7",
          "8",
          "9",
          "10",
          "11",
          "12"
         ],
         "labels": [
          "Alabama",
          "Alabama",
          "Alabama",
          "Alaska",
          "Alaska",
          "Alaska",
          "Alaska",
          "Alaska",
          "Alaska",
          "Arizona",
          "Arizona",
          "Arizona",
          "Arizona",
          "Arizona",
          "Arizona",
          "Arizona",
          "Arizona",
          "Arizona",
          "Arkansas",
          "Arkansas",
          "California",
          "California",
          "California",
          "California",
          "California",
          "California",
          "California",
          "California",
          "California",
          "California",
          "California",
          "California",
          "Colorado",
          "Colorado",
          "Colorado",
          "Colorado",
          "Colorado",
          "Colorado",
          "Colorado",
          "Colorado",
          "Colorado",
          "Colorado",
          "Colorado",
          "Colorado",
          "Connecticut",
          "Connecticut",
          "Connecticut",
          "Connecticut",
          "Connecticut",
          "Florida",
          "Florida",
          "Florida",
          "Florida",
          "Florida",
          "Florida",
          "Florida",
          "Florida",
          "Florida",
          "Florida",
          "Florida",
          "Florida",
          "Georgia",
          "Georgia",
          "Georgia",
          "Georgia",
          "Georgia",
          "Georgia",
          "Georgia",
          "Georgia",
          "Georgia",
          "Georgia",
          "Georgia",
          "Georgia",
          "Hawaii",
          "Hawaii",
          "Hawaii",
          "Hawaii",
          "Hawaii",
          "Hawaii",
          "Hawaii",
          "Idaho",
          "Idaho",
          "Illinois",
          "Illinois",
          "Illinois",
          "Illinois",
          "Illinois",
          "Illinois",
          "Illinois",
          "Illinois",
          "Illinois",
          "Illinois",
          "Illinois",
          "Illinois",
          "Indiana",
          "Indiana",
          "Indiana",
          "Indiana",
          "Indiana",
          "Indiana",
          "Indiana",
          "Iowa",
          "Iowa",
          "Iowa",
          "Kansas",
          "Kentucky",
          "Kentucky",
          "Kentucky",
          "Kentucky",
          "Kentucky",
          "Kentucky",
          "Kentucky",
          "Kentucky",
          "Kentucky",
          "Kentucky",
          "Kentucky",
          "Louisiana",
          "Louisiana",
          "Louisiana",
          "Louisiana",
          "Louisiana",
          "Louisiana",
          "Louisiana",
          "Maine",
          "Maryland",
          "Maryland",
          "Maryland",
          "Maryland",
          "Maryland",
          "Maryland",
          "Maryland",
          "Massachusetts",
          "Massachusetts",
          "Massachusetts",
          "Massachusetts",
          "Massachusetts",
          "Massachusetts",
          "Massachusetts",
          "Massachusetts",
          "Massachusetts",
          "Massachusetts",
          "Michigan",
          "Michigan",
          "Michigan",
          "Michigan",
          "Michigan",
          "Michigan",
          "Michigan",
          "Michigan",
          "Michigan",
          "Michigan",
          "Michigan",
          "Michigan",
          "Minnesota",
          "Minnesota",
          "Minnesota",
          "Minnesota",
          "Minnesota",
          "Minnesota",
          "Minnesota",
          "Minnesota",
          "Mississippi",
          "Missouri",
          "Missouri",
          "Missouri",
          "Missouri",
          "Missouri",
          "Missouri",
          "Missouri",
          "Missouri",
          "Missouri",
          "Missouri",
          "Montana",
          "Montana",
          "Montana",
          "Nebraska",
          "Nebraska",
          "Nebraska",
          "Nevada",
          "Nevada",
          "Nevada",
          "Nevada",
          "Nevada",
          "Nevada",
          "Nevada",
          "Nevada",
          "Nevada",
          "Nevada",
          "Nevada",
          "Nevada",
          "New Hampshire",
          "New Jersey",
          "New Jersey",
          "New Jersey",
          "New Jersey",
          "New Jersey",
          "New Jersey",
          "New Jersey",
          "New Jersey",
          "New Jersey",
          "New Jersey",
          "New Jersey",
          "New Jersey",
          "New Mexico",
          "New Mexico",
          "New Mexico",
          "New Mexico",
          "New Mexico",
          "New Mexico",
          "New Mexico",
          "New York",
          "New York",
          "New York",
          "New York",
          "New York",
          "New York",
          "New York",
          "New York",
          "New York",
          "New York",
          "New York",
          "New York",
          "North Carolina",
          "North Carolina",
          "North Carolina",
          "North Carolina",
          "North Carolina",
          "North Carolina",
          "North Carolina",
          "North Carolina",
          "North Carolina",
          "North Carolina",
          "North Dakota",
          "North Dakota",
          "Ohio",
          "Ohio",
          "Ohio",
          "Ohio",
          "Ohio",
          "Ohio",
          "Ohio",
          "Ohio",
          "Ohio",
          "Oklahoma",
          "Oklahoma",
          "Oklahoma",
          "Oklahoma",
          "Oklahoma",
          "Oklahoma",
          "Oklahoma",
          "Oklahoma",
          "Oregon",
          "Oregon",
          "Oregon",
          "Oregon",
          "Oregon",
          "Oregon",
          "Oregon",
          "Pennsylvania",
          "Pennsylvania",
          "Pennsylvania",
          "Pennsylvania",
          "Pennsylvania",
          "Pennsylvania",
          "Pennsylvania",
          "Pennsylvania",
          "Pennsylvania",
          "Pennsylvania",
          "Pennsylvania",
          "Pennsylvania",
          "Puerto Rico",
          "Puerto Rico",
          "Puerto Rico",
          "Rhode Island",
          "Rhode Island",
          "South Carolina",
          "South Carolina",
          "South Carolina",
          "South Carolina",
          "South Carolina",
          "Tennessee",
          "Tennessee",
          "Tennessee",
          "Tennessee",
          "Tennessee",
          "Tennessee",
          "Tennessee",
          "Tennessee",
          "Tennessee",
          "Tennessee",
          "Tennessee",
          "Tennessee",
          "Texas",
          "Texas",
          "Texas",
          "Texas",
          "Texas",
          "Texas",
          "Texas",
          "Texas",
          "Texas",
          "Texas",
          "Texas",
          "Texas",
          "U.S. Virgin Islands",
          "U.S. Virgin Islands",
          "U.S. Virgin Islands",
          "Utah",
          "Utah",
          "Utah",
          "Utah",
          "Utah",
          "Utah",
          "Utah",
          "Utah",
          "Virginia",
          "Virginia",
          "Virginia",
          "Virginia",
          "Virginia",
          "Virginia",
          "Virginia",
          "Virginia",
          "Virginia",
          "Washington",
          "Washington",
          "Washington",
          "Washington",
          "Washington",
          "Washington",
          "Washington",
          "Washington",
          "Washington",
          "Washington",
          "Washington",
          "Wisconsin",
          "Wisconsin",
          "Wisconsin",
          "Wisconsin",
          "Wisconsin",
          "Wisconsin",
          "Wisconsin",
          "Wisconsin",
          "Wisconsin",
          "1",
          "2",
          "3",
          "4",
          "5",
          "6",
          "7",
          "8",
          "9",
          "10",
          "11",
          "12"
         ],
         "name": "",
         "parents": [
          "6",
          "11",
          "12",
          "1",
          "3",
          "4",
          "6",
          "10",
          "11",
          "1",
          "5",
          "6",
          "7",
          "8",
          "9",
          "10",
          "11",
          "12",
          "5",
          "9",
          "1",
          "2",
          "3",
          "4",
          "5",
          "6",
          "7",
          "8",
          "9",
          "10",
          "11",
          "12",
          "1",
          "2",
          "3",
          "4",
          "5",
          "6",
          "7",
          "8",
          "9",
          "10",
          "11",
          "12",
          "1",
          "3",
          "6",
          "7",
          "8",
          "1",
          "2",
          "3",
          "4",
          "5",
          "6",
          "7",
          "8",
          "9",
          "10",
          "11",
          "12",
          "1",
          "2",
          "3",
          "4",
          "5",
          "6",
          "7",
          "8",
          "9",
          "10",
          "11",
          "12",
          "1",
          "3",
          "6",
          "7",
          "8",
          "9",
          "12",
          "2",
          "3",
          "1",
          "2",
          "3",
          "4",
          "5",
          "6",
          "7",
          "8",
          "9",
          "10",
          "11",
          "12",
          "1",
          "2",
          "5",
          "8",
          "9",
          "11",
          "12",
          "1",
          "4",
          "9",
          "10",
          "2",
          "3",
          "4",
          "5",
          "6",
          "7",
          "8",
          "9",
          "10",
          "11",
          "12",
          "1",
          "3",
          "5",
          "6",
          "9",
          "10",
          "11",
          "7",
          "1",
          "5",
          "6",
          "7",
          "8",
          "11",
          "12",
          "1",
          "3",
          "4",
          "6",
          "7",
          "8",
          "9",
          "10",
          "11",
          "12",
          "1",
          "2",
          "3",
          "4",
          "5",
          "6",
          "7",
          "8",
          "9",
          "10",
          "11",
          "12",
          "1",
          "4",
          "5",
          "7",
          "8",
          "9",
          "10",
          "12",
          "6",
          "2",
          "3",
          "4",
          "5",
          "6",
          "7",
          "8",
          "9",
          "11",
          "12",
          "3",
          "6",
          "12",
          "7",
          "9",
          "11",
          "1",
          "2",
          "3",
          "4",
          "5",
          "6",
          "7",
          "8",
          "9",
          "10",
          "11",
          "12",
          "3",
          "1",
          "2",
          "3",
          "4",
          "5",
          "6",
          "7",
          "8",
          "9",
          "10",
          "11",
          "12",
          "1",
          "2",
          "4",
          "5",
          "8",
          "10",
          "12",
          "1",
          "2",
          "3",
          "4",
          "5",
          "6",
          "7",
          "8",
          "9",
          "10",
          "11",
          "12",
          "2",
          "3",
          "4",
          "5",
          "6",
          "7",
          "9",
          "10",
          "11",
          "12",
          "9",
          "12",
          "2",
          "3",
          "4",
          "5",
          "6",
          "9",
          "10",
          "11",
          "12",
          "1",
          "2",
          "4",
          "5",
          "6",
          "8",
          "9",
          "11",
          "3",
          "4",
          "6",
          "8",
          "9",
          "10",
          "12",
          "1",
          "2",
          "3",
          "4",
          "5",
          "6",
          "7",
          "8",
          "9",
          "10",
          "11",
          "12",
          "2",
          "7",
          "12",
          "3",
          "11",
          "1",
          "2",
          "4",
          "8",
          "11",
          "1",
          "2",
          "3",
          "4",
          "5",
          "6",
          "7",
          "8",
          "9",
          "10",
          "11",
          "12",
          "1",
          "2",
          "3",
          "4",
          "5",
          "6",
          "7",
          "8",
          "9",
          "10",
          "11",
          "12",
          "5",
          "8",
          "12",
          "1",
          "2",
          "3",
          "5",
          "6",
          "7",
          "9",
          "11",
          "2",
          "3",
          "4",
          "6",
          "8",
          "9",
          "10",
          "11",
          "12",
          "1",
          "2",
          "3",
          "4",
          "5",
          "6",
          "7",
          "8",
          "9",
          "11",
          "12",
          "1",
          "2",
          "3",
          "5",
          "7",
          "8",
          "10",
          "11",
          "12",
          "",
          "",
          "",
          "",
          "",
          "",
          "",
          "",
          "",
          "",
          "",
          ""
         ],
         "type": "sunburst",
         "values": [
          1,
          2,
          2,
          1,
          1,
          1,
          1,
          1,
          1,
          3,
          2,
          2,
          2,
          4,
          1,
          1,
          2,
          3,
          1,
          1,
          9,
          10,
          11,
          17,
          12,
          6,
          11,
          12,
          10,
          6,
          8,
          10,
          2,
          3,
          3,
          1,
          2,
          3,
          5,
          5,
          2,
          1,
          4,
          3,
          1,
          1,
          1,
          2,
          1,
          7,
          5,
          5,
          10,
          3,
          2,
          11,
          5,
          6,
          8,
          5,
          8,
          2,
          2,
          8,
          3,
          4,
          4,
          9,
          6,
          5,
          3,
          3,
          8,
          1,
          2,
          1,
          2,
          2,
          2,
          1,
          1,
          1,
          7,
          4,
          5,
          7,
          6,
          4,
          6,
          6,
          6,
          7,
          7,
          2,
          2,
          2,
          3,
          1,
          2,
          2,
          1,
          1,
          2,
          2,
          1,
          2,
          5,
          3,
          1,
          3,
          4,
          1,
          1,
          2,
          1,
          2,
          1,
          1,
          1,
          2,
          1,
          1,
          2,
          1,
          1,
          1,
          3,
          2,
          1,
          1,
          3,
          4,
          1,
          1,
          1,
          2,
          2,
          1,
          1,
          1,
          5,
          1,
          2,
          4,
          4,
          1,
          3,
          2,
          1,
          2,
          2,
          3,
          6,
          1,
          3,
          3,
          2,
          2,
          1,
          2,
          3,
          1,
          1,
          2,
          4,
          4,
          1,
          3,
          3,
          3,
          3,
          3,
          2,
          1,
          2,
          1,
          1,
          1,
          1,
          1,
          3,
          2,
          1,
          2,
          2,
          3,
          3,
          1,
          3,
          1,
          1,
          2,
          2,
          1,
          2,
          2,
          1,
          4,
          1,
          1,
          3,
          2,
          1,
          1,
          3,
          1,
          2,
          1,
          1,
          1,
          4,
          2,
          3,
          2,
          5,
          3,
          3,
          7,
          3,
          3,
          2,
          5,
          5,
          2,
          1,
          2,
          3,
          2,
          7,
          4,
          5,
          4,
          1,
          1,
          1,
          1,
          4,
          6,
          2,
          2,
          3,
          1,
          1,
          1,
          1,
          2,
          1,
          1,
          2,
          2,
          1,
          1,
          1,
          1,
          3,
          1,
          2,
          1,
          6,
          1,
          1,
          3,
          6,
          1,
          3,
          2,
          3,
          3,
          2,
          3,
          2,
          1,
          1,
          1,
          1,
          2,
          1,
          1,
          1,
          1,
          2,
          1,
          1,
          1,
          3,
          2,
          2,
          3,
          2,
          4,
          3,
          1,
          8,
          9,
          10,
          13,
          8,
          9,
          7,
          9,
          7,
          7,
          11,
          13,
          1,
          1,
          1,
          2,
          2,
          1,
          2,
          2,
          1,
          1,
          1,
          2,
          1,
          2,
          2,
          3,
          3,
          2,
          3,
          3,
          1,
          1,
          1,
          3,
          1,
          3,
          1,
          2,
          1,
          1,
          1,
          1,
          2,
          1,
          2,
          2,
          1,
          2,
          1,
          1,
          75,
          68,
          81,
          94,
          86,
          72,
          93,
          91,
          84,
          71,
          84,
          101
         ]
        }
       ],
       "layout": {
        "legend": {
         "tracegroupgap": 0
        },
        "margin": {
         "t": 60
        },
        "template": {
         "data": {
          "bar": [
           {
            "error_x": {
             "color": "#2a3f5f"
            },
            "error_y": {
             "color": "#2a3f5f"
            },
            "marker": {
             "line": {
              "color": "#E5ECF6",
              "width": 0.5
             },
             "pattern": {
              "fillmode": "overlay",
              "size": 10,
              "solidity": 0.2
             }
            },
            "type": "bar"
           }
          ],
          "barpolar": [
           {
            "marker": {
             "line": {
              "color": "#E5ECF6",
              "width": 0.5
             },
             "pattern": {
              "fillmode": "overlay",
              "size": 10,
              "solidity": 0.2
             }
            },
            "type": "barpolar"
           }
          ],
          "carpet": [
           {
            "aaxis": {
             "endlinecolor": "#2a3f5f",
             "gridcolor": "white",
             "linecolor": "white",
             "minorgridcolor": "white",
             "startlinecolor": "#2a3f5f"
            },
            "baxis": {
             "endlinecolor": "#2a3f5f",
             "gridcolor": "white",
             "linecolor": "white",
             "minorgridcolor": "white",
             "startlinecolor": "#2a3f5f"
            },
            "type": "carpet"
           }
          ],
          "choropleth": [
           {
            "colorbar": {
             "outlinewidth": 0,
             "ticks": ""
            },
            "type": "choropleth"
           }
          ],
          "contour": [
           {
            "colorbar": {
             "outlinewidth": 0,
             "ticks": ""
            },
            "colorscale": [
             [
              0,
              "#0d0887"
             ],
             [
              0.1111111111111111,
              "#46039f"
             ],
             [
              0.2222222222222222,
              "#7201a8"
             ],
             [
              0.3333333333333333,
              "#9c179e"
             ],
             [
              0.4444444444444444,
              "#bd3786"
             ],
             [
              0.5555555555555556,
              "#d8576b"
             ],
             [
              0.6666666666666666,
              "#ed7953"
             ],
             [
              0.7777777777777778,
              "#fb9f3a"
             ],
             [
              0.8888888888888888,
              "#fdca26"
             ],
             [
              1,
              "#f0f921"
             ]
            ],
            "type": "contour"
           }
          ],
          "contourcarpet": [
           {
            "colorbar": {
             "outlinewidth": 0,
             "ticks": ""
            },
            "type": "contourcarpet"
           }
          ],
          "heatmap": [
           {
            "colorbar": {
             "outlinewidth": 0,
             "ticks": ""
            },
            "colorscale": [
             [
              0,
              "#0d0887"
             ],
             [
              0.1111111111111111,
              "#46039f"
             ],
             [
              0.2222222222222222,
              "#7201a8"
             ],
             [
              0.3333333333333333,
              "#9c179e"
             ],
             [
              0.4444444444444444,
              "#bd3786"
             ],
             [
              0.5555555555555556,
              "#d8576b"
             ],
             [
              0.6666666666666666,
              "#ed7953"
             ],
             [
              0.7777777777777778,
              "#fb9f3a"
             ],
             [
              0.8888888888888888,
              "#fdca26"
             ],
             [
              1,
              "#f0f921"
             ]
            ],
            "type": "heatmap"
           }
          ],
          "heatmapgl": [
           {
            "colorbar": {
             "outlinewidth": 0,
             "ticks": ""
            },
            "colorscale": [
             [
              0,
              "#0d0887"
             ],
             [
              0.1111111111111111,
              "#46039f"
             ],
             [
              0.2222222222222222,
              "#7201a8"
             ],
             [
              0.3333333333333333,
              "#9c179e"
             ],
             [
              0.4444444444444444,
              "#bd3786"
             ],
             [
              0.5555555555555556,
              "#d8576b"
             ],
             [
              0.6666666666666666,
              "#ed7953"
             ],
             [
              0.7777777777777778,
              "#fb9f3a"
             ],
             [
              0.8888888888888888,
              "#fdca26"
             ],
             [
              1,
              "#f0f921"
             ]
            ],
            "type": "heatmapgl"
           }
          ],
          "histogram": [
           {
            "marker": {
             "pattern": {
              "fillmode": "overlay",
              "size": 10,
              "solidity": 0.2
             }
            },
            "type": "histogram"
           }
          ],
          "histogram2d": [
           {
            "colorbar": {
             "outlinewidth": 0,
             "ticks": ""
            },
            "colorscale": [
             [
              0,
              "#0d0887"
             ],
             [
              0.1111111111111111,
              "#46039f"
             ],
             [
              0.2222222222222222,
              "#7201a8"
             ],
             [
              0.3333333333333333,
              "#9c179e"
             ],
             [
              0.4444444444444444,
              "#bd3786"
             ],
             [
              0.5555555555555556,
              "#d8576b"
             ],
             [
              0.6666666666666666,
              "#ed7953"
             ],
             [
              0.7777777777777778,
              "#fb9f3a"
             ],
             [
              0.8888888888888888,
              "#fdca26"
             ],
             [
              1,
              "#f0f921"
             ]
            ],
            "type": "histogram2d"
           }
          ],
          "histogram2dcontour": [
           {
            "colorbar": {
             "outlinewidth": 0,
             "ticks": ""
            },
            "colorscale": [
             [
              0,
              "#0d0887"
             ],
             [
              0.1111111111111111,
              "#46039f"
             ],
             [
              0.2222222222222222,
              "#7201a8"
             ],
             [
              0.3333333333333333,
              "#9c179e"
             ],
             [
              0.4444444444444444,
              "#bd3786"
             ],
             [
              0.5555555555555556,
              "#d8576b"
             ],
             [
              0.6666666666666666,
              "#ed7953"
             ],
             [
              0.7777777777777778,
              "#fb9f3a"
             ],
             [
              0.8888888888888888,
              "#fdca26"
             ],
             [
              1,
              "#f0f921"
             ]
            ],
            "type": "histogram2dcontour"
           }
          ],
          "mesh3d": [
           {
            "colorbar": {
             "outlinewidth": 0,
             "ticks": ""
            },
            "type": "mesh3d"
           }
          ],
          "parcoords": [
           {
            "line": {
             "colorbar": {
              "outlinewidth": 0,
              "ticks": ""
             }
            },
            "type": "parcoords"
           }
          ],
          "pie": [
           {
            "automargin": true,
            "type": "pie"
           }
          ],
          "scatter": [
           {
            "fillpattern": {
             "fillmode": "overlay",
             "size": 10,
             "solidity": 0.2
            },
            "type": "scatter"
           }
          ],
          "scatter3d": [
           {
            "line": {
             "colorbar": {
              "outlinewidth": 0,
              "ticks": ""
             }
            },
            "marker": {
             "colorbar": {
              "outlinewidth": 0,
              "ticks": ""
             }
            },
            "type": "scatter3d"
           }
          ],
          "scattercarpet": [
           {
            "marker": {
             "colorbar": {
              "outlinewidth": 0,
              "ticks": ""
             }
            },
            "type": "scattercarpet"
           }
          ],
          "scattergeo": [
           {
            "marker": {
             "colorbar": {
              "outlinewidth": 0,
              "ticks": ""
             }
            },
            "type": "scattergeo"
           }
          ],
          "scattergl": [
           {
            "marker": {
             "colorbar": {
              "outlinewidth": 0,
              "ticks": ""
             }
            },
            "type": "scattergl"
           }
          ],
          "scattermapbox": [
           {
            "marker": {
             "colorbar": {
              "outlinewidth": 0,
              "ticks": ""
             }
            },
            "type": "scattermapbox"
           }
          ],
          "scatterpolar": [
           {
            "marker": {
             "colorbar": {
              "outlinewidth": 0,
              "ticks": ""
             }
            },
            "type": "scatterpolar"
           }
          ],
          "scatterpolargl": [
           {
            "marker": {
             "colorbar": {
              "outlinewidth": 0,
              "ticks": ""
             }
            },
            "type": "scatterpolargl"
           }
          ],
          "scatterternary": [
           {
            "marker": {
             "colorbar": {
              "outlinewidth": 0,
              "ticks": ""
             }
            },
            "type": "scatterternary"
           }
          ],
          "surface": [
           {
            "colorbar": {
             "outlinewidth": 0,
             "ticks": ""
            },
            "colorscale": [
             [
              0,
              "#0d0887"
             ],
             [
              0.1111111111111111,
              "#46039f"
             ],
             [
              0.2222222222222222,
              "#7201a8"
             ],
             [
              0.3333333333333333,
              "#9c179e"
             ],
             [
              0.4444444444444444,
              "#bd3786"
             ],
             [
              0.5555555555555556,
              "#d8576b"
             ],
             [
              0.6666666666666666,
              "#ed7953"
             ],
             [
              0.7777777777777778,
              "#fb9f3a"
             ],
             [
              0.8888888888888888,
              "#fdca26"
             ],
             [
              1,
              "#f0f921"
             ]
            ],
            "type": "surface"
           }
          ],
          "table": [
           {
            "cells": {
             "fill": {
              "color": "#EBF0F8"
             },
             "line": {
              "color": "white"
             }
            },
            "header": {
             "fill": {
              "color": "#C8D4E3"
             },
             "line": {
              "color": "white"
             }
            },
            "type": "table"
           }
          ]
         },
         "layout": {
          "annotationdefaults": {
           "arrowcolor": "#2a3f5f",
           "arrowhead": 0,
           "arrowwidth": 1
          },
          "autotypenumbers": "strict",
          "coloraxis": {
           "colorbar": {
            "outlinewidth": 0,
            "ticks": ""
           }
          },
          "colorscale": {
           "diverging": [
            [
             0,
             "#8e0152"
            ],
            [
             0.1,
             "#c51b7d"
            ],
            [
             0.2,
             "#de77ae"
            ],
            [
             0.3,
             "#f1b6da"
            ],
            [
             0.4,
             "#fde0ef"
            ],
            [
             0.5,
             "#f7f7f7"
            ],
            [
             0.6,
             "#e6f5d0"
            ],
            [
             0.7,
             "#b8e186"
            ],
            [
             0.8,
             "#7fbc41"
            ],
            [
             0.9,
             "#4d9221"
            ],
            [
             1,
             "#276419"
            ]
           ],
           "sequential": [
            [
             0,
             "#0d0887"
            ],
            [
             0.1111111111111111,
             "#46039f"
            ],
            [
             0.2222222222222222,
             "#7201a8"
            ],
            [
             0.3333333333333333,
             "#9c179e"
            ],
            [
             0.4444444444444444,
             "#bd3786"
            ],
            [
             0.5555555555555556,
             "#d8576b"
            ],
            [
             0.6666666666666666,
             "#ed7953"
            ],
            [
             0.7777777777777778,
             "#fb9f3a"
            ],
            [
             0.8888888888888888,
             "#fdca26"
            ],
            [
             1,
             "#f0f921"
            ]
           ],
           "sequentialminus": [
            [
             0,
             "#0d0887"
            ],
            [
             0.1111111111111111,
             "#46039f"
            ],
            [
             0.2222222222222222,
             "#7201a8"
            ],
            [
             0.3333333333333333,
             "#9c179e"
            ],
            [
             0.4444444444444444,
             "#bd3786"
            ],
            [
             0.5555555555555556,
             "#d8576b"
            ],
            [
             0.6666666666666666,
             "#ed7953"
            ],
            [
             0.7777777777777778,
             "#fb9f3a"
            ],
            [
             0.8888888888888888,
             "#fdca26"
            ],
            [
             1,
             "#f0f921"
            ]
           ]
          },
          "colorway": [
           "#636efa",
           "#EF553B",
           "#00cc96",
           "#ab63fa",
           "#FFA15A",
           "#19d3f3",
           "#FF6692",
           "#B6E880",
           "#FF97FF",
           "#FECB52"
          ],
          "font": {
           "color": "#2a3f5f"
          },
          "geo": {
           "bgcolor": "white",
           "lakecolor": "white",
           "landcolor": "#E5ECF6",
           "showlakes": true,
           "showland": true,
           "subunitcolor": "white"
          },
          "hoverlabel": {
           "align": "left"
          },
          "hovermode": "closest",
          "mapbox": {
           "style": "light"
          },
          "paper_bgcolor": "white",
          "plot_bgcolor": "#E5ECF6",
          "polar": {
           "angularaxis": {
            "gridcolor": "white",
            "linecolor": "white",
            "ticks": ""
           },
           "bgcolor": "#E5ECF6",
           "radialaxis": {
            "gridcolor": "white",
            "linecolor": "white",
            "ticks": ""
           }
          },
          "scene": {
           "xaxis": {
            "backgroundcolor": "#E5ECF6",
            "gridcolor": "white",
            "gridwidth": 2,
            "linecolor": "white",
            "showbackground": true,
            "ticks": "",
            "zerolinecolor": "white"
           },
           "yaxis": {
            "backgroundcolor": "#E5ECF6",
            "gridcolor": "white",
            "gridwidth": 2,
            "linecolor": "white",
            "showbackground": true,
            "ticks": "",
            "zerolinecolor": "white"
           },
           "zaxis": {
            "backgroundcolor": "#E5ECF6",
            "gridcolor": "white",
            "gridwidth": 2,
            "linecolor": "white",
            "showbackground": true,
            "ticks": "",
            "zerolinecolor": "white"
           }
          },
          "shapedefaults": {
           "line": {
            "color": "#2a3f5f"
           }
          },
          "ternary": {
           "aaxis": {
            "gridcolor": "white",
            "linecolor": "white",
            "ticks": ""
           },
           "baxis": {
            "gridcolor": "white",
            "linecolor": "white",
            "ticks": ""
           },
           "bgcolor": "#E5ECF6",
           "caxis": {
            "gridcolor": "white",
            "linecolor": "white",
            "ticks": ""
           }
          },
          "title": {
           "x": 0.05
          },
          "xaxis": {
           "automargin": true,
           "gridcolor": "white",
           "linecolor": "white",
           "ticks": "",
           "title": {
            "standoff": 15
           },
           "zerolinecolor": "white",
           "zerolinewidth": 2
          },
          "yaxis": {
           "automargin": true,
           "gridcolor": "white",
           "linecolor": "white",
           "ticks": "",
           "title": {
            "standoff": 15
           },
           "zerolinecolor": "white",
           "zerolinewidth": 2
          }
         }
        }
       }
      },
      "text/html": [
       "<div>                            <div id=\"66f7af54-a584-4f71-87dc-b94305387e4e\" class=\"plotly-graph-div\" style=\"height:525px; width:100%;\"></div>            <script type=\"text/javascript\">                require([\"plotly\"], function(Plotly) {                    window.PLOTLYENV=window.PLOTLYENV || {};                                    if (document.getElementById(\"66f7af54-a584-4f71-87dc-b94305387e4e\")) {                    Plotly.newPlot(                        \"66f7af54-a584-4f71-87dc-b94305387e4e\",                        [{\"branchvalues\":\"total\",\"domain\":{\"x\":[0.0,1.0],\"y\":[0.0,1.0]},\"hovertemplate\":\"labels=%{label}<br>Flights=%{value}<br>parent=%{parent}<br>id=%{id}<extra></extra>\",\"ids\":[\"6/Alabama\",\"11/Alabama\",\"12/Alabama\",\"1/Alaska\",\"3/Alaska\",\"4/Alaska\",\"6/Alaska\",\"10/Alaska\",\"11/Alaska\",\"1/Arizona\",\"5/Arizona\",\"6/Arizona\",\"7/Arizona\",\"8/Arizona\",\"9/Arizona\",\"10/Arizona\",\"11/Arizona\",\"12/Arizona\",\"5/Arkansas\",\"9/Arkansas\",\"1/California\",\"2/California\",\"3/California\",\"4/California\",\"5/California\",\"6/California\",\"7/California\",\"8/California\",\"9/California\",\"10/California\",\"11/California\",\"12/California\",\"1/Colorado\",\"2/Colorado\",\"3/Colorado\",\"4/Colorado\",\"5/Colorado\",\"6/Colorado\",\"7/Colorado\",\"8/Colorado\",\"9/Colorado\",\"10/Colorado\",\"11/Colorado\",\"12/Colorado\",\"1/Connecticut\",\"3/Connecticut\",\"6/Connecticut\",\"7/Connecticut\",\"8/Connecticut\",\"1/Florida\",\"2/Florida\",\"3/Florida\",\"4/Florida\",\"5/Florida\",\"6/Florida\",\"7/Florida\",\"8/Florida\",\"9/Florida\",\"10/Florida\",\"11/Florida\",\"12/Florida\",\"1/Georgia\",\"2/Georgia\",\"3/Georgia\",\"4/Georgia\",\"5/Georgia\",\"6/Georgia\",\"7/Georgia\",\"8/Georgia\",\"9/Georgia\",\"10/Georgia\",\"11/Georgia\",\"12/Georgia\",\"1/Hawaii\",\"3/Hawaii\",\"6/Hawaii\",\"7/Hawaii\",\"8/Hawaii\",\"9/Hawaii\",\"12/Hawaii\",\"2/Idaho\",\"3/Idaho\",\"1/Illinois\",\"2/Illinois\",\"3/Illinois\",\"4/Illinois\",\"5/Illinois\",\"6/Illinois\",\"7/Illinois\",\"8/Illinois\",\"9/Illinois\",\"10/Illinois\",\"11/Illinois\",\"12/Illinois\",\"1/Indiana\",\"2/Indiana\",\"5/Indiana\",\"8/Indiana\",\"9/Indiana\",\"11/Indiana\",\"12/Indiana\",\"1/Iowa\",\"4/Iowa\",\"9/Iowa\",\"10/Kansas\",\"2/Kentucky\",\"3/Kentucky\",\"4/Kentucky\",\"5/Kentucky\",\"6/Kentucky\",\"7/Kentucky\",\"8/Kentucky\",\"9/Kentucky\",\"10/Kentucky\",\"11/Kentucky\",\"12/Kentucky\",\"1/Louisiana\",\"3/Louisiana\",\"5/Louisiana\",\"6/Louisiana\",\"9/Louisiana\",\"10/Louisiana\",\"11/Louisiana\",\"7/Maine\",\"1/Maryland\",\"5/Maryland\",\"6/Maryland\",\"7/Maryland\",\"8/Maryland\",\"11/Maryland\",\"12/Maryland\",\"1/Massachusetts\",\"3/Massachusetts\",\"4/Massachusetts\",\"6/Massachusetts\",\"7/Massachusetts\",\"8/Massachusetts\",\"9/Massachusetts\",\"10/Massachusetts\",\"11/Massachusetts\",\"12/Massachusetts\",\"1/Michigan\",\"2/Michigan\",\"3/Michigan\",\"4/Michigan\",\"5/Michigan\",\"6/Michigan\",\"7/Michigan\",\"8/Michigan\",\"9/Michigan\",\"10/Michigan\",\"11/Michigan\",\"12/Michigan\",\"1/Minnesota\",\"4/Minnesota\",\"5/Minnesota\",\"7/Minnesota\",\"8/Minnesota\",\"9/Minnesota\",\"10/Minnesota\",\"12/Minnesota\",\"6/Mississippi\",\"2/Missouri\",\"3/Missouri\",\"4/Missouri\",\"5/Missouri\",\"6/Missouri\",\"7/Missouri\",\"8/Missouri\",\"9/Missouri\",\"11/Missouri\",\"12/Missouri\",\"3/Montana\",\"6/Montana\",\"12/Montana\",\"7/Nebraska\",\"9/Nebraska\",\"11/Nebraska\",\"1/Nevada\",\"2/Nevada\",\"3/Nevada\",\"4/Nevada\",\"5/Nevada\",\"6/Nevada\",\"7/Nevada\",\"8/Nevada\",\"9/Nevada\",\"10/Nevada\",\"11/Nevada\",\"12/Nevada\",\"3/New Hampshire\",\"1/New Jersey\",\"2/New Jersey\",\"3/New Jersey\",\"4/New Jersey\",\"5/New Jersey\",\"6/New Jersey\",\"7/New Jersey\",\"8/New Jersey\",\"9/New Jersey\",\"10/New Jersey\",\"11/New Jersey\",\"12/New Jersey\",\"1/New Mexico\",\"2/New Mexico\",\"4/New Mexico\",\"5/New Mexico\",\"8/New Mexico\",\"10/New Mexico\",\"12/New Mexico\",\"1/New York\",\"2/New York\",\"3/New York\",\"4/New York\",\"5/New York\",\"6/New York\",\"7/New York\",\"8/New York\",\"9/New York\",\"10/New York\",\"11/New York\",\"12/New York\",\"2/North Carolina\",\"3/North Carolina\",\"4/North Carolina\",\"5/North Carolina\",\"6/North Carolina\",\"7/North Carolina\",\"9/North Carolina\",\"10/North Carolina\",\"11/North Carolina\",\"12/North Carolina\",\"9/North Dakota\",\"12/North Dakota\",\"2/Ohio\",\"3/Ohio\",\"4/Ohio\",\"5/Ohio\",\"6/Ohio\",\"9/Ohio\",\"10/Ohio\",\"11/Ohio\",\"12/Ohio\",\"1/Oklahoma\",\"2/Oklahoma\",\"4/Oklahoma\",\"5/Oklahoma\",\"6/Oklahoma\",\"8/Oklahoma\",\"9/Oklahoma\",\"11/Oklahoma\",\"3/Oregon\",\"4/Oregon\",\"6/Oregon\",\"8/Oregon\",\"9/Oregon\",\"10/Oregon\",\"12/Oregon\",\"1/Pennsylvania\",\"2/Pennsylvania\",\"3/Pennsylvania\",\"4/Pennsylvania\",\"5/Pennsylvania\",\"6/Pennsylvania\",\"7/Pennsylvania\",\"8/Pennsylvania\",\"9/Pennsylvania\",\"10/Pennsylvania\",\"11/Pennsylvania\",\"12/Pennsylvania\",\"2/Puerto Rico\",\"7/Puerto Rico\",\"12/Puerto Rico\",\"3/Rhode Island\",\"11/Rhode Island\",\"1/South Carolina\",\"2/South Carolina\",\"4/South Carolina\",\"8/South Carolina\",\"11/South Carolina\",\"1/Tennessee\",\"2/Tennessee\",\"3/Tennessee\",\"4/Tennessee\",\"5/Tennessee\",\"6/Tennessee\",\"7/Tennessee\",\"8/Tennessee\",\"9/Tennessee\",\"10/Tennessee\",\"11/Tennessee\",\"12/Tennessee\",\"1/Texas\",\"2/Texas\",\"3/Texas\",\"4/Texas\",\"5/Texas\",\"6/Texas\",\"7/Texas\",\"8/Texas\",\"9/Texas\",\"10/Texas\",\"11/Texas\",\"12/Texas\",\"5/U.S. Virgin Islands\",\"8/U.S. Virgin Islands\",\"12/U.S. Virgin Islands\",\"1/Utah\",\"2/Utah\",\"3/Utah\",\"5/Utah\",\"6/Utah\",\"7/Utah\",\"9/Utah\",\"11/Utah\",\"2/Virginia\",\"3/Virginia\",\"4/Virginia\",\"6/Virginia\",\"8/Virginia\",\"9/Virginia\",\"10/Virginia\",\"11/Virginia\",\"12/Virginia\",\"1/Washington\",\"2/Washington\",\"3/Washington\",\"4/Washington\",\"5/Washington\",\"6/Washington\",\"7/Washington\",\"8/Washington\",\"9/Washington\",\"11/Washington\",\"12/Washington\",\"1/Wisconsin\",\"2/Wisconsin\",\"3/Wisconsin\",\"5/Wisconsin\",\"7/Wisconsin\",\"8/Wisconsin\",\"10/Wisconsin\",\"11/Wisconsin\",\"12/Wisconsin\",\"1\",\"2\",\"3\",\"4\",\"5\",\"6\",\"7\",\"8\",\"9\",\"10\",\"11\",\"12\"],\"labels\":[\"Alabama\",\"Alabama\",\"Alabama\",\"Alaska\",\"Alaska\",\"Alaska\",\"Alaska\",\"Alaska\",\"Alaska\",\"Arizona\",\"Arizona\",\"Arizona\",\"Arizona\",\"Arizona\",\"Arizona\",\"Arizona\",\"Arizona\",\"Arizona\",\"Arkansas\",\"Arkansas\",\"California\",\"California\",\"California\",\"California\",\"California\",\"California\",\"California\",\"California\",\"California\",\"California\",\"California\",\"California\",\"Colorado\",\"Colorado\",\"Colorado\",\"Colorado\",\"Colorado\",\"Colorado\",\"Colorado\",\"Colorado\",\"Colorado\",\"Colorado\",\"Colorado\",\"Colorado\",\"Connecticut\",\"Connecticut\",\"Connecticut\",\"Connecticut\",\"Connecticut\",\"Florida\",\"Florida\",\"Florida\",\"Florida\",\"Florida\",\"Florida\",\"Florida\",\"Florida\",\"Florida\",\"Florida\",\"Florida\",\"Florida\",\"Georgia\",\"Georgia\",\"Georgia\",\"Georgia\",\"Georgia\",\"Georgia\",\"Georgia\",\"Georgia\",\"Georgia\",\"Georgia\",\"Georgia\",\"Georgia\",\"Hawaii\",\"Hawaii\",\"Hawaii\",\"Hawaii\",\"Hawaii\",\"Hawaii\",\"Hawaii\",\"Idaho\",\"Idaho\",\"Illinois\",\"Illinois\",\"Illinois\",\"Illinois\",\"Illinois\",\"Illinois\",\"Illinois\",\"Illinois\",\"Illinois\",\"Illinois\",\"Illinois\",\"Illinois\",\"Indiana\",\"Indiana\",\"Indiana\",\"Indiana\",\"Indiana\",\"Indiana\",\"Indiana\",\"Iowa\",\"Iowa\",\"Iowa\",\"Kansas\",\"Kentucky\",\"Kentucky\",\"Kentucky\",\"Kentucky\",\"Kentucky\",\"Kentucky\",\"Kentucky\",\"Kentucky\",\"Kentucky\",\"Kentucky\",\"Kentucky\",\"Louisiana\",\"Louisiana\",\"Louisiana\",\"Louisiana\",\"Louisiana\",\"Louisiana\",\"Louisiana\",\"Maine\",\"Maryland\",\"Maryland\",\"Maryland\",\"Maryland\",\"Maryland\",\"Maryland\",\"Maryland\",\"Massachusetts\",\"Massachusetts\",\"Massachusetts\",\"Massachusetts\",\"Massachusetts\",\"Massachusetts\",\"Massachusetts\",\"Massachusetts\",\"Massachusetts\",\"Massachusetts\",\"Michigan\",\"Michigan\",\"Michigan\",\"Michigan\",\"Michigan\",\"Michigan\",\"Michigan\",\"Michigan\",\"Michigan\",\"Michigan\",\"Michigan\",\"Michigan\",\"Minnesota\",\"Minnesota\",\"Minnesota\",\"Minnesota\",\"Minnesota\",\"Minnesota\",\"Minnesota\",\"Minnesota\",\"Mississippi\",\"Missouri\",\"Missouri\",\"Missouri\",\"Missouri\",\"Missouri\",\"Missouri\",\"Missouri\",\"Missouri\",\"Missouri\",\"Missouri\",\"Montana\",\"Montana\",\"Montana\",\"Nebraska\",\"Nebraska\",\"Nebraska\",\"Nevada\",\"Nevada\",\"Nevada\",\"Nevada\",\"Nevada\",\"Nevada\",\"Nevada\",\"Nevada\",\"Nevada\",\"Nevada\",\"Nevada\",\"Nevada\",\"New Hampshire\",\"New Jersey\",\"New Jersey\",\"New Jersey\",\"New Jersey\",\"New Jersey\",\"New Jersey\",\"New Jersey\",\"New Jersey\",\"New Jersey\",\"New Jersey\",\"New Jersey\",\"New Jersey\",\"New Mexico\",\"New Mexico\",\"New Mexico\",\"New Mexico\",\"New Mexico\",\"New Mexico\",\"New Mexico\",\"New York\",\"New York\",\"New York\",\"New York\",\"New York\",\"New York\",\"New York\",\"New York\",\"New York\",\"New York\",\"New York\",\"New York\",\"North Carolina\",\"North Carolina\",\"North Carolina\",\"North Carolina\",\"North Carolina\",\"North Carolina\",\"North Carolina\",\"North Carolina\",\"North Carolina\",\"North Carolina\",\"North Dakota\",\"North Dakota\",\"Ohio\",\"Ohio\",\"Ohio\",\"Ohio\",\"Ohio\",\"Ohio\",\"Ohio\",\"Ohio\",\"Ohio\",\"Oklahoma\",\"Oklahoma\",\"Oklahoma\",\"Oklahoma\",\"Oklahoma\",\"Oklahoma\",\"Oklahoma\",\"Oklahoma\",\"Oregon\",\"Oregon\",\"Oregon\",\"Oregon\",\"Oregon\",\"Oregon\",\"Oregon\",\"Pennsylvania\",\"Pennsylvania\",\"Pennsylvania\",\"Pennsylvania\",\"Pennsylvania\",\"Pennsylvania\",\"Pennsylvania\",\"Pennsylvania\",\"Pennsylvania\",\"Pennsylvania\",\"Pennsylvania\",\"Pennsylvania\",\"Puerto Rico\",\"Puerto Rico\",\"Puerto Rico\",\"Rhode Island\",\"Rhode Island\",\"South Carolina\",\"South Carolina\",\"South Carolina\",\"South Carolina\",\"South Carolina\",\"Tennessee\",\"Tennessee\",\"Tennessee\",\"Tennessee\",\"Tennessee\",\"Tennessee\",\"Tennessee\",\"Tennessee\",\"Tennessee\",\"Tennessee\",\"Tennessee\",\"Tennessee\",\"Texas\",\"Texas\",\"Texas\",\"Texas\",\"Texas\",\"Texas\",\"Texas\",\"Texas\",\"Texas\",\"Texas\",\"Texas\",\"Texas\",\"U.S. Virgin Islands\",\"U.S. Virgin Islands\",\"U.S. Virgin Islands\",\"Utah\",\"Utah\",\"Utah\",\"Utah\",\"Utah\",\"Utah\",\"Utah\",\"Utah\",\"Virginia\",\"Virginia\",\"Virginia\",\"Virginia\",\"Virginia\",\"Virginia\",\"Virginia\",\"Virginia\",\"Virginia\",\"Washington\",\"Washington\",\"Washington\",\"Washington\",\"Washington\",\"Washington\",\"Washington\",\"Washington\",\"Washington\",\"Washington\",\"Washington\",\"Wisconsin\",\"Wisconsin\",\"Wisconsin\",\"Wisconsin\",\"Wisconsin\",\"Wisconsin\",\"Wisconsin\",\"Wisconsin\",\"Wisconsin\",\"1\",\"2\",\"3\",\"4\",\"5\",\"6\",\"7\",\"8\",\"9\",\"10\",\"11\",\"12\"],\"name\":\"\",\"parents\":[\"6\",\"11\",\"12\",\"1\",\"3\",\"4\",\"6\",\"10\",\"11\",\"1\",\"5\",\"6\",\"7\",\"8\",\"9\",\"10\",\"11\",\"12\",\"5\",\"9\",\"1\",\"2\",\"3\",\"4\",\"5\",\"6\",\"7\",\"8\",\"9\",\"10\",\"11\",\"12\",\"1\",\"2\",\"3\",\"4\",\"5\",\"6\",\"7\",\"8\",\"9\",\"10\",\"11\",\"12\",\"1\",\"3\",\"6\",\"7\",\"8\",\"1\",\"2\",\"3\",\"4\",\"5\",\"6\",\"7\",\"8\",\"9\",\"10\",\"11\",\"12\",\"1\",\"2\",\"3\",\"4\",\"5\",\"6\",\"7\",\"8\",\"9\",\"10\",\"11\",\"12\",\"1\",\"3\",\"6\",\"7\",\"8\",\"9\",\"12\",\"2\",\"3\",\"1\",\"2\",\"3\",\"4\",\"5\",\"6\",\"7\",\"8\",\"9\",\"10\",\"11\",\"12\",\"1\",\"2\",\"5\",\"8\",\"9\",\"11\",\"12\",\"1\",\"4\",\"9\",\"10\",\"2\",\"3\",\"4\",\"5\",\"6\",\"7\",\"8\",\"9\",\"10\",\"11\",\"12\",\"1\",\"3\",\"5\",\"6\",\"9\",\"10\",\"11\",\"7\",\"1\",\"5\",\"6\",\"7\",\"8\",\"11\",\"12\",\"1\",\"3\",\"4\",\"6\",\"7\",\"8\",\"9\",\"10\",\"11\",\"12\",\"1\",\"2\",\"3\",\"4\",\"5\",\"6\",\"7\",\"8\",\"9\",\"10\",\"11\",\"12\",\"1\",\"4\",\"5\",\"7\",\"8\",\"9\",\"10\",\"12\",\"6\",\"2\",\"3\",\"4\",\"5\",\"6\",\"7\",\"8\",\"9\",\"11\",\"12\",\"3\",\"6\",\"12\",\"7\",\"9\",\"11\",\"1\",\"2\",\"3\",\"4\",\"5\",\"6\",\"7\",\"8\",\"9\",\"10\",\"11\",\"12\",\"3\",\"1\",\"2\",\"3\",\"4\",\"5\",\"6\",\"7\",\"8\",\"9\",\"10\",\"11\",\"12\",\"1\",\"2\",\"4\",\"5\",\"8\",\"10\",\"12\",\"1\",\"2\",\"3\",\"4\",\"5\",\"6\",\"7\",\"8\",\"9\",\"10\",\"11\",\"12\",\"2\",\"3\",\"4\",\"5\",\"6\",\"7\",\"9\",\"10\",\"11\",\"12\",\"9\",\"12\",\"2\",\"3\",\"4\",\"5\",\"6\",\"9\",\"10\",\"11\",\"12\",\"1\",\"2\",\"4\",\"5\",\"6\",\"8\",\"9\",\"11\",\"3\",\"4\",\"6\",\"8\",\"9\",\"10\",\"12\",\"1\",\"2\",\"3\",\"4\",\"5\",\"6\",\"7\",\"8\",\"9\",\"10\",\"11\",\"12\",\"2\",\"7\",\"12\",\"3\",\"11\",\"1\",\"2\",\"4\",\"8\",\"11\",\"1\",\"2\",\"3\",\"4\",\"5\",\"6\",\"7\",\"8\",\"9\",\"10\",\"11\",\"12\",\"1\",\"2\",\"3\",\"4\",\"5\",\"6\",\"7\",\"8\",\"9\",\"10\",\"11\",\"12\",\"5\",\"8\",\"12\",\"1\",\"2\",\"3\",\"5\",\"6\",\"7\",\"9\",\"11\",\"2\",\"3\",\"4\",\"6\",\"8\",\"9\",\"10\",\"11\",\"12\",\"1\",\"2\",\"3\",\"4\",\"5\",\"6\",\"7\",\"8\",\"9\",\"11\",\"12\",\"1\",\"2\",\"3\",\"5\",\"7\",\"8\",\"10\",\"11\",\"12\",\"\",\"\",\"\",\"\",\"\",\"\",\"\",\"\",\"\",\"\",\"\",\"\"],\"values\":[1.0,2.0,2.0,1.0,1.0,1.0,1.0,1.0,1.0,3.0,2.0,2.0,2.0,4.0,1.0,1.0,2.0,3.0,1.0,1.0,9.0,10.0,11.0,17.0,12.0,6.0,11.0,12.0,10.0,6.0,8.0,10.0,2.0,3.0,3.0,1.0,2.0,3.0,5.0,5.0,2.0,1.0,4.0,3.0,1.0,1.0,1.0,2.0,1.0,7.0,5.0,5.0,10.0,3.0,2.0,11.0,5.0,6.0,8.0,5.0,8.0,2.0,2.0,8.0,3.0,4.0,4.0,9.0,6.0,5.0,3.0,3.0,8.0,1.0,2.0,1.0,2.0,2.0,2.0,1.0,1.0,1.0,7.0,4.0,5.0,7.0,6.0,4.0,6.0,6.0,6.0,7.0,7.0,2.0,2.0,2.0,3.0,1.0,2.0,2.0,1.0,1.0,2.0,2.0,1.0,2.0,5.0,3.0,1.0,3.0,4.0,1.0,1.0,2.0,1.0,2.0,1.0,1.0,1.0,2.0,1.0,1.0,2.0,1.0,1.0,1.0,3.0,2.0,1.0,1.0,3.0,4.0,1.0,1.0,1.0,2.0,2.0,1.0,1.0,1.0,5.0,1.0,2.0,4.0,4.0,1.0,3.0,2.0,1.0,2.0,2.0,3.0,6.0,1.0,3.0,3.0,2.0,2.0,1.0,2.0,3.0,1.0,1.0,2.0,4.0,4.0,1.0,3.0,3.0,3.0,3.0,3.0,2.0,1.0,2.0,1.0,1.0,1.0,1.0,1.0,3.0,2.0,1.0,2.0,2.0,3.0,3.0,1.0,3.0,1.0,1.0,2.0,2.0,1.0,2.0,2.0,1.0,4.0,1.0,1.0,3.0,2.0,1.0,1.0,3.0,1.0,2.0,1.0,1.0,1.0,4.0,2.0,3.0,2.0,5.0,3.0,3.0,7.0,3.0,3.0,2.0,5.0,5.0,2.0,1.0,2.0,3.0,2.0,7.0,4.0,5.0,4.0,1.0,1.0,1.0,1.0,4.0,6.0,2.0,2.0,3.0,1.0,1.0,1.0,1.0,2.0,1.0,1.0,2.0,2.0,1.0,1.0,1.0,1.0,3.0,1.0,2.0,1.0,6.0,1.0,1.0,3.0,6.0,1.0,3.0,2.0,3.0,3.0,2.0,3.0,2.0,1.0,1.0,1.0,1.0,2.0,1.0,1.0,1.0,1.0,2.0,1.0,1.0,1.0,3.0,2.0,2.0,3.0,2.0,4.0,3.0,1.0,8.0,9.0,10.0,13.0,8.0,9.0,7.0,9.0,7.0,7.0,11.0,13.0,1.0,1.0,1.0,2.0,2.0,1.0,2.0,2.0,1.0,1.0,1.0,2.0,1.0,2.0,2.0,3.0,3.0,2.0,3.0,3.0,1.0,1.0,1.0,3.0,1.0,3.0,1.0,2.0,1.0,1.0,1.0,1.0,2.0,1.0,2.0,2.0,1.0,2.0,1.0,1.0,75.0,68.0,81.0,94.0,86.0,72.0,93.0,91.0,84.0,71.0,84.0,101.0],\"type\":\"sunburst\"}],                        {\"template\":{\"data\":{\"histogram2dcontour\":[{\"type\":\"histogram2dcontour\",\"colorbar\":{\"outlinewidth\":0,\"ticks\":\"\"},\"colorscale\":[[0.0,\"#0d0887\"],[0.1111111111111111,\"#46039f\"],[0.2222222222222222,\"#7201a8\"],[0.3333333333333333,\"#9c179e\"],[0.4444444444444444,\"#bd3786\"],[0.5555555555555556,\"#d8576b\"],[0.6666666666666666,\"#ed7953\"],[0.7777777777777778,\"#fb9f3a\"],[0.8888888888888888,\"#fdca26\"],[1.0,\"#f0f921\"]]}],\"choropleth\":[{\"type\":\"choropleth\",\"colorbar\":{\"outlinewidth\":0,\"ticks\":\"\"}}],\"histogram2d\":[{\"type\":\"histogram2d\",\"colorbar\":{\"outlinewidth\":0,\"ticks\":\"\"},\"colorscale\":[[0.0,\"#0d0887\"],[0.1111111111111111,\"#46039f\"],[0.2222222222222222,\"#7201a8\"],[0.3333333333333333,\"#9c179e\"],[0.4444444444444444,\"#bd3786\"],[0.5555555555555556,\"#d8576b\"],[0.6666666666666666,\"#ed7953\"],[0.7777777777777778,\"#fb9f3a\"],[0.8888888888888888,\"#fdca26\"],[1.0,\"#f0f921\"]]}],\"heatmap\":[{\"type\":\"heatmap\",\"colorbar\":{\"outlinewidth\":0,\"ticks\":\"\"},\"colorscale\":[[0.0,\"#0d0887\"],[0.1111111111111111,\"#46039f\"],[0.2222222222222222,\"#7201a8\"],[0.3333333333333333,\"#9c179e\"],[0.4444444444444444,\"#bd3786\"],[0.5555555555555556,\"#d8576b\"],[0.6666666666666666,\"#ed7953\"],[0.7777777777777778,\"#fb9f3a\"],[0.8888888888888888,\"#fdca26\"],[1.0,\"#f0f921\"]]}],\"heatmapgl\":[{\"type\":\"heatmapgl\",\"colorbar\":{\"outlinewidth\":0,\"ticks\":\"\"},\"colorscale\":[[0.0,\"#0d0887\"],[0.1111111111111111,\"#46039f\"],[0.2222222222222222,\"#7201a8\"],[0.3333333333333333,\"#9c179e\"],[0.4444444444444444,\"#bd3786\"],[0.5555555555555556,\"#d8576b\"],[0.6666666666666666,\"#ed7953\"],[0.7777777777777778,\"#fb9f3a\"],[0.8888888888888888,\"#fdca26\"],[1.0,\"#f0f921\"]]}],\"contourcarpet\":[{\"type\":\"contourcarpet\",\"colorbar\":{\"outlinewidth\":0,\"ticks\":\"\"}}],\"contour\":[{\"type\":\"contour\",\"colorbar\":{\"outlinewidth\":0,\"ticks\":\"\"},\"colorscale\":[[0.0,\"#0d0887\"],[0.1111111111111111,\"#46039f\"],[0.2222222222222222,\"#7201a8\"],[0.3333333333333333,\"#9c179e\"],[0.4444444444444444,\"#bd3786\"],[0.5555555555555556,\"#d8576b\"],[0.6666666666666666,\"#ed7953\"],[0.7777777777777778,\"#fb9f3a\"],[0.8888888888888888,\"#fdca26\"],[1.0,\"#f0f921\"]]}],\"surface\":[{\"type\":\"surface\",\"colorbar\":{\"outlinewidth\":0,\"ticks\":\"\"},\"colorscale\":[[0.0,\"#0d0887\"],[0.1111111111111111,\"#46039f\"],[0.2222222222222222,\"#7201a8\"],[0.3333333333333333,\"#9c179e\"],[0.4444444444444444,\"#bd3786\"],[0.5555555555555556,\"#d8576b\"],[0.6666666666666666,\"#ed7953\"],[0.7777777777777778,\"#fb9f3a\"],[0.8888888888888888,\"#fdca26\"],[1.0,\"#f0f921\"]]}],\"mesh3d\":[{\"type\":\"mesh3d\",\"colorbar\":{\"outlinewidth\":0,\"ticks\":\"\"}}],\"scatter\":[{\"fillpattern\":{\"fillmode\":\"overlay\",\"size\":10,\"solidity\":0.2},\"type\":\"scatter\"}],\"parcoords\":[{\"type\":\"parcoords\",\"line\":{\"colorbar\":{\"outlinewidth\":0,\"ticks\":\"\"}}}],\"scatterpolargl\":[{\"type\":\"scatterpolargl\",\"marker\":{\"colorbar\":{\"outlinewidth\":0,\"ticks\":\"\"}}}],\"bar\":[{\"error_x\":{\"color\":\"#2a3f5f\"},\"error_y\":{\"color\":\"#2a3f5f\"},\"marker\":{\"line\":{\"color\":\"#E5ECF6\",\"width\":0.5},\"pattern\":{\"fillmode\":\"overlay\",\"size\":10,\"solidity\":0.2}},\"type\":\"bar\"}],\"scattergeo\":[{\"type\":\"scattergeo\",\"marker\":{\"colorbar\":{\"outlinewidth\":0,\"ticks\":\"\"}}}],\"scatterpolar\":[{\"type\":\"scatterpolar\",\"marker\":{\"colorbar\":{\"outlinewidth\":0,\"ticks\":\"\"}}}],\"histogram\":[{\"marker\":{\"pattern\":{\"fillmode\":\"overlay\",\"size\":10,\"solidity\":0.2}},\"type\":\"histogram\"}],\"scattergl\":[{\"type\":\"scattergl\",\"marker\":{\"colorbar\":{\"outlinewidth\":0,\"ticks\":\"\"}}}],\"scatter3d\":[{\"type\":\"scatter3d\",\"line\":{\"colorbar\":{\"outlinewidth\":0,\"ticks\":\"\"}},\"marker\":{\"colorbar\":{\"outlinewidth\":0,\"ticks\":\"\"}}}],\"scattermapbox\":[{\"type\":\"scattermapbox\",\"marker\":{\"colorbar\":{\"outlinewidth\":0,\"ticks\":\"\"}}}],\"scatterternary\":[{\"type\":\"scatterternary\",\"marker\":{\"colorbar\":{\"outlinewidth\":0,\"ticks\":\"\"}}}],\"scattercarpet\":[{\"type\":\"scattercarpet\",\"marker\":{\"colorbar\":{\"outlinewidth\":0,\"ticks\":\"\"}}}],\"carpet\":[{\"aaxis\":{\"endlinecolor\":\"#2a3f5f\",\"gridcolor\":\"white\",\"linecolor\":\"white\",\"minorgridcolor\":\"white\",\"startlinecolor\":\"#2a3f5f\"},\"baxis\":{\"endlinecolor\":\"#2a3f5f\",\"gridcolor\":\"white\",\"linecolor\":\"white\",\"minorgridcolor\":\"white\",\"startlinecolor\":\"#2a3f5f\"},\"type\":\"carpet\"}],\"table\":[{\"cells\":{\"fill\":{\"color\":\"#EBF0F8\"},\"line\":{\"color\":\"white\"}},\"header\":{\"fill\":{\"color\":\"#C8D4E3\"},\"line\":{\"color\":\"white\"}},\"type\":\"table\"}],\"barpolar\":[{\"marker\":{\"line\":{\"color\":\"#E5ECF6\",\"width\":0.5},\"pattern\":{\"fillmode\":\"overlay\",\"size\":10,\"solidity\":0.2}},\"type\":\"barpolar\"}],\"pie\":[{\"automargin\":true,\"type\":\"pie\"}]},\"layout\":{\"autotypenumbers\":\"strict\",\"colorway\":[\"#636efa\",\"#EF553B\",\"#00cc96\",\"#ab63fa\",\"#FFA15A\",\"#19d3f3\",\"#FF6692\",\"#B6E880\",\"#FF97FF\",\"#FECB52\"],\"font\":{\"color\":\"#2a3f5f\"},\"hovermode\":\"closest\",\"hoverlabel\":{\"align\":\"left\"},\"paper_bgcolor\":\"white\",\"plot_bgcolor\":\"#E5ECF6\",\"polar\":{\"bgcolor\":\"#E5ECF6\",\"angularaxis\":{\"gridcolor\":\"white\",\"linecolor\":\"white\",\"ticks\":\"\"},\"radialaxis\":{\"gridcolor\":\"white\",\"linecolor\":\"white\",\"ticks\":\"\"}},\"ternary\":{\"bgcolor\":\"#E5ECF6\",\"aaxis\":{\"gridcolor\":\"white\",\"linecolor\":\"white\",\"ticks\":\"\"},\"baxis\":{\"gridcolor\":\"white\",\"linecolor\":\"white\",\"ticks\":\"\"},\"caxis\":{\"gridcolor\":\"white\",\"linecolor\":\"white\",\"ticks\":\"\"}},\"coloraxis\":{\"colorbar\":{\"outlinewidth\":0,\"ticks\":\"\"}},\"colorscale\":{\"sequential\":[[0.0,\"#0d0887\"],[0.1111111111111111,\"#46039f\"],[0.2222222222222222,\"#7201a8\"],[0.3333333333333333,\"#9c179e\"],[0.4444444444444444,\"#bd3786\"],[0.5555555555555556,\"#d8576b\"],[0.6666666666666666,\"#ed7953\"],[0.7777777777777778,\"#fb9f3a\"],[0.8888888888888888,\"#fdca26\"],[1.0,\"#f0f921\"]],\"sequentialminus\":[[0.0,\"#0d0887\"],[0.1111111111111111,\"#46039f\"],[0.2222222222222222,\"#7201a8\"],[0.3333333333333333,\"#9c179e\"],[0.4444444444444444,\"#bd3786\"],[0.5555555555555556,\"#d8576b\"],[0.6666666666666666,\"#ed7953\"],[0.7777777777777778,\"#fb9f3a\"],[0.8888888888888888,\"#fdca26\"],[1.0,\"#f0f921\"]],\"diverging\":[[0,\"#8e0152\"],[0.1,\"#c51b7d\"],[0.2,\"#de77ae\"],[0.3,\"#f1b6da\"],[0.4,\"#fde0ef\"],[0.5,\"#f7f7f7\"],[0.6,\"#e6f5d0\"],[0.7,\"#b8e186\"],[0.8,\"#7fbc41\"],[0.9,\"#4d9221\"],[1,\"#276419\"]]},\"xaxis\":{\"gridcolor\":\"white\",\"linecolor\":\"white\",\"ticks\":\"\",\"title\":{\"standoff\":15},\"zerolinecolor\":\"white\",\"automargin\":true,\"zerolinewidth\":2},\"yaxis\":{\"gridcolor\":\"white\",\"linecolor\":\"white\",\"ticks\":\"\",\"title\":{\"standoff\":15},\"zerolinecolor\":\"white\",\"automargin\":true,\"zerolinewidth\":2},\"scene\":{\"xaxis\":{\"backgroundcolor\":\"#E5ECF6\",\"gridcolor\":\"white\",\"linecolor\":\"white\",\"showbackground\":true,\"ticks\":\"\",\"zerolinecolor\":\"white\",\"gridwidth\":2},\"yaxis\":{\"backgroundcolor\":\"#E5ECF6\",\"gridcolor\":\"white\",\"linecolor\":\"white\",\"showbackground\":true,\"ticks\":\"\",\"zerolinecolor\":\"white\",\"gridwidth\":2},\"zaxis\":{\"backgroundcolor\":\"#E5ECF6\",\"gridcolor\":\"white\",\"linecolor\":\"white\",\"showbackground\":true,\"ticks\":\"\",\"zerolinecolor\":\"white\",\"gridwidth\":2}},\"shapedefaults\":{\"line\":{\"color\":\"#2a3f5f\"}},\"annotationdefaults\":{\"arrowcolor\":\"#2a3f5f\",\"arrowhead\":0,\"arrowwidth\":1},\"geo\":{\"bgcolor\":\"white\",\"landcolor\":\"#E5ECF6\",\"subunitcolor\":\"white\",\"showland\":true,\"showlakes\":true,\"lakecolor\":\"white\"},\"title\":{\"x\":0.05},\"mapbox\":{\"style\":\"light\"}}},\"legend\":{\"tracegroupgap\":0},\"margin\":{\"t\":60}},                        {\"responsive\": true}                    ).then(function(){\n",
       "                            \n",
       "var gd = document.getElementById('66f7af54-a584-4f71-87dc-b94305387e4e');\n",
       "var x = new MutationObserver(function (mutations, observer) {{\n",
       "        var display = window.getComputedStyle(gd).display;\n",
       "        if (!display || display === 'none') {{\n",
       "            console.log([gd, 'removed!']);\n",
       "            Plotly.purge(gd);\n",
       "            observer.disconnect();\n",
       "        }}\n",
       "}});\n",
       "\n",
       "// Listen for the removal of the full notebook cells\n",
       "var notebookContainer = gd.closest('#notebook-container');\n",
       "if (notebookContainer) {{\n",
       "    x.observe(notebookContainer, {childList: true});\n",
       "}}\n",
       "\n",
       "// Listen for the clearing of the current output cell\n",
       "var outputEl = gd.closest('.output');\n",
       "if (outputEl) {{\n",
       "    x.observe(outputEl, {childList: true});\n",
       "}}\n",
       "\n",
       "                        })                };                });            </script>        </div>"
      ]
     },
     "metadata": {},
     "output_type": "display_data"
    }
   ],
   "source": [
    "fig = px.sunburst(df,path=['Month','DestStateName'],values='Flights')\n",
    "fig.show()"
   ]
  }
 ],
 "metadata": {
  "kernelspec": {
   "display_name": "Python 3",
   "language": "python",
   "name": "python3"
  },
  "language_info": {
   "codemirror_mode": {
    "name": "ipython",
    "version": 3
   },
   "file_extension": ".py",
   "mimetype": "text/x-python",
   "name": "python",
   "nbconvert_exporter": "python",
   "pygments_lexer": "ipython3",
   "version": "3.8.8"
  }
 },
 "nbformat": 4,
 "nbformat_minor": 5
}
